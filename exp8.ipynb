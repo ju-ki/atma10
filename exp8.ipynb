{
  "nbformat": 4,
  "nbformat_minor": 0,
  "metadata": {
    "colab": {
      "name": "exp8.ipynb",
      "provenance": [],
      "mount_file_id": "1Rc9n0D03powP1lRMJQweYuEP5fKiheBR",
      "authorship_tag": "ABX9TyPvqZgaLtut0xQTlWXkyzJ1",
      "include_colab_link": true
    },
    "kernelspec": {
      "name": "python3",
      "display_name": "Python 3"
    }
  },
  "cells": [
    {
      "cell_type": "markdown",
      "metadata": {
        "id": "view-in-github",
        "colab_type": "text"
      },
      "source": [
        "<a href=\"https://colab.research.google.com/github/ju-ki/atma10/blob/master/exp8.ipynb\" target=\"_parent\"><img src=\"https://colab.research.google.com/assets/colab-badge.svg\" alt=\"Open In Colab\"/></a>"
      ]
    },
    {
      "cell_type": "code",
      "metadata": {
        "colab": {
          "base_uri": "https://localhost:8080/"
        },
        "id": "vILuUuralGr0",
        "outputId": "dc869fac-1cd0-4aa6-c7e7-7cd433a3fc89"
      },
      "source": [
        "from google.colab import drive\n",
        "drive.mount(\"/content/drive/\")"
      ],
      "execution_count": 1,
      "outputs": [
        {
          "output_type": "stream",
          "text": [
            "Drive already mounted at /content/drive/; to attempt to forcibly remount, call drive.mount(\"/content/drive/\", force_remount=True).\n"
          ],
          "name": "stdout"
        }
      ]
    },
    {
      "cell_type": "code",
      "metadata": {
        "colab": {
          "base_uri": "https://localhost:8080/"
        },
        "id": "1SY-6UnBn0Zh",
        "outputId": "f0a7954d-8955-4dc8-d280-e4f2440e745d"
      },
      "source": [
        "!git clone https://github.com/facebookresearch/fastText.git\n",
        "!pip install fastText xfeat category_encoders texthero  umap transformers MulticoreTSNE\n",
        "!rm -rf fastText"
      ],
      "execution_count": 2,
      "outputs": [
        {
          "output_type": "stream",
          "text": [
            "Cloning into 'fastText'...\n",
            "remote: Enumerating objects: 3854, done.\u001b[K\n",
            "remote: Total 3854 (delta 0), reused 0 (delta 0), pack-reused 3854\u001b[K\n",
            "Receiving objects: 100% (3854/3854), 8.22 MiB | 29.35 MiB/s, done.\n",
            "Resolving deltas: 100% (2417/2417), done.\n",
            "Requirement already satisfied: fastText in /usr/local/lib/python3.7/dist-packages (0.9.2)\n",
            "Requirement already satisfied: xfeat in /usr/local/lib/python3.7/dist-packages (0.1.1)\n",
            "Requirement already satisfied: category_encoders in /usr/local/lib/python3.7/dist-packages (2.2.2)\n",
            "Requirement already satisfied: texthero in /usr/local/lib/python3.7/dist-packages (1.0.9)\n",
            "Requirement already satisfied: umap in /usr/local/lib/python3.7/dist-packages (0.1.1)\n",
            "Requirement already satisfied: transformers in /usr/local/lib/python3.7/dist-packages (4.3.3)\n",
            "Requirement already satisfied: MulticoreTSNE in /usr/local/lib/python3.7/dist-packages (0.1)\n",
            "Requirement already satisfied: setuptools>=0.7.0 in /usr/local/lib/python3.7/dist-packages (from fastText) (54.0.0)\n",
            "Requirement already satisfied: numpy in /usr/local/lib/python3.7/dist-packages (from fastText) (1.19.5)\n",
            "Requirement already satisfied: pybind11>=2.2 in /usr/local/lib/python3.7/dist-packages (from fastText) (2.6.2)\n",
            "Requirement already satisfied: lightgbm in /usr/local/lib/python3.7/dist-packages (from xfeat) (2.2.3)\n",
            "Requirement already satisfied: optuna>=1.3.0 in /usr/local/lib/python3.7/dist-packages (from xfeat) (2.6.0)\n",
            "Requirement already satisfied: pyarrow in /usr/local/lib/python3.7/dist-packages (from xfeat) (3.0.0)\n",
            "Requirement already satisfied: scikit-learn in /usr/local/lib/python3.7/dist-packages (from xfeat) (0.22.2.post1)\n",
            "Requirement already satisfied: PyYAML in /usr/local/lib/python3.7/dist-packages (from xfeat) (3.13)\n",
            "Requirement already satisfied: ml-metrics in /usr/local/lib/python3.7/dist-packages (from xfeat) (0.1.4)\n",
            "Requirement already satisfied: patsy>=0.5.1 in /usr/local/lib/python3.7/dist-packages (from category_encoders) (0.5.1)\n",
            "Requirement already satisfied: pandas>=0.21.1 in /usr/local/lib/python3.7/dist-packages (from category_encoders) (1.1.5)\n",
            "Requirement already satisfied: statsmodels>=0.9.0 in /usr/local/lib/python3.7/dist-packages (from category_encoders) (0.10.2)\n",
            "Requirement already satisfied: scipy>=1.0.0 in /usr/local/lib/python3.7/dist-packages (from category_encoders) (1.4.1)\n",
            "Requirement already satisfied: nltk>=3.3 in /usr/local/lib/python3.7/dist-packages (from texthero) (3.5)\n",
            "Requirement already satisfied: plotly>=4.2.0 in /usr/local/lib/python3.7/dist-packages (from texthero) (4.4.1)\n",
            "Requirement already satisfied: unidecode>=1.1.1 in /usr/local/lib/python3.7/dist-packages (from texthero) (1.2.0)\n",
            "Requirement already satisfied: wordcloud>=1.5.0 in /usr/local/lib/python3.7/dist-packages (from texthero) (1.5.0)\n",
            "Requirement already satisfied: matplotlib>=3.1.0 in /usr/local/lib/python3.7/dist-packages (from texthero) (3.2.2)\n",
            "Requirement already satisfied: gensim>=3.6.0 in /usr/local/lib/python3.7/dist-packages (from texthero) (3.6.0)\n",
            "Requirement already satisfied: spacy>=2.2.2 in /usr/local/lib/python3.7/dist-packages (from texthero) (2.2.4)\n",
            "Requirement already satisfied: tqdm>=4.3 in /usr/local/lib/python3.7/dist-packages (from texthero) (4.41.1)\n",
            "Requirement already satisfied: packaging in /usr/local/lib/python3.7/dist-packages (from transformers) (20.9)\n",
            "Requirement already satisfied: regex!=2019.12.17 in /usr/local/lib/python3.7/dist-packages (from transformers) (2019.12.20)\n",
            "Requirement already satisfied: filelock in /usr/local/lib/python3.7/dist-packages (from transformers) (3.0.12)\n",
            "Requirement already satisfied: tokenizers<0.11,>=0.10.1 in /usr/local/lib/python3.7/dist-packages (from transformers) (0.10.1)\n",
            "Requirement already satisfied: importlib-metadata; python_version < \"3.8\" in /usr/local/lib/python3.7/dist-packages (from transformers) (3.7.0)\n",
            "Requirement already satisfied: sacremoses in /usr/local/lib/python3.7/dist-packages (from transformers) (0.0.43)\n",
            "Requirement already satisfied: requests in /usr/local/lib/python3.7/dist-packages (from transformers) (2.23.0)\n",
            "Requirement already satisfied: cffi in /usr/local/lib/python3.7/dist-packages (from MulticoreTSNE) (1.14.5)\n",
            "Requirement already satisfied: alembic in /usr/local/lib/python3.7/dist-packages (from optuna>=1.3.0->xfeat) (1.5.7)\n",
            "Requirement already satisfied: sqlalchemy>=1.1.0 in /usr/local/lib/python3.7/dist-packages (from optuna>=1.3.0->xfeat) (1.3.23)\n",
            "Requirement already satisfied: cmaes>=0.8.2 in /usr/local/lib/python3.7/dist-packages (from optuna>=1.3.0->xfeat) (0.8.2)\n",
            "Requirement already satisfied: cliff in /usr/local/lib/python3.7/dist-packages (from optuna>=1.3.0->xfeat) (3.7.0)\n",
            "Requirement already satisfied: colorlog in /usr/local/lib/python3.7/dist-packages (from optuna>=1.3.0->xfeat) (4.7.2)\n",
            "Requirement already satisfied: joblib>=0.11 in /usr/local/lib/python3.7/dist-packages (from scikit-learn->xfeat) (1.0.1)\n",
            "Requirement already satisfied: six in /usr/local/lib/python3.7/dist-packages (from patsy>=0.5.1->category_encoders) (1.15.0)\n",
            "Requirement already satisfied: pytz>=2017.2 in /usr/local/lib/python3.7/dist-packages (from pandas>=0.21.1->category_encoders) (2018.9)\n",
            "Requirement already satisfied: python-dateutil>=2.7.3 in /usr/local/lib/python3.7/dist-packages (from pandas>=0.21.1->category_encoders) (2.8.1)\n",
            "Requirement already satisfied: click in /usr/local/lib/python3.7/dist-packages (from nltk>=3.3->texthero) (7.1.2)\n",
            "Requirement already satisfied: retrying>=1.3.3 in /usr/local/lib/python3.7/dist-packages (from plotly>=4.2.0->texthero) (1.3.3)\n",
            "Requirement already satisfied: pillow in /usr/local/lib/python3.7/dist-packages (from wordcloud>=1.5.0->texthero) (7.0.0)\n",
            "Requirement already satisfied: cycler>=0.10 in /usr/local/lib/python3.7/dist-packages (from matplotlib>=3.1.0->texthero) (0.10.0)\n",
            "Requirement already satisfied: pyparsing!=2.0.4,!=2.1.2,!=2.1.6,>=2.0.1 in /usr/local/lib/python3.7/dist-packages (from matplotlib>=3.1.0->texthero) (2.4.7)\n",
            "Requirement already satisfied: kiwisolver>=1.0.1 in /usr/local/lib/python3.7/dist-packages (from matplotlib>=3.1.0->texthero) (1.3.1)\n",
            "Requirement already satisfied: smart-open>=1.2.1 in /usr/local/lib/python3.7/dist-packages (from gensim>=3.6.0->texthero) (4.2.0)\n",
            "Requirement already satisfied: plac<1.2.0,>=0.9.6 in /usr/local/lib/python3.7/dist-packages (from spacy>=2.2.2->texthero) (1.1.3)\n",
            "Requirement already satisfied: blis<0.5.0,>=0.4.0 in /usr/local/lib/python3.7/dist-packages (from spacy>=2.2.2->texthero) (0.4.1)\n",
            "Requirement already satisfied: cymem<2.1.0,>=2.0.2 in /usr/local/lib/python3.7/dist-packages (from spacy>=2.2.2->texthero) (2.0.5)\n",
            "Requirement already satisfied: murmurhash<1.1.0,>=0.28.0 in /usr/local/lib/python3.7/dist-packages (from spacy>=2.2.2->texthero) (1.0.5)\n",
            "Requirement already satisfied: thinc==7.4.0 in /usr/local/lib/python3.7/dist-packages (from spacy>=2.2.2->texthero) (7.4.0)\n",
            "Requirement already satisfied: wasabi<1.1.0,>=0.4.0 in /usr/local/lib/python3.7/dist-packages (from spacy>=2.2.2->texthero) (0.8.2)\n",
            "Requirement already satisfied: preshed<3.1.0,>=3.0.2 in /usr/local/lib/python3.7/dist-packages (from spacy>=2.2.2->texthero) (3.0.5)\n",
            "Requirement already satisfied: srsly<1.1.0,>=1.0.2 in /usr/local/lib/python3.7/dist-packages (from spacy>=2.2.2->texthero) (1.0.5)\n",
            "Requirement already satisfied: catalogue<1.1.0,>=0.0.7 in /usr/local/lib/python3.7/dist-packages (from spacy>=2.2.2->texthero) (1.0.0)\n",
            "Requirement already satisfied: zipp>=0.5 in /usr/local/lib/python3.7/dist-packages (from importlib-metadata; python_version < \"3.8\"->transformers) (3.4.1)\n",
            "Requirement already satisfied: typing-extensions>=3.6.4; python_version < \"3.8\" in /usr/local/lib/python3.7/dist-packages (from importlib-metadata; python_version < \"3.8\"->transformers) (3.7.4.3)\n",
            "Requirement already satisfied: certifi>=2017.4.17 in /usr/local/lib/python3.7/dist-packages (from requests->transformers) (2020.12.5)\n",
            "Requirement already satisfied: chardet<4,>=3.0.2 in /usr/local/lib/python3.7/dist-packages (from requests->transformers) (3.0.4)\n",
            "Requirement already satisfied: idna<3,>=2.5 in /usr/local/lib/python3.7/dist-packages (from requests->transformers) (2.10)\n",
            "Requirement already satisfied: urllib3!=1.25.0,!=1.25.1,<1.26,>=1.21.1 in /usr/local/lib/python3.7/dist-packages (from requests->transformers) (1.24.3)\n",
            "Requirement already satisfied: pycparser in /usr/local/lib/python3.7/dist-packages (from cffi->MulticoreTSNE) (2.20)\n",
            "Requirement already satisfied: Mako in /usr/local/lib/python3.7/dist-packages (from alembic->optuna>=1.3.0->xfeat) (1.1.4)\n",
            "Requirement already satisfied: python-editor>=0.3 in /usr/local/lib/python3.7/dist-packages (from alembic->optuna>=1.3.0->xfeat) (1.0.4)\n",
            "Requirement already satisfied: cmd2>=1.0.0 in /usr/local/lib/python3.7/dist-packages (from cliff->optuna>=1.3.0->xfeat) (1.5.0)\n",
            "Requirement already satisfied: PrettyTable>=0.7.2 in /usr/local/lib/python3.7/dist-packages (from cliff->optuna>=1.3.0->xfeat) (2.1.0)\n",
            "Requirement already satisfied: stevedore>=2.0.1 in /usr/local/lib/python3.7/dist-packages (from cliff->optuna>=1.3.0->xfeat) (3.3.0)\n",
            "Requirement already satisfied: pbr!=2.1.0,>=2.0.0 in /usr/local/lib/python3.7/dist-packages (from cliff->optuna>=1.3.0->xfeat) (5.5.1)\n",
            "Requirement already satisfied: MarkupSafe>=0.9.2 in /usr/local/lib/python3.7/dist-packages (from Mako->alembic->optuna>=1.3.0->xfeat) (1.1.1)\n",
            "Requirement already satisfied: wcwidth>=0.1.7 in /usr/local/lib/python3.7/dist-packages (from cmd2>=1.0.0->cliff->optuna>=1.3.0->xfeat) (0.2.5)\n",
            "Requirement already satisfied: colorama>=0.3.7 in /usr/local/lib/python3.7/dist-packages (from cmd2>=1.0.0->cliff->optuna>=1.3.0->xfeat) (0.4.4)\n",
            "Requirement already satisfied: pyperclip>=1.6 in /usr/local/lib/python3.7/dist-packages (from cmd2>=1.0.0->cliff->optuna>=1.3.0->xfeat) (1.8.2)\n",
            "Requirement already satisfied: attrs>=16.3.0 in /usr/local/lib/python3.7/dist-packages (from cmd2>=1.0.0->cliff->optuna>=1.3.0->xfeat) (20.3.0)\n"
          ],
          "name": "stdout"
        }
      ]
    },
    {
      "cell_type": "code",
      "metadata": {
        "colab": {
          "base_uri": "https://localhost:8080/"
        },
        "id": "CZFNInS4nAub",
        "outputId": "1e3cb8fd-a152-44e8-cb59-2fd2eef8018e"
      },
      "source": [
        "import os \n",
        "import glob \n",
        "import numpy as np\n",
        "import pandas as pd\n",
        "import matplotlib.pyplot as plt\n",
        "import seaborn as sns\n",
        "import texthero as hero\n",
        "from fasttext import load_model\n",
        "from tqdm import tqdm\n",
        "tqdm.pandas()\n",
        "\n",
        "sns.set()\n",
        "CODE_PATH = \"/content/drive/MyDrive/atmacup10/code/\"\n",
        "INPUT_PATH = \"/content/drive/MyDrive/atmacup10/data/raw/\"\n",
        "OUTPUT_PATH = \"/content/drive/MyDrive/atmacup10/data/submission/\"\n",
        "\n",
        "from typing import Tuple\n",
        "from pprint import pprint\n",
        "from PIL import ImageColor\n",
        "import colorsys"
      ],
      "execution_count": 3,
      "outputs": [
        {
          "output_type": "stream",
          "text": [
            "/usr/local/lib/python3.7/dist-packages/tqdm/std.py:658: FutureWarning:\n",
            "\n",
            "The Panel class is removed from pandas. Accessing it from the top-level namespace will also be removed in the next version\n",
            "\n"
          ],
          "name": "stderr"
        }
      ]
    },
    {
      "cell_type": "code",
      "metadata": {
        "colab": {
          "base_uri": "https://localhost:8080/"
        },
        "id": "jFO920IknUqa",
        "outputId": "3a9d08c4-3f03-4be7-8b19-bcebc52a9caf"
      },
      "source": [
        "import inspect\n",
        "\n",
        "def param_to_name(params: dict, key_sep='_', key_value_sep='=') -> str:\n",
        "    \"\"\"\n",
        "    dict を `key=value` で連結した string に変換します.\n",
        "    Args:\n",
        "        params:\n",
        "        key_sep:\n",
        "            key 同士を連結する際に使う文字列.\n",
        "        key_value_sep:\n",
        "            それぞれの key / value を連結するのに使う文字列.\n",
        "            `\"=\"` が指定されると例えば { 'foo': 10 } は `\"foo=10\"` に変換されます.\n",
        "    Returns:\n",
        "        文字列化した dict\n",
        "    \"\"\"\n",
        "    sorted_params = sorted(params.items())\n",
        "    return key_sep.join(map(lambda x: key_value_sep.join(map(str, x)), sorted_params))\n",
        "\n",
        "\n",
        "def cachable(function):\n",
        "    attr_name = '__cachefile__'\n",
        "    def wrapper(*args, **kwrgs):\n",
        "        force = kwrgs.pop('force', False)\n",
        "        call_args = inspect.getcallargs(function, *args, **kwrgs)\n",
        "\n",
        "        arg_name = param_to_name(call_args)\n",
        "        name = attr_name + arg_name\n",
        "\n",
        "        use_cache = hasattr(function, name) and not force\n",
        "\n",
        "        if use_cache:\n",
        "            cache_object = getattr(function, name)\n",
        "        else:\n",
        "            print('run')\n",
        "            cache_object = function(*args, **kwrgs)\n",
        "            setattr(function, name, cache_object)\n",
        "\n",
        "        return cache_object\n",
        "\n",
        "    return wrapper\n",
        "\n",
        "@cachable\n",
        "def read_csv(name):\n",
        "\n",
        "    if '.csv' not in name:\n",
        "        name = name + '.csv'\n",
        "\n",
        "    return pd.read_csv(os.path.join(INPUT_PATH, name))\n",
        "\n",
        "def whole_df():\n",
        "  return pd.concat([read_csv(\"train\"), read_csv(\"test\")], ignore_index=True).reset_index\n",
        "\n",
        "train_df = read_csv(\"train\")\n",
        "test_df = read_csv(\"test\")\n",
        "maker = read_csv(\"maker\")\n",
        "color_df = read_csv(\"color\")"
      ],
      "execution_count": 4,
      "outputs": [
        {
          "output_type": "stream",
          "text": [
            "run\n",
            "run\n",
            "run\n",
            "run\n"
          ],
          "name": "stdout"
        }
      ]
    },
    {
      "cell_type": "code",
      "metadata": {
        "id": "4eCg-H14rJQ9"
      },
      "source": [
        "color_object_id = pd.DataFrame(\n",
        "    color_df[\"object_id\"]\n",
        ")\n",
        "rgb_df = pd.DataFrame(color_df[\"hex\"].str.strip().map(ImageColor.getrgb).values.tolist(), columns=[\"R\", \"G\", \"B\"])"
      ],
      "execution_count": 5,
      "outputs": []
    },
    {
      "cell_type": "code",
      "metadata": {
        "id": "C9oS13oTofs2"
      },
      "source": [
        "new_color_df = pd.concat([color_object_id, rgb_df], axis=1)\n",
        "new_color_df[\"rgb_mean\"] = (new_color_df[\"R\"] + new_color_df[\"G\"] + new_color_df[\"B\"]) / 3"
      ],
      "execution_count": 6,
      "outputs": []
    },
    {
      "cell_type": "code",
      "metadata": {
        "id": "1IC-JfsOovt-"
      },
      "source": [
        "std_color_df = new_color_df.groupby(\"object_id\")[[\"R\", \"G\", \"B\", \"rgb_mean\"]].std().add_prefix(\"std_\")\n",
        "train_df = pd.merge(train_df, std_color_df, on=\"object_id\", how=\"left\")\n",
        "test_df = pd.merge(test_df, std_color_df, on=\"object_id\", how=\"left\")"
      ],
      "execution_count": 7,
      "outputs": []
    },
    {
      "cell_type": "code",
      "metadata": {
        "id": "5KdDGpO6o98K"
      },
      "source": [
        "min_color_df = new_color_df.groupby(\"object_id\")[[\"R\", \"G\", \"B\", \"rgb_mean\"]].min()\n",
        "max_color_df = new_color_df.groupby(\"object_id\")[[\"R\", \"G\", \"B\", \"rgb_mean\"]].max()\n",
        "max_min_color_df = max_color_df[[\"R\", \"G\", \"B\", \"rgb_mean\"]] - min_color_df[[\"R\", \"G\", \"B\", \"rgb_mean\"]]\n",
        "max_min_color_df = max_min_color_df.add_prefix(\"max_min_\")"
      ],
      "execution_count": 8,
      "outputs": []
    },
    {
      "cell_type": "code",
      "metadata": {
        "id": "7BrU10OWt2KR"
      },
      "source": [
        "train_df = pd.merge(train_df, max_min_color_df, on=\"object_id\", how=\"left\")\n",
        "test_df = pd.merge(test_df, max_min_color_df, on=\"object_id\", how=\"left\")"
      ],
      "execution_count": 9,
      "outputs": []
    },
    {
      "cell_type": "code",
      "metadata": {
        "id": "Q1jkLDMDuUts"
      },
      "source": [
        "train_df = pd.merge(train_df, maker, left_on=\"principal_maker\", right_on=\"name\", how=\"left\")\n",
        "test_df = pd.merge(test_df, maker, left_on=\"principal_maker\", right_on=\"name\", how=\"left\")\n",
        "\n",
        "\n",
        "train_df[\"acquisition_date\"] = pd.to_datetime(train_df[\"acquisition_date\"])\n",
        "train_df[\"acquisition_date\"] = train_df['acquisition_date'].dt.strftime(\"%Y\")\n",
        "\n",
        "test_df[\"acquisition_date\"] = pd.to_datetime(test_df[\"acquisition_date\"])\n",
        "test_df[\"acquisition_date\"] = test_df['acquisition_date'].dt.strftime(\"%Y\")\n",
        "\n",
        "train_df[\"date_of_birth\"] = train_df[\"date_of_birth\"].str[:4]\n",
        "train_df[\"date_of_death\"] = train_df[\"date_of_death\"].str[:4]\n",
        "train_df[\"date_of_birth\"] = train_df[\"date_of_birth\"].astype(float)\n",
        "train_df[\"date_of_death\"] = train_df[\"date_of_death\"].astype(float)\n",
        "\n",
        "\n",
        "test_df[\"date_of_birth\"] = test_df[\"date_of_birth\"].str[:4]\n",
        "test_df[\"date_of_death\"] = test_df[\"date_of_death\"].str[:4]\n",
        "test_df[\"date_of_birth\"] = test_df[\"date_of_birth\"].astype(float)\n",
        "test_df[\"date_of_death\"] = test_df[\"date_of_death\"].astype(float)\n",
        "\n",
        "\n",
        "train_df[\"age\"] = train_df[\"date_of_death\"].astype(float) - train_df[\"date_of_birth\"].astype(float)\n",
        "train_df[\"age\"] = train_df[\"age\"].fillna(\"NaN\")\n",
        "train_df[\"age\"] = train_df[\"age\"].astype(float)\n",
        "\n",
        "test_df[\"age\"] = test_df[\"date_of_death\"].astype(float) - test_df[\"date_of_birth\"].astype(float)\n",
        "test_df[\"age\"] = test_df[\"age\"].fillna(\"NaN\")\n",
        "test_df[\"age\"] = test_df[\"age\"].astype(float)\n",
        "\n",
        "\n",
        "train_df.loc[(train_df[\"age\"] < 0.0) | (train_df[\"age\"] > 100.0), \"date_of_birth\"] = \"NaN\"\n",
        "train_df.loc[(train_df[\"age\"] < 0.0) | (train_df[\"age\"] > 100.0), \"date_of_death\"] = \"NaN\"\n",
        "train_df.loc[(train_df[\"age\"] < 0.0) | (train_df[\"age\"] > 100.0), \"age\"] = \"NaN\"\n",
        "\n",
        "test_df.loc[(test_df[\"age\"] < 0.0) | (test_df[\"age\"] > 100.0), \"date_of_birth\"] = \"NaN\"\n",
        "test_df.loc[(test_df[\"age\"] < 0.0) | (test_df[\"age\"] > 100.0), \"date_of_death\"] = \"NaN\"\n",
        "test_df.loc[(test_df[\"age\"] < 0.0) | (test_df[\"age\"] > 100.0), \"age\"] = \"NaN\"\n",
        "\n",
        "train_df[\"age\"] = train_df[\"age\"].astype(float)\n",
        "test_df[\"age\"] = test_df[\"age\"].astype(float)\n",
        "\n",
        "train_df[\"date_of_birth\"] = train_df[\"date_of_birth\"].astype(float)\n",
        "train_df[\"date_of_death\"] = train_df[\"date_of_death\"].astype(float)\n",
        "\n",
        "test_df[\"date_of_birth\"] = test_df[\"date_of_birth\"].astype(float)\n",
        "test_df[\"date_of_death\"] = test_df[\"date_of_death\"].astype(float)\n",
        "\n",
        "\n",
        "#制作期間が長いほど名作なのでは\n",
        "train_df[\"period_of_production\"] = train_df[\"dating_year_late\"].astype(float) - train_df[\"dating_year_early\"].astype(float)\n",
        "train_df[\"period_of_production\"] = train_df[\"period_of_production\"].fillna(\"NaN\").astype(float)\n",
        "\n",
        "#ここの期間が短い（遺作）は評価が高いのでは\n",
        "train_df[\"period_between_death_year_and_late_year\"] = train_df[\"date_of_death\"].astype(float) - train_df[\"dating_year_late\"].astype(float)\n",
        "train_df[\"period_between_death_year_and_late_year\"] = train_df[\"period_between_death_year_and_late_year\"].fillna(\"NaN\").astype(float)\n",
        "#回収されるまでの期間が長ければ名作なのでは\n",
        "train_df[\"period_between_acquistion_date_and_date_death\"] = train_df[\"acquisition_date\"].astype(float) - train_df[\"date_of_birth\"].astype(float)\n",
        "train_df[\"period_between_acquistion_date_and_date_death\"] = train_df[\"period_between_acquistion_date_and_date_death\"].fillna(\"NaN\").astype(float)\n",
        "#幼少期に書かれた作品は評価が良いのでは？\n",
        "train_df[\"period_between_date_of_birth_and_dating_year_late\"] = train_df[\"dating_year_late\"].astype(float) - train_df[\"date_of_birth\"].astype(float)\n",
        "train_df[\"period_between_date_of_birth_and_dating_year_late\"] = train_df[\"period_between_date_of_birth_and_dating_year_late\"].fillna(\"NaN\").astype(float)\n",
        "\n",
        "#制作期間が長いほど名作なのでは\n",
        "test_df[\"period_of_production\"] = test_df[\"dating_year_late\"].astype(float) - test_df[\"dating_year_early\"].astype(float)\n",
        "test_df[\"period_of_production\"] = test_df[\"period_of_production\"].fillna(\"NaN\").astype(float)\n",
        "\n",
        "#ここの期間が短い（遺作）は評価が高いのでは\n",
        "test_df[\"period_between_death_year_and_late_year\"] = test_df[\"date_of_death\"].astype(float) - test_df[\"dating_year_late\"].astype(float)\n",
        "test_df[\"period_between_death_year_and_late_year\"] = test_df[\"period_between_death_year_and_late_year\"].fillna(\"NaN\").astype(float)\n",
        "#回収されるまでの期間が長ければ名作なのでは\n",
        "test_df[\"period_between_acquistion_date_and_date_death\"] = test_df[\"acquisition_date\"].astype(float) - test_df[\"date_of_birth\"].astype(float)\n",
        "test_df[\"period_between_acquistion_date_and_date_death\"] = test_df[\"period_between_acquistion_date_and_date_death\"].fillna(\"NaN\").astype(float)\n",
        "#幼少期に書かれた作品は評価が良いのでは？\n",
        "test_df[\"period_between_date_of_birth_and_dating_year_late\"] = test_df[\"dating_year_late\"].astype(float) - test_df[\"date_of_birth\"].astype(float)\n",
        "test_df[\"period_between_date_of_birth_and_dating_year_late\"] = test_df[\"period_between_date_of_birth_and_dating_year_late\"].fillna(\"NaN\").astype(float)\n",
        "\n",
        "train_df[\"last_work_vs_first_work\"] = train_df[\"period_between_death_year_and_late_year\"] - train_df[\"period_between_date_of_birth_and_dating_year_late\"]\n",
        "test_df[\"last_work_vs_first_work\"] = test_df[\"period_between_death_year_and_late_year\"] - test_df[\"period_between_date_of_birth_and_dating_year_late\"]\n",
        "\n",
        "\n",
        "train_df[\"is_coworking\"] = train_df[\"period_between_death_year_and_late_year\"].apply(lambda x : 1 if x < 0.0 else 0)\n",
        "test_df[\"is_coworking\"] = test_df[\"period_between_death_year_and_late_year\"].apply(lambda x : 1 if x < 0.0 else 0)"
      ],
      "execution_count": 10,
      "outputs": []
    },
    {
      "cell_type": "code",
      "metadata": {
        "colab": {
          "base_uri": "https://localhost:8080/"
        },
        "id": "9tWu3JyxJ0Ee",
        "outputId": "dfcbcd71-5846-4669-9165-08e1c0f7008a"
      },
      "source": [
        "tmp_1 = pd.read_pickle(OUTPUT_PATH + \"train_image_feature.pkl\")\n",
        "tmp_2 = pd.read_pickle(OUTPUT_PATH + \"test_image_feature.pkl\")\n",
        "\n",
        "train_object_id = pd.DataFrame(\n",
        "    tmp_1[\"object_id\"]\n",
        ")\n",
        "test_object_id = pd.DataFrame(\n",
        "    tmp_2[\"object_id\"]\n",
        ")\n",
        "\n",
        "train_object_id = train_object_id.reset_index()\n",
        "test_object_id = test_object_id.reset_index()\n",
        "\n",
        "train_object_id = train_object_id.drop(columns=[\"index\"])\n",
        "test_object_id = test_object_id.drop(columns=[\"index\"])\n",
        "\n",
        "def create_for_reduction(input_df):\n",
        "  out_df = pd.DataFrame(\n",
        "      np.stack(input_df[\"feature\"])\n",
        "  )\n",
        "\n",
        "  return out_df\n",
        "\n",
        "from sklearn.decomposition import PCA, TruncatedSVD\n",
        "\n",
        "def result_color_pca(N, input_df):\n",
        "  pca = PCA(n_components=N).fit(create_for_reduction(input_df))\n",
        "  transformed = pca.transform(create_for_reduction(input_df))\n",
        "  for n in range(N):\n",
        "    print(f\"第{n+1} 主成分:{pca.explained_variance_ratio_[n]}\")\n",
        "    out_df = pd.DataFrame(\n",
        "        transformed,\n",
        "        columns=[f\"pca_{n+1}_color_feature\" for n in range(N)]\n",
        "    )\n",
        "\n",
        "  return out_df\n",
        "\n",
        "\n",
        "\n",
        "train_result_pca = result_color_pca(N=6, input_df=tmp_1)\n",
        "test_result_pca = result_color_pca(N=6, input_df=tmp_2)\n",
        "\n",
        "train_reduction_df = pd.concat([train_object_id, train_result_pca], axis=1)\n",
        "test_reduction_df = pd.concat([test_object_id, test_result_pca], axis=1)\n",
        "\n",
        "train_df = pd.merge(train_df, train_reduction_df, on=\"object_id\", how=\"left\")\n",
        "test_df = pd.merge(test_df, test_reduction_df, on=\"object_id\", how=\"left\")"
      ],
      "execution_count": 12,
      "outputs": [
        {
          "output_type": "stream",
          "text": [
            "第1 主成分:0.2644466757774353\n",
            "第2 主成分:0.1743268519639969\n",
            "第3 主成分:0.12500233948230743\n",
            "第4 主成分:0.10745316743850708\n",
            "第5 主成分:0.059304460883140564\n",
            "第6 主成分:0.058309707790613174\n",
            "第1 主成分:0.26810184121131897\n",
            "第2 主成分:0.17373128235340118\n",
            "第3 主成分:0.12196862697601318\n",
            "第4 主成分:0.10885245352983475\n",
            "第5 主成分:0.058579083532094955\n",
            "第6 主成分:0.056378260254859924\n"
          ],
          "name": "stdout"
        }
      ]
    },
    {
      "cell_type": "code",
      "metadata": {
        "colab": {
          "base_uri": "https://localhost:8080/"
        },
        "id": "0ViemVO4KEbl",
        "outputId": "d7c7e068-b99d-4934-b474-4a1e3a792a71"
      },
      "source": [
        "\n",
        "OBJECT_ID = \"object_id\"\n",
        "def left_join(left, right, on=OBJECT_ID):\n",
        "    if isinstance(left, pd.DataFrame):\n",
        "        left = left[on]\n",
        "    return pd.merge(left, right, on=on, how='left').drop(columns=[on])\n",
        "\n",
        "os.chdir(CODE_PATH)\n",
        "from util import AbstractBaseBlock\n",
        "from feature_engine import *\n",
        "class MaterialBlock(AbstractBaseBlock):\n",
        "    def __init__(self, min_count=30):\n",
        "        self.min_count = min_count\n",
        "\n",
        "    def fit(self, input_df, y=None):\n",
        "      material_df = read_csv('material')\n",
        "      vc = material_df['name'].value_counts()\n",
        "      # 出現回数30以上に絞る\n",
        "      use_names = vc[vc >= self.min_count].index\n",
        "\n",
        "      # isin で 30 回以上でてくるようなレコードに絞り込んでから corsstab を行なう\n",
        "      idx = material_df['name'].isin(use_names)\n",
        "      _use_df = material_df[idx].reset_index(drop=True)\n",
        "\n",
        "      self.agg_df_ = pd.crosstab(_use_df['object_id'], _use_df['name'])\n",
        "      return self.transform(input_df)\n",
        "\n",
        "    def transform(self, input_df):\n",
        "        out_df = left_join(input_df, self.agg_df_)\n",
        "        return out_df.add_prefix(f'MaterialBlock_name=')\n",
        "\n",
        "\n",
        "class TechiqueBlock(AbstractBaseBlock):\n",
        "    def __init__(self, min_count=30):\n",
        "        self.min_count = min_count\n",
        "\n",
        "    def fit(self, input_df, y=None):\n",
        "      techique_df = read_csv('technique')\n",
        "      vc = technique_df['name'].value_counts()\n",
        "      # 出現回数30以上に絞る\n",
        "      use_names = vc[vc >= self.min_count].index\n",
        "\n",
        "      # isin で 30 回以上でてくるようなレコードに絞り込んでから corsstab を行なう\n",
        "      idx = technique_df['name'].isin(use_names)\n",
        "      _use_df = technique_df[idx].reset_index(drop=True)\n",
        "\n",
        "      self.agg_df_ = pd.crosstab(_use_df['object_id'], _use_df['name'])\n",
        "      return self.transform(input_df)\n",
        "\n",
        "    def transform(self, input_df):\n",
        "        out_df = left_join(input_df, self.agg_df_)\n",
        "        return out_df.add_prefix(f'TechniqueBlock_name=')\n",
        "\n",
        "class CollectionBlock(AbstractBaseBlock):\n",
        "    def __init__(self, min_count=30):\n",
        "        self.min_count = min_count\n",
        "\n",
        "    def fit(self, input_df, y=None):\n",
        "      collection_df = read_csv('object_collection')\n",
        "      vc = collection_df['name'].value_counts()\n",
        "      # 出現回数30以上に絞る\n",
        "      use_names = vc[vc >= self.min_count].index\n",
        "\n",
        "      # isin で 30 回以上でてくるようなレコードに絞り込んでから corsstab を行なう\n",
        "      idx = collection_df['name'].isin(use_names)\n",
        "      _use_df = collection_df[idx].reset_index(drop=True)\n",
        "\n",
        "      self.agg_df_ = pd.crosstab(_use_df['object_id'], _use_df['name'])\n",
        "      return self.transform(input_df)\n",
        "\n",
        "    def transform(self, input_df):\n",
        "        out_df = left_join(input_df, self.agg_df_)\n",
        "        return out_df.add_prefix(f'CollectionBlock_name=')\n",
        "\n",
        "\n",
        "class GetLanguageLabel(AbstractBaseBlock):\n",
        "  \"\"\"\n",
        "  言語判定するブロック\n",
        "  \"\"\"\n",
        "  def __init__(self, cols):\n",
        "    self.cols = cols\n",
        "\n",
        "  def fit(self, input_df):\n",
        "    return self.transform(input_df)\n",
        "\n",
        "  def transform(self, input_df):\n",
        "    out_df = pd.DataFrame()\n",
        "    self.model = load_model(\"/content/drive/MyDrive/atmacup10/data/img/lid.176.bin\")\n",
        "    out_df[self.cols] = input_df[self.cols].fillna(\"\").map(lambda x: self.model.predict(x.replace(\"\\n\", \"\"))[0][0])\n",
        "    return out_df.add_prefix(\"lang_label_\")\n",
        "\n",
        "class GetCountString(AbstractBaseBlock):  \n",
        "  \"\"\"\n",
        "  文字数を取得するブロック\n",
        "  \"\"\"\n",
        "  def __init__(self, cols):\n",
        "    self.cols = cols\n",
        "\n",
        "  def transform(self, input_df):\n",
        "    _input_df = input_df[self.cols].fillna(\"NaN\")\n",
        "    out_df = pd.DataFrame()\n",
        "    out_df[self.cols] = input_df[self.cols].fillna(\"NaN\").str.len()\n",
        "    return out_df.add_prefix(\"count_string_\")\n",
        "\n",
        "from gensim.models import word2vec\n",
        "\n",
        "model_size = {\n",
        "    \"material\": 20,\n",
        "    \"technique\": 8,\n",
        "    \"collection\": 3,\n",
        "    \"material_collection\": 20,\n",
        "    \"material_technique\": 20,\n",
        "    \"collection_technique\": 10,\n",
        "    \"material_collection_technique\": 25\n",
        "}\n",
        "\n",
        "\n",
        "class Word2VecBlock(AbstractBaseBlock):\n",
        "  def __init__(self, model_size:tuple):\n",
        "    self.model_size = model_size\n",
        "\n",
        "  def fit(self, input_df, y=None):\n",
        "    material_df = read_csv(\"material\")\n",
        "    technique_df = read_csv(\"technique\")\n",
        "    collection = read_csv(\"object_collection\")\n",
        "\n",
        "    mat_col = pd.concat([material_df, collection], axis=0).reset_index(drop=True)\n",
        "    mat_tec = pd.concat([material_df, technique_df], axis=0).reset_index(drop=True)\n",
        "    col_tec = pd.concat([collection, technique_df], axis=0).reset_index(drop=True)\n",
        "    mat_col_tec = pd.concat([material_df, collection, technique_df], axis=0).reset_index(drop=True)\n",
        "\n",
        "    w2v_dfs = []\n",
        "    for df, df_name in zip(\n",
        "            [\n",
        "                material_df, collection, technique_df,\n",
        "                mat_col, mat_tec, col_tec, mat_col_tec\n",
        "            ], [\n",
        "                \"material\", \"collection\", \"technique\",\n",
        "                \"material_collection\",\n",
        "                \"material_technique\",\n",
        "                \"collection_technique\",\n",
        "                \"material_collection_technique\"\n",
        "            ]):\n",
        "        df_group = df.groupby(\"object_id\")[\"name\"].apply(list).reset_index()\n",
        "        # Word2Vecの学習\n",
        "        w2v_model = word2vec.Word2Vec(df_group[\"name\"].values.tolist(),\n",
        "                                      size=model_size[df_name],\n",
        "                                      min_count=1,\n",
        "                                      window=1,\n",
        "                                      iter=100)\n",
        "\n",
        "        # 各文章ごとにそれぞれの単語をベクトル表現に直し、平均をとって文章ベクトルにする\n",
        "        sentence_vectors = df_group[\"name\"].progress_apply(\n",
        "            lambda x: np.mean([w2v_model.wv[e] for e in x], axis=0))\n",
        "        sentence_vectors = np.vstack([x for x in sentence_vectors])\n",
        "        sentence_vector_df = pd.DataFrame(sentence_vectors,\n",
        "                                          columns=[f\"{df_name}_w2v_{i}\"\n",
        "                                                  for i in range(model_size[df_name])])\n",
        "        sentence_vector_df.index = df_group[\"object_id\"]\n",
        "        w2v_dfs.append(sentence_vector_df)\n",
        "\n",
        "    tmp_2 = pd.merge(w2v_dfs[0], w2v_dfs[1], on='object_id', how=\"left\")\n",
        "    tmp_3 = pd.merge(w2v_dfs[2], w2v_dfs[3], on='object_id', how=\"left\")\n",
        "    tmp_4 = pd.merge(w2v_dfs[4], w2v_dfs[5], on='object_id', how=\"left\")\n",
        "    tmp_5 = pd.merge(tmp_2, w2v_dfs[6], on=\"object_id\", how=\"left\")\n",
        "    tmp_2 = pd.merge(tmp_3, tmp_4, on=\"object_id\", how=\"left\")\n",
        "    self._df = pd.merge(tmp_5, tmp_2, on=\"object_id\", how=\"left\")\n",
        "\n",
        "    return self.transform(input_df)\n",
        "      \n",
        "  def transform(self, input_df):\n",
        "    out_df = pd.DataFrame()\n",
        "    out_df = left_join(input_df, self._df)\n",
        "    return out_df"
      ],
      "execution_count": 13,
      "outputs": [
        {
          "output_type": "stream",
          "text": [
            "/usr/local/lib/python3.7/dist-packages/statsmodels/tools/_testing.py:19: FutureWarning:\n",
            "\n",
            "pandas.util.testing is deprecated. Use the functions in the public API at pandas.testing instead.\n",
            "\n"
          ],
          "name": "stderr"
        }
      ]
    },
    {
      "cell_type": "code",
      "metadata": {
        "id": "M0Nyj8MuKK07"
      },
      "source": [
        "from time import time\n",
        "from tqdm import tqdm\n",
        "from contextlib import contextmanager\n",
        "\n",
        "def get_function(block,is_train):\n",
        "    s = mapping ={\n",
        "        True:'fit',\n",
        "        False:'transform'\n",
        "    }.get(is_train)\n",
        "    return getattr(block,s)\n",
        "\n",
        "def to_feature(input_df,remain_df,blocks,is_train=False):\n",
        "    out_df = remain_df\n",
        "    \n",
        "    for block in tqdm(blocks,total=len(blocks)):\n",
        "        func = get_function(block,is_train)\n",
        "        \n",
        "        with timer(prefix='create' + str(block) + ' '):\n",
        "            _df = func(input_df)\n",
        "        print(len(_df), len(input_df))\n",
        "        assert len(_df) == len(input_df),func._name_\n",
        "        out_df = pd.concat([out_df,_df],axis=1)\n",
        "    return out_df\n",
        "\n",
        "@contextmanager\n",
        "def timer(logger=None, format_str=\"{:.3f}[s]\", prefix=None, suffix=None):\n",
        "  if prefix: format_str = str(prefix) + format_str\n",
        "  if suffix: format_str = format_str + str(suffix)\n",
        "  start = time()\n",
        "  yield\n",
        "  d = time() - start\n",
        "  out_str = format_str.format(d)\n",
        "  if logger:\n",
        "    logger.info(out_str)\n",
        "  else:\n",
        "    print(out_str)"
      ],
      "execution_count": 14,
      "outputs": []
    },
    {
      "cell_type": "code",
      "metadata": {
        "colab": {
          "base_uri": "https://localhost:8080/"
        },
        "id": "RZeN9PYRKQR-",
        "outputId": "de189428-0805-486b-8951-e9e2ac3d63a9"
      },
      "source": [
        "add_feature_block = [\n",
        "                     GetLanguageLabel(\"title\"),\n",
        "                     GetLanguageLabel(\"description\"),\n",
        "                     GetLanguageLabel(\"long_title\"),\n",
        "                     GetCountString(\"title\"),\n",
        "                     GetCountString(\"description\"),\n",
        "                     GetCountString(\"acquisition_credit_line\"),\n",
        "                     GetCountString(\"long_title\"),\n",
        "                     GetCountString(\"more_title\"),\n",
        "                     GetCountString(\"sub_title\"),\n",
        "\n",
        "]\n",
        "\n",
        "train_feat_df = to_feature(train_df, train_df, add_feature_block, is_train=True)\n",
        "test_feat_df = to_feature(test_df, test_df, add_feature_block, is_train=False)\n",
        "print(train_df.shape, test_df.shape)"
      ],
      "execution_count": 32,
      "outputs": [
        {
          "output_type": "stream",
          "text": [
            "  0%|          | 0/9 [00:00<?, ?it/s]Warning : `load_model` does not return WordVectorModel or SupervisedModel any more, but a `FastText` object which is very similar.\n",
            " 11%|█         | 1/9 [00:00<00:04,  1.97it/s]"
          ],
          "name": "stderr"
        },
        {
          "output_type": "stream",
          "text": [
            "create<__main__.GetLanguageLabel object at 0x7f4b54571cd0> 0.499[s]\n",
            "12026 12026\n"
          ],
          "name": "stdout"
        },
        {
          "output_type": "stream",
          "text": [
            "Warning : `load_model` does not return WordVectorModel or SupervisedModel any more, but a `FastText` object which is very similar.\n",
            " 22%|██▏       | 2/9 [00:01<00:04,  1.72it/s]"
          ],
          "name": "stderr"
        },
        {
          "output_type": "stream",
          "text": [
            "create<__main__.GetLanguageLabel object at 0x7f4b54571610> 0.728[s]\n",
            "12026 12026\n"
          ],
          "name": "stdout"
        },
        {
          "output_type": "stream",
          "text": [
            "Warning : `load_model` does not return WordVectorModel or SupervisedModel any more, but a `FastText` object which is very similar.\n",
            " 78%|███████▊  | 7/9 [00:02<00:00,  2.35it/s]"
          ],
          "name": "stderr"
        },
        {
          "output_type": "stream",
          "text": [
            "create<__main__.GetLanguageLabel object at 0x7f4b545715d0> 0.602[s]\n",
            "12026 12026\n",
            "create<__main__.GetCountString object at 0x7f4b54571d10> 0.011[s]\n",
            "12026 12026\n",
            "create<__main__.GetCountString object at 0x7f4b54571c90> 0.011[s]\n",
            "12026 12026\n",
            "create<__main__.GetCountString object at 0x7f4b54571190> 0.009[s]\n",
            "12026 12026\n",
            "create<__main__.GetCountString object at 0x7f4b54571b10> 0.010[s]\n",
            "12026 12026\n",
            "create<__main__.GetCountString object at 0x7f4b54571390> 0.014[s]\n",
            "12026 12026\n",
            "create<__main__.GetCountString object at 0x7f4b545716d0> 0.009[s]\n",
            "12026 12026\n"
          ],
          "name": "stdout"
        },
        {
          "output_type": "stream",
          "text": [
            "100%|██████████| 9/9 [00:02<00:00,  4.33it/s]\n",
            "  0%|          | 0/9 [00:00<?, ?it/s]Warning : `load_model` does not return WordVectorModel or SupervisedModel any more, but a `FastText` object which is very similar.\n",
            " 11%|█         | 1/9 [00:00<00:03,  2.04it/s]"
          ],
          "name": "stderr"
        },
        {
          "output_type": "stream",
          "text": [
            "create<__main__.GetLanguageLabel object at 0x7f4b54571cd0> 0.483[s]\n",
            "12008 12008\n"
          ],
          "name": "stdout"
        },
        {
          "output_type": "stream",
          "text": [
            "Warning : `load_model` does not return WordVectorModel or SupervisedModel any more, but a `FastText` object which is very similar.\n",
            " 22%|██▏       | 2/9 [00:01<00:03,  1.78it/s]"
          ],
          "name": "stderr"
        },
        {
          "output_type": "stream",
          "text": [
            "create<__main__.GetLanguageLabel object at 0x7f4b54571610> 0.708[s]\n",
            "12008 12008\n"
          ],
          "name": "stdout"
        },
        {
          "output_type": "stream",
          "text": [
            "Warning : `load_model` does not return WordVectorModel or SupervisedModel any more, but a `FastText` object which is very similar.\n",
            " 78%|███████▊  | 7/9 [00:01<00:00,  2.42it/s]"
          ],
          "name": "stderr"
        },
        {
          "output_type": "stream",
          "text": [
            "create<__main__.GetLanguageLabel object at 0x7f4b545715d0> 0.588[s]\n",
            "12008 12008\n",
            "create<__main__.GetCountString object at 0x7f4b54571d10> 0.012[s]\n",
            "12008 12008\n",
            "create<__main__.GetCountString object at 0x7f4b54571c90> 0.012[s]\n",
            "12008 12008\n",
            "create<__main__.GetCountString object at 0x7f4b54571190> 0.010[s]\n",
            "12008 12008\n",
            "create<__main__.GetCountString object at 0x7f4b54571b10> 0.010[s]\n",
            "12008 12008\n",
            "create<__main__.GetCountString object at 0x7f4b54571390> 0.011[s]\n",
            "12008 12008\n",
            "create<__main__.GetCountString object at 0x7f4b545716d0> 0.009[s]\n",
            "12008 12008\n"
          ],
          "name": "stdout"
        },
        {
          "output_type": "stream",
          "text": [
            "\r100%|██████████| 9/9 [00:02<00:00,  4.45it/s]"
          ],
          "name": "stderr"
        },
        {
          "output_type": "stream",
          "text": [
            "(12026, 47) (12008, 46)\n"
          ],
          "name": "stdout"
        },
        {
          "output_type": "stream",
          "text": [
            "\n"
          ],
          "name": "stderr"
        }
      ]
    },
    {
      "cell_type": "code",
      "metadata": {
        "colab": {
          "base_uri": "https://localhost:8080/"
        },
        "id": "VLAuVzcbKSxq",
        "outputId": "133ecd5e-60b1-4143-c6dc-3865fb8b336f"
      },
      "source": [
        "\n",
        "process_blocks = [\n",
        "                 LabelEncodingBlock(\"acquisition_method\"),\n",
        "                 LabelEncodingBlock(\"principal_maker\"),\n",
        "                 LabelEncodingBlock(\"lang_label_title\"),\n",
        "                 LabelEncodingBlock(\"lang_label_description\"),\n",
        "                 LabelEncodingBlock(\"lang_label_long_title\"),\n",
        "                 LabelEncodingBlock(\"title\"),\n",
        "                 LabelEncodingBlock(\"description\"),\n",
        "                 CountEncodingBlock(\"acquisition_method\"),\n",
        "                 CountEncodingBlock(\"principal_maker\"),\n",
        "                 CountEncodingBlock(\"lang_label_title\"),\n",
        "                 CountEncodingBlock(\"lang_label_description\"),\n",
        "                 CountEncodingBlock(\"title\"),\n",
        "                 CountEncodingBlock(\"description\"),\n",
        "                 MaterialBlock(min_count=19),\n",
        "                 CollectionBlock(min_count=3),\n",
        "                 Word2VecBlock(model_size), \n",
        "                 AggregationBlock(group_key=\"principal_maker\", \n",
        "                                   group_values=[\"count_string_description\", \n",
        "                                                  \"period_of_production\", \"period_between_acquistion_date_and_date_death\",\n",
        "                                                  \"period_between_death_year_and_late_year\", \"last_work_vs_first_work\"],\n",
        "                                   agg_methods=[\"max\", \"min\", \"std\", \"median\"]),\n",
        "                 AggregationBlock(group_key=\"bins_age\",\n",
        "                                   group_values=[\"count_string_description\", \"period_of_production\", \"period_between_acquistion_date_and_date_death\",\n",
        "                                                  \"period_between_death_year_and_late_year\", \"last_work_vs_first_work\"],\n",
        "                                   agg_methods=[\"max\", \"min\", \"std\", \"mean\"])\n",
        "\n",
        "                 ]\n",
        "drop_columns = [\"description\", \"title\", \"principal_maker\", \"principal_or_first_maker\", \"long_title\", \"art_series_id\", \"object_id\", \n",
        "                  \"sub_title\", \"copyright_holder\", \"more_title\", \"acquisition_credit_line\", \"dating_presenting_date\",\n",
        "                  \"dating_sorting_date\", \"acquisition_date\", \"acquisition_method\", \"lang_label_title\", \"lang_label_description\", \"lang_label_long_title\",\n",
        "                  \"dating_year_late\", \"dating_year_early\", \"nationality\", \"place_of_death\", \"place_of_birth\", \"name\", \"date_of_birth\", \"date_of_death\"]\n",
        "\n",
        "train_feat_df = to_feature(train_feat_df,train_feat_df.drop(columns=drop_columns, axis=1),process_blocks, is_train=True)\n",
        "\n",
        "test_feat_df = to_feature(test_feat_df,test_feat_df.drop(columns=drop_columns, axis=1),process_blocks,is_train=False)"
      ],
      "execution_count": 33,
      "outputs": [
        {
          "output_type": "stream",
          "text": [
            " 33%|███▎      | 6/18 [00:00<00:00, 55.67it/s]"
          ],
          "name": "stderr"
        },
        {
          "output_type": "stream",
          "text": [
            "create<feature_engine.LabelEncodingBlock object at 0x7f4b545c7f10> 0.011[s]\n",
            "12026 12026\n",
            "create<feature_engine.LabelEncodingBlock object at 0x7f4b545c7dd0> 0.011[s]\n",
            "12026 12026\n",
            "create<feature_engine.LabelEncodingBlock object at 0x7f4b545c7fd0> 0.011[s]\n",
            "12026 12026\n",
            "create<feature_engine.LabelEncodingBlock object at 0x7f4b545c73d0> 0.011[s]\n",
            "12026 12026\n",
            "create<feature_engine.LabelEncodingBlock object at 0x7f4b545c7350> 0.010[s]\n",
            "12026 12026\n",
            "create<feature_engine.LabelEncodingBlock object at 0x7f4b545c7ad0> 0.020[s]\n",
            "12026 12026\n",
            "create<feature_engine.LabelEncodingBlock object at 0x7f4b545c7550> 0.021[s]\n",
            "12026 12026\n",
            "create<feature_engine.CountEncodingBlock object at 0x7f4b545c7750> 0.010[s]\n",
            "12026 12026\n",
            "create<feature_engine.CountEncodingBlock object at 0x7f4b54452cd0> 0.009[s]\n",
            "12026 12026\n",
            "create<feature_engine.CountEncodingBlock object at 0x7f4b545c75d0> 0.010[s]\n",
            "12026 12026\n",
            "create<feature_engine.CountEncodingBlock object at 0x7f4b545c7650> 0.009[s]\n",
            "12026 12026\n"
          ],
          "name": "stdout"
        },
        {
          "output_type": "stream",
          "text": [
            "\r 67%|██████▋   | 12/18 [00:00<00:00, 53.77it/s]"
          ],
          "name": "stderr"
        },
        {
          "output_type": "stream",
          "text": [
            "create<feature_engine.CountEncodingBlock object at 0x7f4b545c77d0> 0.020[s]\n",
            "12026 12026\n",
            "create<feature_engine.CountEncodingBlock object at 0x7f4b545c7690> 0.018[s]\n",
            "12026 12026\n"
          ],
          "name": "stdout"
        },
        {
          "output_type": "stream",
          "text": [
            "\r 83%|████████▎ | 15/18 [00:00<00:00, 17.29it/s]"
          ],
          "name": "stderr"
        },
        {
          "output_type": "stream",
          "text": [
            "create<__main__.MaterialBlock object at 0x7f4b545c7450> 0.283[s]\n",
            "12026 12026\n",
            "create<__main__.CollectionBlock object at 0x7f4b545c7610> 0.123[s]\n",
            "12026 12026\n"
          ],
          "name": "stdout"
        },
        {
          "output_type": "stream",
          "text": [
            "\n",
            "  0%|          | 0/23586 [00:00<?, ?it/s]\u001b[A\n",
            " 20%|██        | 4741/23586 [00:00<00:00, 47405.30it/s]\u001b[A\n",
            " 40%|███▉      | 9326/23586 [00:00<00:00, 46926.79it/s]\u001b[A\n",
            " 60%|██████    | 14228/23586 [00:00<00:00, 47533.94it/s]\u001b[A\n",
            "100%|██████████| 23586/23586 [00:00<00:00, 49089.12it/s]\n",
            "\n",
            "  0%|          | 0/14160 [00:00<?, ?it/s]\u001b[A\n",
            " 40%|███▉      | 5655/14160 [00:00<00:00, 56542.64it/s]\u001b[A\n",
            "100%|██████████| 14160/14160 [00:00<00:00, 51790.92it/s]\n",
            "\n",
            "  0%|          | 0/17329 [00:00<?, ?it/s]\u001b[A\n",
            " 33%|███▎      | 5767/17329 [00:00<00:00, 57667.72it/s]\u001b[A\n",
            " 64%|██████▍   | 11133/17329 [00:00<00:00, 56402.88it/s]\u001b[A\n",
            "100%|██████████| 17329/17329 [00:00<00:00, 53210.97it/s]\n",
            "\n",
            "  0%|          | 0/23597 [00:00<?, ?it/s]\u001b[A\n",
            " 19%|█▉        | 4583/23597 [00:00<00:00, 45824.91it/s]\u001b[A\n",
            " 39%|███▉      | 9163/23597 [00:00<00:00, 45815.22it/s]\u001b[A\n",
            " 60%|█████▉    | 14112/23597 [00:00<00:00, 46857.47it/s]\u001b[A\n",
            "100%|██████████| 23597/23597 [00:00<00:00, 47126.18it/s]\n",
            "\n",
            "  0%|          | 0/23950 [00:00<?, ?it/s]\u001b[A\n",
            " 83%|████████▎ | 15/18 [00:20<00:00, 17.29it/s]\n",
            " 27%|██▋       | 6464/23950 [00:00<00:00, 32836.97it/s]\u001b[A\n",
            " 36%|███▌      | 8543/23950 [00:00<00:00, 27972.90it/s]\u001b[A\n",
            " 44%|████▍     | 10635/23950 [00:00<00:00, 25398.43it/s]\u001b[A\n",
            " 54%|█████▎    | 12825/23950 [00:00<00:00, 24236.32it/s]\u001b[A\n",
            " 73%|███████▎  | 17535/23950 [00:00<00:00, 28367.19it/s]\u001b[A\n",
            "100%|██████████| 23950/23950 [00:00<00:00, 32175.01it/s]\n",
            "\n",
            "  0%|          | 0/21646 [00:00<?, ?it/s]\u001b[A\n",
            " 25%|██▍       | 5354/21646 [00:00<00:00, 53534.18it/s]\u001b[A\n",
            " 49%|████▊     | 10529/21646 [00:00<00:00, 52985.65it/s]\u001b[A\n",
            " 72%|███████▏  | 15661/21646 [00:00<00:00, 52473.77it/s]\u001b[A\n",
            "100%|██████████| 21646/21646 [00:00<00:00, 50258.24it/s]\n",
            "\n",
            "  0%|          | 0/23953 [00:00<?, ?it/s]\u001b[A\n",
            " 17%|█▋        | 4189/23953 [00:00<00:00, 41887.74it/s]\u001b[A\n",
            " 36%|███▌      | 8530/23953 [00:00<00:00, 42330.09it/s]\u001b[A\n",
            " 54%|█████▍    | 13019/23953 [00:00<00:00, 43064.99it/s]\u001b[A\n",
            " 73%|███████▎  | 17382/23953 [00:00<00:00, 43231.04it/s]\u001b[A\n",
            "100%|██████████| 23953/23953 [00:00<00:00, 42422.58it/s]\n",
            " 89%|████████▉ | 16/18 [00:30<00:17,  8.99s/it]"
          ],
          "name": "stderr"
        },
        {
          "output_type": "stream",
          "text": [
            "create<__main__.Word2VecBlock object at 0x7f4b545c7410> 29.833[s]\n",
            "12026 12026\n"
          ],
          "name": "stdout"
        },
        {
          "output_type": "stream",
          "text": [
            "\r 94%|█████████▍| 17/18 [00:30<00:06,  6.40s/it]"
          ],
          "name": "stderr"
        },
        {
          "output_type": "stream",
          "text": [
            "create<feature_engine.AggregationBlock object at 0x7f4b4edddb50> 0.343[s]\n",
            "12026 12026\n"
          ],
          "name": "stdout"
        },
        {
          "output_type": "stream",
          "text": [
            "100%|██████████| 18/18 [00:31<00:00,  1.74s/it]\n",
            "  0%|          | 0/18 [00:00<?, ?it/s]/usr/local/lib/python3.7/dist-packages/category_encoders/utils.py:21: FutureWarning:\n",
            "\n",
            "is_categorical is deprecated and will be removed in a future version.  Use is_categorical_dtype instead\n",
            "\n",
            " 33%|███▎      | 6/18 [00:00<00:00, 58.87it/s]"
          ],
          "name": "stderr"
        },
        {
          "output_type": "stream",
          "text": [
            "create<feature_engine.AggregationBlock object at 0x7f4b5457e9d0> 0.442[s]\n",
            "12026 12026\n",
            "create<feature_engine.LabelEncodingBlock object at 0x7f4b545c7f10> 0.013[s]\n",
            "12008 12008\n",
            "create<feature_engine.LabelEncodingBlock object at 0x7f4b545c7dd0> 0.010[s]\n",
            "12008 12008\n",
            "create<feature_engine.LabelEncodingBlock object at 0x7f4b545c7fd0> 0.011[s]\n",
            "12008 12008\n",
            "create<feature_engine.LabelEncodingBlock object at 0x7f4b545c73d0> 0.010[s]\n",
            "12008 12008\n",
            "create<feature_engine.LabelEncodingBlock object at 0x7f4b545c7350> 0.010[s]\n",
            "12008 12008\n",
            "create<feature_engine.LabelEncodingBlock object at 0x7f4b545c7ad0> 0.014[s]\n",
            "12008 12008\n",
            "create<feature_engine.LabelEncodingBlock object at 0x7f4b545c7550> 0.019[s]\n",
            "12008 12008\n",
            "create<feature_engine.CountEncodingBlock object at 0x7f4b545c7750> 0.008[s]\n",
            "12008 12008\n",
            "create<feature_engine.CountEncodingBlock object at 0x7f4b54452cd0> 0.009[s]\n",
            "12008 12008\n"
          ],
          "name": "stdout"
        },
        {
          "output_type": "stream",
          "text": [
            " 89%|████████▉ | 16/18 [00:00<00:00, 47.99it/s]"
          ],
          "name": "stderr"
        },
        {
          "output_type": "stream",
          "text": [
            "create<feature_engine.CountEncodingBlock object at 0x7f4b545c75d0> 0.010[s]\n",
            "12008 12008\n",
            "create<feature_engine.CountEncodingBlock object at 0x7f4b545c7650> 0.010[s]\n",
            "12008 12008\n",
            "create<feature_engine.CountEncodingBlock object at 0x7f4b545c77d0> 0.014[s]\n",
            "12008 12008\n",
            "create<feature_engine.CountEncodingBlock object at 0x7f4b545c7690> 0.021[s]\n",
            "12008 12008\n",
            "create<__main__.MaterialBlock object at 0x7f4b545c7450> 0.016[s]\n",
            "12008 12008\n",
            "create<__main__.CollectionBlock object at 0x7f4b545c7610> 0.012[s]\n",
            "12008 12008\n",
            "create<__main__.Word2VecBlock object at 0x7f4b545c7410> 0.028[s]\n",
            "12008 12008\n",
            "create<feature_engine.AggregationBlock object at 0x7f4b4edddb50> 0.359[s]\n",
            "12008 12008\n"
          ],
          "name": "stdout"
        },
        {
          "output_type": "stream",
          "text": [
            "\r100%|██████████| 18/18 [00:01<00:00, 17.86it/s]"
          ],
          "name": "stderr"
        },
        {
          "output_type": "stream",
          "text": [
            "create<feature_engine.AggregationBlock object at 0x7f4b5457e9d0> 0.281[s]\n",
            "12008 12008\n"
          ],
          "name": "stdout"
        },
        {
          "output_type": "stream",
          "text": [
            "\n"
          ],
          "name": "stderr"
        }
      ]
    },
    {
      "cell_type": "code",
      "metadata": {
        "id": "9_pFK8uvKam5"
      },
      "source": [
        "y = np.log1p(train_df[\"likes\"])\n",
        "train_feat_df = train_feat_df.drop(columns=[\"likes\"], axis=1)"
      ],
      "execution_count": 34,
      "outputs": []
    },
    {
      "cell_type": "code",
      "metadata": {
        "id": "EjAza2aQKfcS"
      },
      "source": [
        "from sklearn.metrics import mean_squared_error\n",
        "import lightgbm as lgbm\n",
        "def fit_lgbm(X,\n",
        "             y,\n",
        "             cv, \n",
        "             params: dict=None,\n",
        "             verbose: int=50):\n",
        "    \n",
        "    metric_func = mean_squared_error\n",
        "    \n",
        "    if params is None:\n",
        "        params = {}\n",
        "        \n",
        "    models = []\n",
        "    \n",
        "    oof_pred = np.zeros_like(y ,dtype=np.float)\n",
        "    \n",
        "    for i, (idx_train, idx_valid) in enumerate(cv):\n",
        "        x_train, x_valid = X[idx_train], X[idx_valid]\n",
        "        y_train, y_valid = y[idx_train], y[idx_valid]\n",
        "        \n",
        "        clf = lgbm.LGBMRegressor(**params)\n",
        "        \n",
        "        with timer(prefix=\"fit fold={}\".format(i + 1)):\n",
        "            clf.fit(x_train, y_train, \n",
        "                    eval_set=[(x_valid, y_valid)],\n",
        "                    early_stopping_rounds=verbose,\n",
        "                    verbose=verbose)\n",
        "            \n",
        "        pred_i = clf.predict(x_valid)\n",
        "        \n",
        "        oof_pred[idx_valid] = pred_i\n",
        "        models.append(clf)\n",
        "        \n",
        "        print(f'K Fold {i} RMSLE: {metric_func(y_valid, pred_i) ** .5:.4f}')\n",
        "        \n",
        "    score = metric_func(y, oof_pred) ** .5\n",
        "    print('FINIHED | Whole RMSLE: {:.4f}'.format(score))\n",
        "    return oof_pred, models"
      ],
      "execution_count": 35,
      "outputs": []
    },
    {
      "cell_type": "code",
      "metadata": {
        "colab": {
          "base_uri": "https://localhost:8080/"
        },
        "id": "eUUrer-9KiUU",
        "outputId": "352419ca-5966-4f48-f6ac-4b6db8f2d258"
      },
      "source": [
        "params = {\n",
        "    \"objective\": \"rmse\",\n",
        "    \"max_depth\": 5,\n",
        "    \"n_estimators\": 100000,\n",
        "    \"learning_rate\": 0.01,\n",
        "    \"colsample_bytree\": .5,\n",
        "    \"importance_type\": \"gain\",\n",
        "}\n",
        "\n",
        "from sklearn.model_selection import KFold\n",
        "\n",
        "fold = KFold(n_splits=5, shuffle=True, random_state=71)\n",
        "cv = list(fold.split(train_feat_df, y))\n",
        "\n",
        "oof, models = fit_lgbm(train_feat_df.values, y, cv, params=params, verbose=500)"
      ],
      "execution_count": 36,
      "outputs": [
        {
          "output_type": "stream",
          "text": [
            "Training until validation scores don't improve for 500 rounds.\n",
            "[500]\tvalid_0's rmse: 1.09729\n",
            "[1000]\tvalid_0's rmse: 1.0792\n",
            "[1500]\tvalid_0's rmse: 1.07164\n",
            "[2000]\tvalid_0's rmse: 1.0675\n",
            "[2500]\tvalid_0's rmse: 1.06347\n",
            "[3000]\tvalid_0's rmse: 1.06131\n",
            "[3500]\tvalid_0's rmse: 1.0601\n",
            "[4000]\tvalid_0's rmse: 1.06014\n",
            "Early stopping, best iteration is:\n",
            "[3771]\tvalid_0's rmse: 1.05976\n",
            "fit fold=135.423[s]\n",
            "K Fold 0 RMSLE: 1.0598\n",
            "Training until validation scores don't improve for 500 rounds.\n",
            "[500]\tvalid_0's rmse: 1.09229\n",
            "[1000]\tvalid_0's rmse: 1.07609\n",
            "[1500]\tvalid_0's rmse: 1.06893\n",
            "[2000]\tvalid_0's rmse: 1.06447\n",
            "[2500]\tvalid_0's rmse: 1.06274\n",
            "[3000]\tvalid_0's rmse: 1.06184\n",
            "[3500]\tvalid_0's rmse: 1.06133\n",
            "[4000]\tvalid_0's rmse: 1.06128\n",
            "Early stopping, best iteration is:\n",
            "[3539]\tvalid_0's rmse: 1.06108\n",
            "fit fold=233.022[s]\n",
            "K Fold 1 RMSLE: 1.0611\n",
            "Training until validation scores don't improve for 500 rounds.\n",
            "[500]\tvalid_0's rmse: 1.0756\n",
            "[1000]\tvalid_0's rmse: 1.05802\n",
            "[1500]\tvalid_0's rmse: 1.05035\n",
            "[2000]\tvalid_0's rmse: 1.04722\n",
            "[2500]\tvalid_0's rmse: 1.0446\n",
            "[3000]\tvalid_0's rmse: 1.04369\n",
            "[3500]\tvalid_0's rmse: 1.04198\n",
            "[4000]\tvalid_0's rmse: 1.04112\n",
            "[4500]\tvalid_0's rmse: 1.04006\n",
            "[5000]\tvalid_0's rmse: 1.03999\n",
            "[5500]\tvalid_0's rmse: 1.03987\n",
            "[6000]\tvalid_0's rmse: 1.0402\n",
            "Early stopping, best iteration is:\n",
            "[5667]\tvalid_0's rmse: 1.03973\n",
            "fit fold=350.385[s]\n",
            "K Fold 2 RMSLE: 1.0397\n",
            "Training until validation scores don't improve for 500 rounds.\n",
            "[500]\tvalid_0's rmse: 1.07831\n",
            "[1000]\tvalid_0's rmse: 1.06311\n",
            "[1500]\tvalid_0's rmse: 1.05634\n",
            "[2000]\tvalid_0's rmse: 1.05211\n",
            "[2500]\tvalid_0's rmse: 1.05039\n",
            "[3000]\tvalid_0's rmse: 1.05049\n",
            "[3500]\tvalid_0's rmse: 1.05022\n",
            "Early stopping, best iteration is:\n",
            "[3348]\tvalid_0's rmse: 1.04973\n",
            "fit fold=432.528[s]\n",
            "K Fold 3 RMSLE: 1.0497\n",
            "Training until validation scores don't improve for 500 rounds.\n",
            "[500]\tvalid_0's rmse: 1.07345\n",
            "[1000]\tvalid_0's rmse: 1.06061\n",
            "[1500]\tvalid_0's rmse: 1.05275\n",
            "[2000]\tvalid_0's rmse: 1.04933\n",
            "[2500]\tvalid_0's rmse: 1.04833\n",
            "[3000]\tvalid_0's rmse: 1.04693\n",
            "[3500]\tvalid_0's rmse: 1.04678\n",
            "Early stopping, best iteration is:\n",
            "[3403]\tvalid_0's rmse: 1.04663\n",
            "fit fold=532.246[s]\n",
            "K Fold 4 RMSLE: 1.0466\n",
            "FINIHED | Whole RMSLE: 1.0514\n"
          ],
          "name": "stdout"
        }
      ]
    },
    {
      "cell_type": "code",
      "metadata": {
        "id": "JTJ6zAUGKmH0"
      },
      "source": [
        "def visualize_importance(models, feat_train_df):\n",
        "    \"\"\"lightGBM の model 配列の feature importance を plot する\n",
        "    CVごとのブレを boxen plot として表現します.\n",
        "\n",
        "    args:\n",
        "        models:\n",
        "            List of lightGBM models\n",
        "        feat_train_df:\n",
        "            学習時に使った DataFrame\n",
        "    \"\"\"\n",
        "    feature_importance_df = pd.DataFrame()\n",
        "    for i, model in enumerate(models):\n",
        "        _df = pd.DataFrame()\n",
        "        _df['feature_importance'] = model.feature_importances_\n",
        "        _df['column'] = feat_train_df.columns\n",
        "        _df['fold'] = i + 1\n",
        "        feature_importance_df = pd.concat([feature_importance_df, _df], \n",
        "                                          axis=0, ignore_index=True)\n",
        "\n",
        "    order = feature_importance_df.groupby('column')\\\n",
        "        .sum()[['feature_importance']]\\\n",
        "        .sort_values('feature_importance', ascending=False).index[3:50]\n",
        "\n",
        "    fig, ax = plt.subplots(figsize=(8, max(6, len(order) * .25)))\n",
        "    sns.boxenplot(data=feature_importance_df, \n",
        "                  x='feature_importance', \n",
        "                  y='column', \n",
        "                  order=order, \n",
        "                  ax=ax, \n",
        "                  palette='viridis', \n",
        "                  orient='h')\n",
        "    ax.tick_params(axis='x', rotation=90)\n",
        "    ax.set_title('Importance')\n",
        "    ax.grid()\n",
        "    return fig, ax"
      ],
      "execution_count": 37,
      "outputs": []
    },
    {
      "cell_type": "code",
      "metadata": {
        "colab": {
          "base_uri": "https://localhost:8080/",
          "height": 754
        },
        "id": "cW73cdABKq_G",
        "outputId": "b11813ad-6518-4f09-fb65-fc0b95e35c00"
      },
      "source": [
        "fig, _ = visualize_importance(models, feat_train_df=train_feat_df)"
      ],
      "execution_count": 38,
      "outputs": [
        {
          "output_type": "display_data",
          "data": {
            "image/png": "[encoded data removed]",
            "text/plain": [
              "<Figure size 576x846 with 1 Axes>"
            ]
          },
          "metadata": {
            "tags": []
          }
        }
      ]
    },
    {
      "cell_type": "code",
      "metadata": {
        "colab": {
          "base_uri": "https://localhost:8080/",
          "height": 485
        },
        "id": "DVdnWQ2cKtC8",
        "outputId": "8db35cf7-8f0b-4228-dcff-9990722f8cd7"
      },
      "source": [
        "\n",
        "def revert_to_real(y_log):\n",
        "    _pred = np.expm1(y_log)\n",
        "    _pred = np.where(_pred < 0, 0, _pred)\n",
        "    return _pred\n",
        "\n",
        "\n",
        "pred = np.array([model.predict(test_feat_df.values) for model in models])\n",
        "pred = np.mean(pred, axis=0)\n",
        "pred = revert_to_real(pred)\n",
        "sub_df = pd.DataFrame({ 'likes': pred })\n",
        "\n",
        "fig, ax = plt.subplots(figsize=(8, 8))\n",
        "sns.histplot(np.log1p(pred), label='Test Predict', ax=ax, color='black')\n",
        "sns.histplot(oof, label='Out Of Fold', ax=ax, color='C1')\n",
        "plt.vlines(np.median(np.log1p(train_df[\"likes\"])), ymin=0, ymax=700, color=\"red\", label=\"median\")\n",
        "plt.vlines(np.mean(np.log1p(train_df[\"likes\"])), ymin=0, ymax=700, color=\"blue\", label=\"mean\")\n",
        "ax.legend()\n",
        "ax.grid()"
      ],
      "execution_count": 39,
      "outputs": [
        {
          "output_type": "display_data",
          "data": {
            "image/png": "[encoded data removed]",
            "text/plain": [
              "<Figure size 576x576 with 1 Axes>"
            ]
          },
          "metadata": {
            "tags": []
          }
        }
      ]
    },
    {
      "cell_type": "code",
      "metadata": {
        "id": "jHkmKhNAKwiO"
      },
      "source": [
        "sub_df.to_csv(OUTPUT_PATH + 'add_color_feature.csv', index=False)"
      ],
      "execution_count": 43,
      "outputs": []
    },
    {
      "cell_type": "code",
      "metadata": {
        "id": "_557UOweiQEa"
      },
      "source": [
        ""
      ],
      "execution_count": null,
      "outputs": []
    }
  ]
}