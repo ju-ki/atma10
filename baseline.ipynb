{
  "nbformat": 4,
  "nbformat_minor": 0,
  "metadata": {
    "colab": {
      "name": "baseline.ipynb",
      "provenance": [],
      "collapsed_sections": [],
      "mount_file_id": "1ldqJptWS9y9jGKqHyNxjIpW2y3Lv4O6b",
      "authorship_tag": "ABX9TyPixwkdVJKNAE35Y5493JLY",
      "include_colab_link": true
    },
    "kernelspec": {
      "name": "python3",
      "display_name": "Python 3"
    }
  },
  "cells": [
    {
      "cell_type": "markdown",
      "metadata": {
        "id": "view-in-github",
        "colab_type": "text"
      },
      "source": [
        "<a href=\"https://colab.research.google.com/github/ju-ki/atma10/blob/master/baseline.ipynb\" target=\"_parent\"><img src=\"https://colab.research.google.com/assets/colab-badge.svg\" alt=\"Open In Colab\"/></a>"
      ]
    },
    {
      "cell_type": "code",
      "metadata": {
        "colab": {
          "base_uri": "https://localhost:8080/"
        },
        "id": "PrzqoOudWSD-",
        "outputId": "f601516e-9bac-4ed4-9c7c-a057628bee30"
      },
      "source": [
        "from google.colab import drive\n",
        "drive.mount(\"/content/drive/\")"
      ],
      "execution_count": 1,
      "outputs": [
        {
          "output_type": "stream",
          "text": [
            "Drive already mounted at /content/drive/; to attempt to forcibly remount, call drive.mount(\"/content/drive/\", force_remount=True).\n"
          ],
          "name": "stdout"
        }
      ]
    },
    {
      "cell_type": "code",
      "metadata": {
        "colab": {
          "base_uri": "https://localhost:8080/"
        },
        "id": "IJXqjWPXiRbU",
        "outputId": "bb302573-f25f-4d58-a596-b41dffa26377"
      },
      "source": [
        "!git clone https://github.com/facebookresearch/fastText.git\n",
        "!pip install fastText\n",
        "!rm -rf fastText"
      ],
      "execution_count": 2,
      "outputs": [
        {
          "output_type": "stream",
          "text": [
            "Cloning into 'fastText'...\n",
            "remote: Enumerating objects: 3854, done.\u001b[K\n",
            "remote: Total 3854 (delta 0), reused 0 (delta 0), pack-reused 3854\u001b[K\n",
            "Receiving objects: 100% (3854/3854), 8.23 MiB | 31.90 MiB/s, done.\n",
            "Resolving deltas: 100% (2416/2416), done.\n",
            "Requirement already satisfied: fastText in /usr/local/lib/python3.7/dist-packages (0.9.2)\n",
            "Requirement already satisfied: numpy in /usr/local/lib/python3.7/dist-packages (from fastText) (1.19.5)\n",
            "Requirement already satisfied: pybind11>=2.2 in /usr/local/lib/python3.7/dist-packages (from fastText) (2.6.2)\n",
            "Requirement already satisfied: setuptools>=0.7.0 in /usr/local/lib/python3.7/dist-packages (from fastText) (54.0.0)\n"
          ],
          "name": "stdout"
        }
      ]
    },
    {
      "cell_type": "code",
      "metadata": {
        "colab": {
          "base_uri": "https://localhost:8080/"
        },
        "id": "mp_PU7KLoUiX",
        "outputId": "eea8d7c7-0e8e-44e7-afe8-4dd798469e33"
      },
      "source": [
        "pip install category_encoders xfeat"
      ],
      "execution_count": 3,
      "outputs": [
        {
          "output_type": "stream",
          "text": [
            "Requirement already satisfied: category_encoders in /usr/local/lib/python3.7/dist-packages (2.2.2)\n",
            "Requirement already satisfied: xfeat in /usr/local/lib/python3.7/dist-packages (0.1.1)\n",
            "Requirement already satisfied: patsy>=0.5.1 in /usr/local/lib/python3.7/dist-packages (from category_encoders) (0.5.1)\n",
            "Requirement already satisfied: statsmodels>=0.9.0 in /usr/local/lib/python3.7/dist-packages (from category_encoders) (0.10.2)\n",
            "Requirement already satisfied: numpy>=1.14.0 in /usr/local/lib/python3.7/dist-packages (from category_encoders) (1.19.5)\n",
            "Requirement already satisfied: scipy>=1.0.0 in /usr/local/lib/python3.7/dist-packages (from category_encoders) (1.4.1)\n",
            "Requirement already satisfied: pandas>=0.21.1 in /usr/local/lib/python3.7/dist-packages (from category_encoders) (1.1.5)\n",
            "Requirement already satisfied: scikit-learn>=0.20.0 in /usr/local/lib/python3.7/dist-packages (from category_encoders) (0.22.2.post1)\n",
            "Requirement already satisfied: lightgbm in /usr/local/lib/python3.7/dist-packages (from xfeat) (2.2.3)\n",
            "Requirement already satisfied: pyarrow in /usr/local/lib/python3.7/dist-packages (from xfeat) (3.0.0)\n",
            "Requirement already satisfied: optuna>=1.3.0 in /usr/local/lib/python3.7/dist-packages (from xfeat) (2.5.0)\n",
            "Requirement already satisfied: PyYAML in /usr/local/lib/python3.7/dist-packages (from xfeat) (3.13)\n",
            "Requirement already satisfied: ml-metrics in /usr/local/lib/python3.7/dist-packages (from xfeat) (0.1.4)\n",
            "Requirement already satisfied: six in /usr/local/lib/python3.7/dist-packages (from patsy>=0.5.1->category_encoders) (1.15.0)\n",
            "Requirement already satisfied: python-dateutil>=2.7.3 in /usr/local/lib/python3.7/dist-packages (from pandas>=0.21.1->category_encoders) (2.8.1)\n",
            "Requirement already satisfied: pytz>=2017.2 in /usr/local/lib/python3.7/dist-packages (from pandas>=0.21.1->category_encoders) (2018.9)\n",
            "Requirement already satisfied: joblib>=0.11 in /usr/local/lib/python3.7/dist-packages (from scikit-learn>=0.20.0->category_encoders) (1.0.1)\n",
            "Requirement already satisfied: colorlog in /usr/local/lib/python3.7/dist-packages (from optuna>=1.3.0->xfeat) (4.7.2)\n",
            "Requirement already satisfied: cliff in /usr/local/lib/python3.7/dist-packages (from optuna>=1.3.0->xfeat) (3.7.0)\n",
            "Requirement already satisfied: alembic in /usr/local/lib/python3.7/dist-packages (from optuna>=1.3.0->xfeat) (1.5.6)\n",
            "Requirement already satisfied: cmaes>=0.6.0 in /usr/local/lib/python3.7/dist-packages (from optuna>=1.3.0->xfeat) (0.8.2)\n",
            "Requirement already satisfied: packaging>=20.0 in /usr/local/lib/python3.7/dist-packages (from optuna>=1.3.0->xfeat) (20.9)\n",
            "Requirement already satisfied: sqlalchemy>=1.1.0 in /usr/local/lib/python3.7/dist-packages (from optuna>=1.3.0->xfeat) (1.3.23)\n",
            "Requirement already satisfied: tqdm in /usr/local/lib/python3.7/dist-packages (from optuna>=1.3.0->xfeat) (4.41.1)\n",
            "Requirement already satisfied: pyparsing>=2.1.0 in /usr/local/lib/python3.7/dist-packages (from cliff->optuna>=1.3.0->xfeat) (2.4.7)\n",
            "Requirement already satisfied: pbr!=2.1.0,>=2.0.0 in /usr/local/lib/python3.7/dist-packages (from cliff->optuna>=1.3.0->xfeat) (5.5.1)\n",
            "Requirement already satisfied: cmd2>=1.0.0 in /usr/local/lib/python3.7/dist-packages (from cliff->optuna>=1.3.0->xfeat) (1.5.0)\n",
            "Requirement already satisfied: stevedore>=2.0.1 in /usr/local/lib/python3.7/dist-packages (from cliff->optuna>=1.3.0->xfeat) (3.3.0)\n",
            "Requirement already satisfied: PrettyTable>=0.7.2 in /usr/local/lib/python3.7/dist-packages (from cliff->optuna>=1.3.0->xfeat) (2.0.0)\n",
            "Requirement already satisfied: Mako in /usr/local/lib/python3.7/dist-packages (from alembic->optuna>=1.3.0->xfeat) (1.1.4)\n",
            "Requirement already satisfied: python-editor>=0.3 in /usr/local/lib/python3.7/dist-packages (from alembic->optuna>=1.3.0->xfeat) (1.0.4)\n",
            "Requirement already satisfied: importlib-metadata>=1.6.0; python_version < \"3.8\" in /usr/local/lib/python3.7/dist-packages (from cmd2>=1.0.0->cliff->optuna>=1.3.0->xfeat) (3.7.0)\n",
            "Requirement already satisfied: wcwidth>=0.1.7 in /usr/local/lib/python3.7/dist-packages (from cmd2>=1.0.0->cliff->optuna>=1.3.0->xfeat) (0.2.5)\n",
            "Requirement already satisfied: pyperclip>=1.6 in /usr/local/lib/python3.7/dist-packages (from cmd2>=1.0.0->cliff->optuna>=1.3.0->xfeat) (1.8.2)\n",
            "Requirement already satisfied: colorama>=0.3.7 in /usr/local/lib/python3.7/dist-packages (from cmd2>=1.0.0->cliff->optuna>=1.3.0->xfeat) (0.4.4)\n",
            "Requirement already satisfied: attrs>=16.3.0 in /usr/local/lib/python3.7/dist-packages (from cmd2>=1.0.0->cliff->optuna>=1.3.0->xfeat) (20.3.0)\n",
            "Requirement already satisfied: setuptools in /usr/local/lib/python3.7/dist-packages (from PrettyTable>=0.7.2->cliff->optuna>=1.3.0->xfeat) (54.0.0)\n",
            "Requirement already satisfied: MarkupSafe>=0.9.2 in /usr/local/lib/python3.7/dist-packages (from Mako->alembic->optuna>=1.3.0->xfeat) (1.1.1)\n",
            "Requirement already satisfied: zipp>=0.5 in /usr/local/lib/python3.7/dist-packages (from importlib-metadata>=1.6.0; python_version < \"3.8\"->cmd2>=1.0.0->cliff->optuna>=1.3.0->xfeat) (3.4.0)\n",
            "Requirement already satisfied: typing-extensions>=3.6.4; python_version < \"3.8\" in /usr/local/lib/python3.7/dist-packages (from importlib-metadata>=1.6.0; python_version < \"3.8\"->cmd2>=1.0.0->cliff->optuna>=1.3.0->xfeat) (3.7.4.3)\n"
          ],
          "name": "stdout"
        }
      ]
    },
    {
      "cell_type": "code",
      "metadata": {
        "id": "G6iG7SkwXKIS"
      },
      "source": [
        "import os \n",
        "import glob \n",
        "import numpy as np\n",
        "import pandas as pd\n",
        "import matplotlib.pyplot as plt\n",
        "import seaborn as sns\n",
        "from fasttext import load_model\n",
        "sns.set()\n",
        "CODE_PATH = \"/content/drive/MyDrive/atmacup10/code/\"\n",
        "INPUT_PATH = \"/content/drive/MyDrive/atmacup10/data/raw/\"\n",
        "OUTPT_PAHT = \"/content/drive/MyDrive/atmacup10/data/submission/\""
      ],
      "execution_count": 4,
      "outputs": []
    },
    {
      "cell_type": "code",
      "metadata": {
        "id": "GhYimqPWXUj7"
      },
      "source": [
        "train = pd.read_csv(INPUT_PATH + \"train.csv\")\n",
        "test = pd.read_csv(INPUT_PATH + \"test.csv\")"
      ],
      "execution_count": 5,
      "outputs": []
    },
    {
      "cell_type": "code",
      "metadata": {
        "colab": {
          "base_uri": "https://localhost:8080/",
          "height": 438
        },
        "id": "gMpirlMIXXq2",
        "outputId": "f2258f07-61e4-47a2-89be-f99ed90ff6c4"
      },
      "source": [
        "train.head(3)"
      ],
      "execution_count": 6,
      "outputs": [
        {
          "output_type": "execute_result",
          "data": {
            "text/html": [
              "<div>\n",
              "<style scoped>\n",
              "    .dataframe tbody tr th:only-of-type {\n",
              "        vertical-align: middle;\n",
              "    }\n",
              "\n",
              "    .dataframe tbody tr th {\n",
              "        vertical-align: top;\n",
              "    }\n",
              "\n",
              "    .dataframe thead th {\n",
              "        text-align: right;\n",
              "    }\n",
              "</style>\n",
              "<table border=\"1\" class=\"dataframe\">\n",
              "  <thead>\n",
              "    <tr style=\"text-align: right;\">\n",
              "      <th></th>\n",
              "      <th>object_id</th>\n",
              "      <th>art_series_id</th>\n",
              "      <th>title</th>\n",
              "      <th>description</th>\n",
              "      <th>long_title</th>\n",
              "      <th>principal_maker</th>\n",
              "      <th>principal_or_first_maker</th>\n",
              "      <th>sub_title</th>\n",
              "      <th>copyright_holder</th>\n",
              "      <th>more_title</th>\n",
              "      <th>acquisition_method</th>\n",
              "      <th>acquisition_date</th>\n",
              "      <th>acquisition_credit_line</th>\n",
              "      <th>dating_presenting_date</th>\n",
              "      <th>dating_sorting_date</th>\n",
              "      <th>dating_period</th>\n",
              "      <th>dating_year_early</th>\n",
              "      <th>dating_year_late</th>\n",
              "      <th>likes</th>\n",
              "    </tr>\n",
              "  </thead>\n",
              "  <tbody>\n",
              "    <tr>\n",
              "      <th>0</th>\n",
              "      <td>0011d6be41612ec9eae3</td>\n",
              "      <td>93c092ba70beab248f31</td>\n",
              "      <td>The Avenue of Birches</td>\n",
              "      <td>NaN</td>\n",
              "      <td>The Avenue of Birches, Jan Hackaert, 1660 - 1685</td>\n",
              "      <td>Jan Hackaert</td>\n",
              "      <td>Jan Hackaert</td>\n",
              "      <td>h 66.5cm × w 53.7cm × t 2.5cm × d 4.7cm</td>\n",
              "      <td>NaN</td>\n",
              "      <td>The Avenue of Birches</td>\n",
              "      <td>purchase</td>\n",
              "      <td>1808-01-01T00:00:00</td>\n",
              "      <td>NaN</td>\n",
              "      <td>1660 - 1685</td>\n",
              "      <td>1660.0</td>\n",
              "      <td>17</td>\n",
              "      <td>1660.0</td>\n",
              "      <td>1685.0</td>\n",
              "      <td>48</td>\n",
              "    </tr>\n",
              "    <tr>\n",
              "      <th>1</th>\n",
              "      <td>0012765f7a97ccc3e9e9</td>\n",
              "      <td>95c14fb11c54281ad7e0</td>\n",
              "      <td>Struik in bloei</td>\n",
              "      <td>NaN</td>\n",
              "      <td>Struik in bloei, Richard Tepe (attributed to),...</td>\n",
              "      <td>Richard Tepe</td>\n",
              "      <td>Richard Tepe</td>\n",
              "      <td>h 165mm × w 223mm</td>\n",
              "      <td>erven Richard Tepe</td>\n",
              "      <td>Struik in bloei</td>\n",
              "      <td>purchase</td>\n",
              "      <td>2000-01-01T00:00:00</td>\n",
              "      <td>NaN</td>\n",
              "      <td>c. 1900 - c. 1930</td>\n",
              "      <td>1900.0</td>\n",
              "      <td>19</td>\n",
              "      <td>1900.0</td>\n",
              "      <td>1930.0</td>\n",
              "      <td>2</td>\n",
              "    </tr>\n",
              "    <tr>\n",
              "      <th>2</th>\n",
              "      <td>0017be8caa87206532cb</td>\n",
              "      <td>4c406890d208fe01f8fb</td>\n",
              "      <td>Portret van een vrouw</td>\n",
              "      <td>Portret van eenvrouw, zittend naast een tafel.</td>\n",
              "      <td>Portret van een vrouw, Tresling &amp; Comp., 1860 ...</td>\n",
              "      <td>Tresling &amp; Comp.</td>\n",
              "      <td>Tresling &amp; Comp.</td>\n",
              "      <td>h 87mm × w 56mm</td>\n",
              "      <td>NaN</td>\n",
              "      <td>Portret van een vrouw</td>\n",
              "      <td>gift</td>\n",
              "      <td>2007-01-01T00:00:00</td>\n",
              "      <td>Gift of M.M. Boom, Leiden</td>\n",
              "      <td>1860 - 1880</td>\n",
              "      <td>1860.0</td>\n",
              "      <td>19</td>\n",
              "      <td>1860.0</td>\n",
              "      <td>1880.0</td>\n",
              "      <td>5</td>\n",
              "    </tr>\n",
              "  </tbody>\n",
              "</table>\n",
              "</div>"
            ],
            "text/plain": [
              "              object_id         art_series_id  ... dating_year_late likes\n",
              "0  0011d6be41612ec9eae3  93c092ba70beab248f31  ...           1685.0    48\n",
              "1  0012765f7a97ccc3e9e9  95c14fb11c54281ad7e0  ...           1930.0     2\n",
              "2  0017be8caa87206532cb  4c406890d208fe01f8fb  ...           1880.0     5\n",
              "\n",
              "[3 rows x 19 columns]"
            ]
          },
          "metadata": {
            "tags": []
          },
          "execution_count": 6
        }
      ]
    },
    {
      "cell_type": "code",
      "metadata": {
        "id": "OciCziYAhpvz"
      },
      "source": [
        "def get_period_of_production(input_df):\n",
        "  out_df = pd.DataFrame()\n",
        "  out_df[\"period_of_production\"] = input_df[\"dating_year_late\"] - input_df[\"dating_year_early\"]\n",
        "  return out_df"
      ],
      "execution_count": 7,
      "outputs": []
    },
    {
      "cell_type": "code",
      "metadata": {
        "colab": {
          "base_uri": "https://localhost:8080/"
        },
        "id": "g5I60JieiF6r",
        "outputId": "8b8a8bb8-0137-44b2-acca-48e483e99cd3"
      },
      "source": [
        "model = load_model(\"/content/drive/MyDrive/atmacup10/data/external/lid.176.bin\")"
      ],
      "execution_count": 8,
      "outputs": [
        {
          "output_type": "stream",
          "text": [
            "Warning : `load_model` does not return WordVectorModel or SupervisedModel any more, but a `FastText` object which is very similar.\n"
          ],
          "name": "stderr"
        }
      ]
    },
    {
      "cell_type": "code",
      "metadata": {
        "id": "1jLguymki5Sn"
      },
      "source": [
        "def get_label_lang(input_df, cols):\n",
        "  out_df = pd.DataFrame()\n",
        "  out_df[\"label_lang\"] = input_df[cols].fillna(\"\").map(lambda x: model.predict(x.replace(\"\\n\", \"\"))[0][0])\n",
        "  return out_df.add_suffix(f\"_{cols}\")"
      ],
      "execution_count": 9,
      "outputs": []
    },
    {
      "cell_type": "code",
      "metadata": {
        "id": "Bz7zKvpH4Vvv"
      },
      "source": [
        "train = pd.concat([train, get_label_lang(train, \"title\")], axis=1)\n",
        "train = pd.concat([train, get_label_lang(train, \"description\")], axis=1)\n",
        "\n",
        "test = pd.concat([test, get_label_lang(test, \"title\")], axis=1)\n",
        "test = pd.concat([test, get_label_lang(test, \"description\")], axis=1)"
      ],
      "execution_count": 10,
      "outputs": []
    },
    {
      "cell_type": "code",
      "metadata": {
        "id": "DY0mMAMijhkg"
      },
      "source": [
        "def get_count(input_df, cols):\n",
        "  out_df = pd.DataFrame()\n",
        "  out_df[\"count\"] = input_df[cols].apply(lambda x: len(x.split())).fillna(0)\n",
        "  return out_df.add_suffix(f\"_{cols}\")"
      ],
      "execution_count": 11,
      "outputs": []
    },
    {
      "cell_type": "code",
      "metadata": {
        "colab": {
          "base_uri": "https://localhost:8080/",
          "height": 415
        },
        "id": "3r31JwBGjj-m",
        "outputId": "45a431e4-017f-4429-c3a0-e02fd8c4ba99"
      },
      "source": [
        "get_count(train, \"title\")"
      ],
      "execution_count": 12,
      "outputs": [
        {
          "output_type": "execute_result",
          "data": {
            "text/html": [
              "<div>\n",
              "<style scoped>\n",
              "    .dataframe tbody tr th:only-of-type {\n",
              "        vertical-align: middle;\n",
              "    }\n",
              "\n",
              "    .dataframe tbody tr th {\n",
              "        vertical-align: top;\n",
              "    }\n",
              "\n",
              "    .dataframe thead th {\n",
              "        text-align: right;\n",
              "    }\n",
              "</style>\n",
              "<table border=\"1\" class=\"dataframe\">\n",
              "  <thead>\n",
              "    <tr style=\"text-align: right;\">\n",
              "      <th></th>\n",
              "      <th>count_title</th>\n",
              "    </tr>\n",
              "  </thead>\n",
              "  <tbody>\n",
              "    <tr>\n",
              "      <th>0</th>\n",
              "      <td>4</td>\n",
              "    </tr>\n",
              "    <tr>\n",
              "      <th>1</th>\n",
              "      <td>3</td>\n",
              "    </tr>\n",
              "    <tr>\n",
              "      <th>2</th>\n",
              "      <td>4</td>\n",
              "    </tr>\n",
              "    <tr>\n",
              "      <th>3</th>\n",
              "      <td>4</td>\n",
              "    </tr>\n",
              "    <tr>\n",
              "      <th>4</th>\n",
              "      <td>4</td>\n",
              "    </tr>\n",
              "    <tr>\n",
              "      <th>...</th>\n",
              "      <td>...</td>\n",
              "    </tr>\n",
              "    <tr>\n",
              "      <th>12021</th>\n",
              "      <td>7</td>\n",
              "    </tr>\n",
              "    <tr>\n",
              "      <th>12022</th>\n",
              "      <td>10</td>\n",
              "    </tr>\n",
              "    <tr>\n",
              "      <th>12023</th>\n",
              "      <td>10</td>\n",
              "    </tr>\n",
              "    <tr>\n",
              "      <th>12024</th>\n",
              "      <td>6</td>\n",
              "    </tr>\n",
              "    <tr>\n",
              "      <th>12025</th>\n",
              "      <td>5</td>\n",
              "    </tr>\n",
              "  </tbody>\n",
              "</table>\n",
              "<p>12026 rows × 1 columns</p>\n",
              "</div>"
            ],
            "text/plain": [
              "       count_title\n",
              "0                4\n",
              "1                3\n",
              "2                4\n",
              "3                4\n",
              "4                4\n",
              "...            ...\n",
              "12021            7\n",
              "12022           10\n",
              "12023           10\n",
              "12024            6\n",
              "12025            5\n",
              "\n",
              "[12026 rows x 1 columns]"
            ]
          },
          "metadata": {
            "tags": []
          },
          "execution_count": 12
        }
      ]
    },
    {
      "cell_type": "code",
      "metadata": {
        "id": "CEc_HAiKkUba"
      },
      "source": [
        "train[\"acquisition_date\"] = pd.to_datetime(train[\"acquisition_date\"])"
      ],
      "execution_count": 13,
      "outputs": []
    },
    {
      "cell_type": "code",
      "metadata": {
        "colab": {
          "base_uri": "https://localhost:8080/"
        },
        "id": "qpVGZ8SZlXHp",
        "outputId": "e041934d-9843-47a8-8f95-0b501f9b745c"
      },
      "source": [
        "train[\"acquisition_date\"].dt.year"
      ],
      "execution_count": 14,
      "outputs": [
        {
          "output_type": "execute_result",
          "data": {
            "text/plain": [
              "0        1808.0\n",
              "1        2000.0\n",
              "2        2007.0\n",
              "3        1881.0\n",
              "4        1971.0\n",
              "          ...  \n",
              "12021    1994.0\n",
              "12022    1881.0\n",
              "12023    1887.0\n",
              "12024    1881.0\n",
              "12025    1941.0\n",
              "Name: acquisition_date, Length: 12026, dtype: float64"
            ]
          },
          "metadata": {
            "tags": []
          },
          "execution_count": 14
        }
      ]
    },
    {
      "cell_type": "code",
      "metadata": {
        "id": "WQLktiACmGA3"
      },
      "source": [
        "def get_time_between_late_year_and_acqusition(input_df):\n",
        "  input_df[\"acquisition_date\"] = pd.to_datetime(input_df[\"acquisition_date\"])\n",
        "  input_df[\"year\"] = input_df[\"acquisition_date\"].dt.year.fillna(0)\n",
        "  out_df = pd.DataFrame()\n",
        "  out_df[\"period_of_acquisition_date\"] = input_df[\"year\"]- input_df[\"dating_year_late\"].fillna(0).astype(float)\n",
        "  return out_df"
      ],
      "execution_count": 15,
      "outputs": []
    },
    {
      "cell_type": "code",
      "metadata": {
        "colab": {
          "base_uri": "https://localhost:8080/",
          "height": 415
        },
        "id": "_dz1litdlzCF",
        "outputId": "a3a3c954-4d45-4ff0-8466-b40f962194d6"
      },
      "source": [
        "get_time_between_late_year_and_acqusition(train)"
      ],
      "execution_count": 16,
      "outputs": [
        {
          "output_type": "execute_result",
          "data": {
            "text/html": [
              "<div>\n",
              "<style scoped>\n",
              "    .dataframe tbody tr th:only-of-type {\n",
              "        vertical-align: middle;\n",
              "    }\n",
              "\n",
              "    .dataframe tbody tr th {\n",
              "        vertical-align: top;\n",
              "    }\n",
              "\n",
              "    .dataframe thead th {\n",
              "        text-align: right;\n",
              "    }\n",
              "</style>\n",
              "<table border=\"1\" class=\"dataframe\">\n",
              "  <thead>\n",
              "    <tr style=\"text-align: right;\">\n",
              "      <th></th>\n",
              "      <th>period_of_acquisition_date</th>\n",
              "    </tr>\n",
              "  </thead>\n",
              "  <tbody>\n",
              "    <tr>\n",
              "      <th>0</th>\n",
              "      <td>123.0</td>\n",
              "    </tr>\n",
              "    <tr>\n",
              "      <th>1</th>\n",
              "      <td>70.0</td>\n",
              "    </tr>\n",
              "    <tr>\n",
              "      <th>2</th>\n",
              "      <td>127.0</td>\n",
              "    </tr>\n",
              "    <tr>\n",
              "      <th>3</th>\n",
              "      <td>2.0</td>\n",
              "    </tr>\n",
              "    <tr>\n",
              "      <th>4</th>\n",
              "      <td>97.0</td>\n",
              "    </tr>\n",
              "    <tr>\n",
              "      <th>...</th>\n",
              "      <td>...</td>\n",
              "    </tr>\n",
              "    <tr>\n",
              "      <th>12021</th>\n",
              "      <td>74.0</td>\n",
              "    </tr>\n",
              "    <tr>\n",
              "      <th>12022</th>\n",
              "      <td>167.0</td>\n",
              "    </tr>\n",
              "    <tr>\n",
              "      <th>12023</th>\n",
              "      <td>109.0</td>\n",
              "    </tr>\n",
              "    <tr>\n",
              "      <th>12024</th>\n",
              "      <td>191.0</td>\n",
              "    </tr>\n",
              "    <tr>\n",
              "      <th>12025</th>\n",
              "      <td>406.0</td>\n",
              "    </tr>\n",
              "  </tbody>\n",
              "</table>\n",
              "<p>12026 rows × 1 columns</p>\n",
              "</div>"
            ],
            "text/plain": [
              "       period_of_acquisition_date\n",
              "0                           123.0\n",
              "1                            70.0\n",
              "2                           127.0\n",
              "3                             2.0\n",
              "4                            97.0\n",
              "...                           ...\n",
              "12021                        74.0\n",
              "12022                       167.0\n",
              "12023                       109.0\n",
              "12024                       191.0\n",
              "12025                       406.0\n",
              "\n",
              "[12026 rows x 1 columns]"
            ]
          },
          "metadata": {
            "tags": []
          },
          "execution_count": 16
        }
      ]
    },
    {
      "cell_type": "code",
      "metadata": {
        "colab": {
          "base_uri": "https://localhost:8080/"
        },
        "id": "e-3ABkLFnFM4",
        "outputId": "5cf90e09-6fc0-4ad0-f567-c36aee090f01"
      },
      "source": [
        "os.chdir(\"/content/drive/MyDrive/atmacup10/code/\")\n",
        "from feature_engine import *"
      ],
      "execution_count": 17,
      "outputs": [
        {
          "output_type": "stream",
          "text": [
            "/usr/local/lib/python3.7/dist-packages/statsmodels/tools/_testing.py:19: FutureWarning: pandas.util.testing is deprecated. Use the functions in the public API at pandas.testing instead.\n",
            "  import pandas.util.testing as tm\n"
          ],
          "name": "stderr"
        }
      ]
    },
    {
      "cell_type": "code",
      "metadata": {
        "id": "kCYtYHVOoO2A"
      },
      "source": [
        "class AbstractBaseBlock:\n",
        "    def fit(self, input_df, y=None):\n",
        "        return self.transform(input_df)\n",
        "    \n",
        "    def transform(self, input_df):\n",
        "        raise NotImplementedError()\n",
        "    \n",
        "class WrapperBlock(AbstractBaseBlock):\n",
        "    def __init__(self, function):\n",
        "        self.function = function\n",
        "        \n",
        "    def transform(self, input_df):\n",
        "        return self.function(input_df)"
      ],
      "execution_count": 18,
      "outputs": []
    },
    {
      "cell_type": "code",
      "metadata": {
        "id": "vf31GZWAosJD"
      },
      "source": [
        "from tqdm import tqdm\n",
        "\n",
        "def get_function(block,is_train):\n",
        "    s = mapping ={\n",
        "        True:'fit',\n",
        "        False:'transform'\n",
        "    }.get(is_train)\n",
        "    return getattr(block,s)\n",
        "\n",
        "def to_feature(input_df,remain_df,blocks,is_train=False):\n",
        "    out_df = remain_df\n",
        "    \n",
        "    for block in tqdm(blocks,total=len(blocks)):\n",
        "        func = get_function(block,is_train)\n",
        "        \n",
        "        with timer(prefix='create' + str(block) + ' '):\n",
        "            _df = func(input_df)\n",
        "        \n",
        "        assert len(_df) == len(input_df),func._name_\n",
        "        out_df = pd.concat([out_df,_df],axis=1)\n",
        "    return out_df"
      ],
      "execution_count": 19,
      "outputs": []
    },
    {
      "cell_type": "code",
      "metadata": {
        "id": "asaJalpICjKw"
      },
      "source": [
        "from time import time\n",
        "from contextlib import contextmanager\n",
        "\n",
        "@contextmanager\n",
        "def timer(logger=None, format_str=\"{:.3f}[s]\", prefix=None, suffix=None):\n",
        "  if prefix: format_str = str(prefix) + format_str\n",
        "  if suffix: format_str = format_str + str(suffix)\n",
        "  start = time()\n",
        "  yield\n",
        "  d = time() - start\n",
        "  out_str = format_str.format(d)\n",
        "  if logger:\n",
        "    logger.info(out_str)\n",
        "  else:\n",
        "    print(out_str)"
      ],
      "execution_count": 20,
      "outputs": []
    },
    {
      "cell_type": "code",
      "metadata": {
        "id": "PDVFYsedpan5"
      },
      "source": [
        "class CountEncodingBlock(AbstractBaseBlock):\n",
        "    \n",
        "    \"\"\"\n",
        "    CountEncodingを行うブロック\n",
        "    \"\"\"\n",
        "    def __init__(self, cols):\n",
        "        self.cols = cols\n",
        "        \n",
        "    def fit(self, input_df, y=None):\n",
        "        self.encoder = ce.CountEncoder()\n",
        "        return self.transform(input_df)\n",
        "    \n",
        "    def transform(self, input_df):\n",
        "        out_df = pd.DataFrame()\n",
        "        out_df = self.encoder.fit_transform(input_df[self.cols]).add_prefix(\"CE_\")\n",
        "        return out_df"
      ],
      "execution_count": 21,
      "outputs": []
    },
    {
      "cell_type": "code",
      "metadata": {
        "colab": {
          "base_uri": "https://localhost:8080/",
          "height": 415
        },
        "id": "ajYF10NqqJcq",
        "outputId": "92727bae-0727-4db5-d0ee-f7a65164a031"
      },
      "source": [
        "CountEncodingBlock(\"label_lang_title\").fit(get_label_lang(train, \"title\"))"
      ],
      "execution_count": 22,
      "outputs": [
        {
          "output_type": "execute_result",
          "data": {
            "text/html": [
              "<div>\n",
              "<style scoped>\n",
              "    .dataframe tbody tr th:only-of-type {\n",
              "        vertical-align: middle;\n",
              "    }\n",
              "\n",
              "    .dataframe tbody tr th {\n",
              "        vertical-align: top;\n",
              "    }\n",
              "\n",
              "    .dataframe thead th {\n",
              "        text-align: right;\n",
              "    }\n",
              "</style>\n",
              "<table border=\"1\" class=\"dataframe\">\n",
              "  <thead>\n",
              "    <tr style=\"text-align: right;\">\n",
              "      <th></th>\n",
              "      <th>CE_label_lang_title</th>\n",
              "    </tr>\n",
              "  </thead>\n",
              "  <tbody>\n",
              "    <tr>\n",
              "      <th>0</th>\n",
              "      <td>2342</td>\n",
              "    </tr>\n",
              "    <tr>\n",
              "      <th>1</th>\n",
              "      <td>9090</td>\n",
              "    </tr>\n",
              "    <tr>\n",
              "      <th>2</th>\n",
              "      <td>9090</td>\n",
              "    </tr>\n",
              "    <tr>\n",
              "      <th>3</th>\n",
              "      <td>2342</td>\n",
              "    </tr>\n",
              "    <tr>\n",
              "      <th>4</th>\n",
              "      <td>9090</td>\n",
              "    </tr>\n",
              "    <tr>\n",
              "      <th>...</th>\n",
              "      <td>...</td>\n",
              "    </tr>\n",
              "    <tr>\n",
              "      <th>12021</th>\n",
              "      <td>9090</td>\n",
              "    </tr>\n",
              "    <tr>\n",
              "      <th>12022</th>\n",
              "      <td>9090</td>\n",
              "    </tr>\n",
              "    <tr>\n",
              "      <th>12023</th>\n",
              "      <td>9090</td>\n",
              "    </tr>\n",
              "    <tr>\n",
              "      <th>12024</th>\n",
              "      <td>9090</td>\n",
              "    </tr>\n",
              "    <tr>\n",
              "      <th>12025</th>\n",
              "      <td>2342</td>\n",
              "    </tr>\n",
              "  </tbody>\n",
              "</table>\n",
              "<p>12026 rows × 1 columns</p>\n",
              "</div>"
            ],
            "text/plain": [
              "       CE_label_lang_title\n",
              "0                     2342\n",
              "1                     9090\n",
              "2                     9090\n",
              "3                     2342\n",
              "4                     9090\n",
              "...                    ...\n",
              "12021                 9090\n",
              "12022                 9090\n",
              "12023                 9090\n",
              "12024                 9090\n",
              "12025                 2342\n",
              "\n",
              "[12026 rows x 1 columns]"
            ]
          },
          "metadata": {
            "tags": []
          },
          "execution_count": 22
        }
      ]
    },
    {
      "cell_type": "code",
      "metadata": {
        "id": "3U8wA19i5X-m"
      },
      "source": [
        "def max_min(x):\n",
        "    return x.max() - x.min()\n",
        "\n",
        "def q75_q25(x):\n",
        "    return x.quantile(0.75) - x.quantile(0.25)"
      ],
      "execution_count": 23,
      "outputs": []
    },
    {
      "cell_type": "code",
      "metadata": {
        "id": "JyxkG8JGEwen"
      },
      "source": [
        "class AggregationBlock(AbstractBaseBlock):\n",
        "    \"\"\"\n",
        "    集約変数を作成するブロック\n",
        "    \n",
        "    cols:\n",
        "      group_key:元になる変数:age, country etc..\n",
        "      group_values:集約を行う対象の変数:n_items etc..\n",
        "      agg_methods:どのような方法で集約するか. デフォルトはmax, min, meanの三つ\n",
        "    \"\"\"\n",
        "    def __init__(self, group_key, group_values, agg_methods=[\"max\", \"min\", \"mean\"]):\n",
        "        self.group_key = group_key\n",
        "        self.group_values = group_values\n",
        "        self.agg_methods = agg_methods\n",
        "     \n",
        "    def transform(self, input_df):\n",
        "        self.agg_df, self.agg_col = xfeat.aggregation(input_df,\n",
        "                                        agg_methods=self.agg_methods,\n",
        "                                        group_key=self.group_key,\n",
        "                                        group_values=self.group_values)\n",
        "        \n",
        "        out_df = pd.DataFrame()\n",
        "        out_df = self.agg_df\n",
        "        return out_df[self.agg_col]"
      ],
      "execution_count": 24,
      "outputs": []
    },
    {
      "cell_type": "code",
      "metadata": {
        "colab": {
          "base_uri": "https://localhost:8080/",
          "height": 453
        },
        "id": "V7tQQ6aIFND1",
        "outputId": "abbc2fce-1eab-4423-a6d3-739518ee392d"
      },
      "source": [
        "AggregationBlock(group_key=\"label_lang_title\", \n",
        "                                   group_values=[\"dating_period\"],\n",
        "                                   agg_methods=[\"max\", \"min\", \"std\", \"median\", max_min, q75_q25]).transform(test)"
      ],
      "execution_count": 25,
      "outputs": [
        {
          "output_type": "execute_result",
          "data": {
            "text/html": [
              "<div>\n",
              "<style scoped>\n",
              "    .dataframe tbody tr th:only-of-type {\n",
              "        vertical-align: middle;\n",
              "    }\n",
              "\n",
              "    .dataframe tbody tr th {\n",
              "        vertical-align: top;\n",
              "    }\n",
              "\n",
              "    .dataframe thead th {\n",
              "        text-align: right;\n",
              "    }\n",
              "</style>\n",
              "<table border=\"1\" class=\"dataframe\">\n",
              "  <thead>\n",
              "    <tr style=\"text-align: right;\">\n",
              "      <th></th>\n",
              "      <th>agg_max_dating_period_grpby_label_lang_title</th>\n",
              "      <th>agg_min_dating_period_grpby_label_lang_title</th>\n",
              "      <th>agg_std_dating_period_grpby_label_lang_title</th>\n",
              "      <th>agg_median_dating_period_grpby_label_lang_title</th>\n",
              "      <th>agg_&lt;function max_min at 0x7f2ea424b5f0&gt;_dating_period_grpby_label_lang_title</th>\n",
              "      <th>agg_&lt;function q75_q25 at 0x7f2ea4309b00&gt;_dating_period_grpby_label_lang_title</th>\n",
              "    </tr>\n",
              "  </thead>\n",
              "  <tbody>\n",
              "    <tr>\n",
              "      <th>0</th>\n",
              "      <td>21</td>\n",
              "      <td>-2</td>\n",
              "      <td>1.313449</td>\n",
              "      <td>19.0</td>\n",
              "      <td>23</td>\n",
              "      <td>2.0</td>\n",
              "    </tr>\n",
              "    <tr>\n",
              "      <th>1</th>\n",
              "      <td>21</td>\n",
              "      <td>13</td>\n",
              "      <td>1.204547</td>\n",
              "      <td>17.0</td>\n",
              "      <td>8</td>\n",
              "      <td>2.0</td>\n",
              "    </tr>\n",
              "    <tr>\n",
              "      <th>2</th>\n",
              "      <td>21</td>\n",
              "      <td>-2</td>\n",
              "      <td>1.313449</td>\n",
              "      <td>19.0</td>\n",
              "      <td>23</td>\n",
              "      <td>2.0</td>\n",
              "    </tr>\n",
              "    <tr>\n",
              "      <th>3</th>\n",
              "      <td>21</td>\n",
              "      <td>-2</td>\n",
              "      <td>1.313449</td>\n",
              "      <td>19.0</td>\n",
              "      <td>23</td>\n",
              "      <td>2.0</td>\n",
              "    </tr>\n",
              "    <tr>\n",
              "      <th>4</th>\n",
              "      <td>21</td>\n",
              "      <td>-2</td>\n",
              "      <td>1.313449</td>\n",
              "      <td>19.0</td>\n",
              "      <td>23</td>\n",
              "      <td>2.0</td>\n",
              "    </tr>\n",
              "    <tr>\n",
              "      <th>...</th>\n",
              "      <td>...</td>\n",
              "      <td>...</td>\n",
              "      <td>...</td>\n",
              "      <td>...</td>\n",
              "      <td>...</td>\n",
              "      <td>...</td>\n",
              "    </tr>\n",
              "    <tr>\n",
              "      <th>12003</th>\n",
              "      <td>21</td>\n",
              "      <td>-2</td>\n",
              "      <td>1.313449</td>\n",
              "      <td>19.0</td>\n",
              "      <td>23</td>\n",
              "      <td>2.0</td>\n",
              "    </tr>\n",
              "    <tr>\n",
              "      <th>12004</th>\n",
              "      <td>21</td>\n",
              "      <td>-2</td>\n",
              "      <td>1.313449</td>\n",
              "      <td>19.0</td>\n",
              "      <td>23</td>\n",
              "      <td>2.0</td>\n",
              "    </tr>\n",
              "    <tr>\n",
              "      <th>12005</th>\n",
              "      <td>21</td>\n",
              "      <td>13</td>\n",
              "      <td>1.204547</td>\n",
              "      <td>17.0</td>\n",
              "      <td>8</td>\n",
              "      <td>2.0</td>\n",
              "    </tr>\n",
              "    <tr>\n",
              "      <th>12006</th>\n",
              "      <td>21</td>\n",
              "      <td>-2</td>\n",
              "      <td>1.313449</td>\n",
              "      <td>19.0</td>\n",
              "      <td>23</td>\n",
              "      <td>2.0</td>\n",
              "    </tr>\n",
              "    <tr>\n",
              "      <th>12007</th>\n",
              "      <td>21</td>\n",
              "      <td>-2</td>\n",
              "      <td>1.313449</td>\n",
              "      <td>19.0</td>\n",
              "      <td>23</td>\n",
              "      <td>2.0</td>\n",
              "    </tr>\n",
              "  </tbody>\n",
              "</table>\n",
              "<p>12008 rows × 6 columns</p>\n",
              "</div>"
            ],
            "text/plain": [
              "       agg_max_dating_period_grpby_label_lang_title  ...  agg_<function q75_q25 at 0x7f2ea4309b00>_dating_period_grpby_label_lang_title\n",
              "0                                                21  ...                                                2.0                            \n",
              "1                                                21  ...                                                2.0                            \n",
              "2                                                21  ...                                                2.0                            \n",
              "3                                                21  ...                                                2.0                            \n",
              "4                                                21  ...                                                2.0                            \n",
              "...                                             ...  ...                                                ...                            \n",
              "12003                                            21  ...                                                2.0                            \n",
              "12004                                            21  ...                                                2.0                            \n",
              "12005                                            21  ...                                                2.0                            \n",
              "12006                                            21  ...                                                2.0                            \n",
              "12007                                            21  ...                                                2.0                            \n",
              "\n",
              "[12008 rows x 6 columns]"
            ]
          },
          "metadata": {
            "tags": []
          },
          "execution_count": 25
        }
      ]
    },
    {
      "cell_type": "code",
      "metadata": {
        "id": "Gu1oNYooo8CS"
      },
      "source": [
        "process_blocks = [\n",
        "                 WrapperBlock(get_period_of_production),\n",
        "                 WrapperBlock(get_time_between_late_year_and_acqusition),\n",
        "                 CountEncodingBlock(\"label_lang_title\"),\n",
        "                 CountEncodingBlock(\"label_lang_description\"),\n",
        "                 CountEncodingBlock(\"acquisition_method\"),\n",
        "                 CountEncodingBlock(\"principal_maker\"),\n",
        "                 AggregationBlock(group_key=\"label_lang_title\", \n",
        "                                   group_values=[\"dating_period\"],\n",
        "                                   agg_methods=[\"max\", \"min\", \"std\", \"median\", max_min, q75_q25]),\n",
        "                 AggregationBlock(group_key=\"label_lang_description\",\n",
        "                                  group_values=[\"dating_period\"],\n",
        "                                  agg_methods=[\"max\", \"min\", \"std\", \"median\", max_min, q75_q25]),\n",
        "                 AggregationBlock(group_key=\"acquisition_method\",\n",
        "                                  group_values=[\"dating_period\"],\n",
        "                                  agg_methods=[\"max\", \"min\", \"std\", \"median\", max_min, q75_q25]),\n",
        "                 AggregationBlock(group_key=\"principal_maker\",\n",
        "                                  group_values=[\"dating_period\"],\n",
        "                                  agg_methods=[\"max\", \"min\", \"std\", \"median\", max_min, q75_q25]),\n",
        "]"
      ],
      "execution_count": 26,
      "outputs": []
    },
    {
      "cell_type": "code",
      "metadata": {
        "colab": {
          "base_uri": "https://localhost:8080/"
        },
        "id": "g1R6R8HLAEj4",
        "outputId": "41fbd858-9cae-47f4-8725-e198637288e0"
      },
      "source": [
        "drop_columns = [\"object_id\", \"art_series_id\", \"description\", \"long_title\", \"title\", \"principal_maker\", \"principal_or_first_maker\",\n",
        "                  \"sub_title\", \"copyright_holder\", \"more_title\", \"acquisition_credit_line\", \"dating_presenting_date\",\n",
        "                  \"dating_sorting_date\", \"acquisition_date\", \"acquisition_method\", \"label_lang_title\", \"label_lang_description\"]\n",
        "train_feat_df = to_feature(train,train.drop(columns=drop_columns, axis=1),process_blocks, is_train=True)\n",
        "\n",
        "test_feat_df = to_feature(test,test.drop(columns=drop_columns, axis=1),process_blocks,is_train=False)"
      ],
      "execution_count": 33,
      "outputs": [
        {
          "output_type": "stream",
          "text": [
            "\r  0%|          | 0/10 [00:00<?, ?it/s]"
          ],
          "name": "stderr"
        },
        {
          "output_type": "stream",
          "text": [
            "create<__main__.WrapperBlock object at 0x7f2ea413ca50> 0.003[s]\n",
            "create<__main__.WrapperBlock object at 0x7f2ea413ce10> 0.023[s]\n",
            "create<__main__.CountEncodingBlock object at 0x7f2ea413ce50> 0.009[s]\n",
            "create<__main__.CountEncodingBlock object at 0x7f2ea413ce90> 0.008[s]\n",
            "create<__main__.CountEncodingBlock object at 0x7f2ea413ced0> 0.008[s]\n",
            "create<__main__.CountEncodingBlock object at 0x7f2ea413cf10> 0.008[s]\n",
            "create<__main__.AggregationBlock object at 0x7f2ea413cf50> 0.138[s]\n"
          ],
          "name": "stdout"
        },
        {
          "output_type": "stream",
          "text": [
            " 90%|█████████ | 9/10 [00:00<00:00, 12.83it/s]"
          ],
          "name": "stderr"
        },
        {
          "output_type": "stream",
          "text": [
            "create<__main__.AggregationBlock object at 0x7f2ea413cf90> 0.114[s]\n",
            "create<__main__.AggregationBlock object at 0x7f2ea413cfd0> 0.115[s]\n"
          ],
          "name": "stdout"
        },
        {
          "output_type": "stream",
          "text": [
            "100%|██████████| 10/10 [00:03<00:00,  2.93it/s]\n",
            " 20%|██        | 2/10 [00:00<00:00, 11.44it/s]"
          ],
          "name": "stderr"
        },
        {
          "output_type": "stream",
          "text": [
            "create<__main__.AggregationBlock object at 0x7f2ea412e050> 2.938[s]\n",
            "create<__main__.WrapperBlock object at 0x7f2ea413ca50> 0.005[s]\n",
            "create<__main__.WrapperBlock object at 0x7f2ea413ce10> 0.166[s]\n",
            "create<__main__.CountEncodingBlock object at 0x7f2ea413ce50> 0.010[s]\n"
          ],
          "name": "stdout"
        },
        {
          "output_type": "stream",
          "text": [
            "/usr/local/lib/python3.7/dist-packages/category_encoders/utils.py:21: FutureWarning:\n",
            "\n",
            "is_categorical is deprecated and will be removed in a future version.  Use is_categorical_dtype instead\n",
            "\n",
            " 70%|███████   | 7/10 [00:00<00:00, 13.63it/s]"
          ],
          "name": "stderr"
        },
        {
          "output_type": "stream",
          "text": [
            "create<__main__.CountEncodingBlock object at 0x7f2ea413ce90> 0.014[s]\n",
            "create<__main__.CountEncodingBlock object at 0x7f2ea413ced0> 0.009[s]\n",
            "create<__main__.CountEncodingBlock object at 0x7f2ea413cf10> 0.010[s]\n",
            "create<__main__.AggregationBlock object at 0x7f2ea413cf50> 0.143[s]\n"
          ],
          "name": "stdout"
        },
        {
          "output_type": "stream",
          "text": [
            " 90%|█████████ | 9/10 [00:00<00:00, 10.54it/s]"
          ],
          "name": "stderr"
        },
        {
          "output_type": "stream",
          "text": [
            "create<__main__.AggregationBlock object at 0x7f2ea413cf90> 0.105[s]\n",
            "create<__main__.AggregationBlock object at 0x7f2ea413cfd0> 0.110[s]\n"
          ],
          "name": "stdout"
        },
        {
          "output_type": "stream",
          "text": [
            "100%|██████████| 10/10 [00:03<00:00,  2.75it/s]"
          ],
          "name": "stderr"
        },
        {
          "output_type": "stream",
          "text": [
            "create<__main__.AggregationBlock object at 0x7f2ea412e050> 3.021[s]\n"
          ],
          "name": "stdout"
        },
        {
          "output_type": "stream",
          "text": [
            "\n"
          ],
          "name": "stderr"
        }
      ]
    },
    {
      "cell_type": "code",
      "metadata": {
        "colab": {
          "base_uri": "https://localhost:8080/"
        },
        "id": "rlLA1AGFCHqd",
        "outputId": "61cd71b2-93e7-4982-af67-8bdbf2a03476"
      },
      "source": [
        "print(train_feat_df.shape, test_feat_df.shape)"
      ],
      "execution_count": 37,
      "outputs": [
        {
          "output_type": "stream",
          "text": [
            "(12026, 34) (12008, 34)\n"
          ],
          "name": "stdout"
        }
      ]
    },
    {
      "cell_type": "code",
      "metadata": {
        "id": "3_h_Ao08F-Iv"
      },
      "source": [
        "train_feat_df = train_feat_df.drop(columns=[\"likes\"], axis=1)"
      ],
      "execution_count": 36,
      "outputs": []
    },
    {
      "cell_type": "code",
      "metadata": {
        "id": "VatY0jpHGLV9"
      },
      "source": [
        "y = np.log1p(train[\"likes\"])"
      ],
      "execution_count": 38,
      "outputs": []
    },
    {
      "cell_type": "code",
      "metadata": {
        "id": "MbNGGoFlGUX4"
      },
      "source": [
        "from sklearn.metrics import mean_squared_error\n",
        "import lightgbm as lgbm\n",
        "def fit_lgbm(X,\n",
        "             y,\n",
        "             cv, \n",
        "             params: dict=None,\n",
        "             verbose: int=50):\n",
        "    \n",
        "    metric_func = mean_squared_error\n",
        "    \n",
        "    if params is None:\n",
        "        params = {}\n",
        "        \n",
        "    models = []\n",
        "    \n",
        "    oof_pred = np.zeros_like(y ,dtype=np.float)\n",
        "    \n",
        "    for i, (idx_train, idx_valid) in enumerate(cv):\n",
        "        x_train, x_valid = X[idx_train], X[idx_valid]\n",
        "        y_train, y_valid = y[idx_train], y[idx_valid]\n",
        "        \n",
        "        clf = lgbm.LGBMRegressor(**params)\n",
        "        \n",
        "        with timer(prefix=\"fit fold={}\".format(i + 1)):\n",
        "            clf.fit(x_train, y_train, \n",
        "                    eval_set=[(x_valid, y_valid)],\n",
        "                    early_stopping_rounds=verbose,\n",
        "                    verbose=verbose)\n",
        "            \n",
        "        pred_i = clf.predict(x_valid)\n",
        "        \n",
        "        oof_pred[idx_valid] = pred_i\n",
        "        models.append(clf)\n",
        "        \n",
        "        print(f'K Fold {i} RMSLE: {metric_func(y_valid, pred_i) ** .5:.4f}')\n",
        "        \n",
        "    score = metric_func(y, oof_pred) ** .5\n",
        "    print('FINIHED | Whole RMSLE: {:.4f}'.format(score))\n",
        "    return oof_pred, models"
      ],
      "execution_count": 39,
      "outputs": []
    },
    {
      "cell_type": "code",
      "metadata": {
        "id": "xcbI9iK9GVM7"
      },
      "source": [
        "params = {\n",
        "    \"objective\": \"rmse\",\n",
        "    \"max_depth\": 7,\n",
        "    \"n_estimators\": 10000,\n",
        "    \"learning_rate\": 0.01,\n",
        "    \"colsample_bytree\": .5,\n",
        "    \"importance_type\": \"gain\",\n",
        "}"
      ],
      "execution_count": 52,
      "outputs": []
    },
    {
      "cell_type": "code",
      "metadata": {
        "id": "yUqi7RguHD7N"
      },
      "source": [
        "from sklearn.model_selection import KFold\n",
        "\n",
        "fold = KFold(n_splits=5, shuffle=True, random_state=71)\n",
        "cv = list(fold.split(train_feat_df, y))"
      ],
      "execution_count": 53,
      "outputs": []
    },
    {
      "cell_type": "code",
      "metadata": {
        "colab": {
          "base_uri": "https://localhost:8080/"
        },
        "id": "7_mbuJz3HNtR",
        "outputId": "adb8001a-f03a-466a-f9a1-579b3ff5be18"
      },
      "source": [
        "oof, models = fit_lgbm(train_feat_df.values, y, cv, params=params, verbose=500)"
      ],
      "execution_count": 54,
      "outputs": [
        {
          "output_type": "stream",
          "text": [
            "Training until validation scores don't improve for 500 rounds.\n",
            "[500]\tvalid_0's rmse: 1.15928\n",
            "[1000]\tvalid_0's rmse: 1.14676\n",
            "[1500]\tvalid_0's rmse: 1.1418\n",
            "[2000]\tvalid_0's rmse: 1.13854\n",
            "[2500]\tvalid_0's rmse: 1.13662\n",
            "[3000]\tvalid_0's rmse: 1.13673\n",
            "Early stopping, best iteration is:\n",
            "[2600]\tvalid_0's rmse: 1.13622\n",
            "fit fold=15.565[s]\n",
            "K Fold 0 RMSLE: 1.1362\n",
            "Training until validation scores don't improve for 500 rounds.\n",
            "[500]\tvalid_0's rmse: 1.16381\n",
            "[1000]\tvalid_0's rmse: 1.14586\n",
            "[1500]\tvalid_0's rmse: 1.13919\n",
            "[2000]\tvalid_0's rmse: 1.13707\n",
            "[2500]\tvalid_0's rmse: 1.13425\n",
            "[3000]\tvalid_0's rmse: 1.13352\n",
            "[3500]\tvalid_0's rmse: 1.13301\n",
            "Early stopping, best iteration is:\n",
            "[3237]\tvalid_0's rmse: 1.13265\n",
            "fit fold=26.734[s]\n",
            "K Fold 1 RMSLE: 1.1326\n",
            "Training until validation scores don't improve for 500 rounds.\n",
            "[500]\tvalid_0's rmse: 1.15097\n",
            "[1000]\tvalid_0's rmse: 1.13842\n",
            "[1500]\tvalid_0's rmse: 1.13049\n",
            "[2000]\tvalid_0's rmse: 1.12778\n",
            "[2500]\tvalid_0's rmse: 1.12591\n",
            "[3000]\tvalid_0's rmse: 1.12477\n",
            "[3500]\tvalid_0's rmse: 1.12461\n",
            "Early stopping, best iteration is:\n",
            "[3361]\tvalid_0's rmse: 1.12418\n",
            "fit fold=36.848[s]\n",
            "K Fold 2 RMSLE: 1.1242\n",
            "Training until validation scores don't improve for 500 rounds.\n",
            "[500]\tvalid_0's rmse: 1.15794\n",
            "[1000]\tvalid_0's rmse: 1.14269\n",
            "[1500]\tvalid_0's rmse: 1.13949\n",
            "[2000]\tvalid_0's rmse: 1.13532\n",
            "[2500]\tvalid_0's rmse: 1.13363\n",
            "[3000]\tvalid_0's rmse: 1.13247\n",
            "[3500]\tvalid_0's rmse: 1.13148\n",
            "[4000]\tvalid_0's rmse: 1.1304\n",
            "[4500]\tvalid_0's rmse: 1.13016\n",
            "[5000]\tvalid_0's rmse: 1.13025\n",
            "Early stopping, best iteration is:\n",
            "[4766]\tvalid_0's rmse: 1.12992\n",
            "fit fold=49.234[s]\n",
            "K Fold 3 RMSLE: 1.1299\n",
            "Training until validation scores don't improve for 500 rounds.\n",
            "[500]\tvalid_0's rmse: 1.15421\n",
            "[1000]\tvalid_0's rmse: 1.13462\n",
            "[1500]\tvalid_0's rmse: 1.12517\n",
            "[2000]\tvalid_0's rmse: 1.12039\n",
            "[2500]\tvalid_0's rmse: 1.11695\n",
            "[3000]\tvalid_0's rmse: 1.11479\n",
            "[3500]\tvalid_0's rmse: 1.11374\n",
            "[4000]\tvalid_0's rmse: 1.11298\n",
            "[4500]\tvalid_0's rmse: 1.11293\n",
            "Early stopping, best iteration is:\n",
            "[4192]\tvalid_0's rmse: 1.11279\n",
            "fit fold=58.203[s]\n",
            "K Fold 4 RMSLE: 1.1128\n",
            "FINIHED | Whole RMSLE: 1.1272\n"
          ],
          "name": "stdout"
        }
      ]
    },
    {
      "cell_type": "code",
      "metadata": {
        "id": "aCsrzuUsIV1W"
      },
      "source": [
        "def visualize_importance(models, feat_train_df):\n",
        "    \"\"\"lightGBM の model 配列の feature importance を plot する\n",
        "    CVごとのブレを boxen plot として表現します.\n",
        "\n",
        "    args:\n",
        "        models:\n",
        "            List of lightGBM models\n",
        "        feat_train_df:\n",
        "            学習時に使った DataFrame\n",
        "    \"\"\"\n",
        "    feature_importance_df = pd.DataFrame()\n",
        "    for i, model in enumerate(models):\n",
        "        _df = pd.DataFrame()\n",
        "        _df['feature_importance'] = model.feature_importances_\n",
        "        _df['column'] = feat_train_df.columns\n",
        "        _df['fold'] = i + 1\n",
        "        feature_importance_df = pd.concat([feature_importance_df, _df], \n",
        "                                          axis=0, ignore_index=True)\n",
        "\n",
        "    order = feature_importance_df.groupby('column')\\\n",
        "        .sum()[['feature_importance']]\\\n",
        "        .sort_values('feature_importance', ascending=False).index[:50]\n",
        "\n",
        "    fig, ax = plt.subplots(figsize=(8, max(6, len(order) * .25)))\n",
        "    sns.boxenplot(data=feature_importance_df, \n",
        "                  x='feature_importance', \n",
        "                  y='column', \n",
        "                  order=order, \n",
        "                  ax=ax, \n",
        "                  palette='viridis', \n",
        "                  orient='h')\n",
        "    ax.tick_params(axis='x', rotation=90)\n",
        "    ax.set_title('Importance')\n",
        "    ax.grid()\n",
        "    return fig, ax"
      ],
      "execution_count": 43,
      "outputs": []
    },
    {
      "cell_type": "code",
      "metadata": {
        "colab": {
          "base_uri": "https://localhost:8080/",
          "height": 492
        },
        "id": "uZENQlbWIGcr",
        "outputId": "662a7790-bf26-47d5-e844-80517f56df6c"
      },
      "source": [
        "fig, _ = visualize_importance(models, feat_train_df=train_feat_df)"
      ],
      "execution_count": 44,
      "outputs": [
        {
          "output_type": "display_data",
          "data": {
            "image/png": "[encoded data removed]",
            "text/plain": [
              "<Figure size 576x612 with 1 Axes>"
            ]
          },
          "metadata": {
            "tags": []
          }
        }
      ]
    },
    {
      "cell_type": "code",
      "metadata": {
        "id": "bFnEJeKlJMbQ"
      },
      "source": [
        "def revert_to_real(y_log):\n",
        "    _pred = np.expm1(y_log)\n",
        "    _pred = np.where(_pred < 0, 0, _pred)\n",
        "    return _pred"
      ],
      "execution_count": 45,
      "outputs": []
    },
    {
      "cell_type": "code",
      "metadata": {
        "id": "_yLswkB_JqiT"
      },
      "source": [
        "pred = np.array([model.predict(test_feat_df.values) for model in models])\n",
        "pred = np.mean(pred, axis=0)\n",
        "pred = revert_to_real(pred)\n",
        "sub_df = pd.DataFrame({ 'likes': pred })\n",
        "sub_df.to_csv(os.path.join(OUTPT_PAHT, 'baseline.csv'), index=False)"
      ],
      "execution_count": 47,
      "outputs": []
    },
    {
      "cell_type": "code",
      "metadata": {
        "colab": {
          "base_uri": "https://localhost:8080/",
          "height": 485
        },
        "id": "Qu31HiCELUxT",
        "outputId": "7ca8a2fd-cec4-4337-dd73-a8ee408aefca"
      },
      "source": [
        "fig, ax = plt.subplots(figsize=(8, 8))\n",
        "sns.histplot(np.log1p(pred), label='Test Predict', ax=ax, color='black')\n",
        "sns.histplot(oof, label='Out Of Fold', ax=ax, color='C1')\n",
        "ax.legend()\n",
        "ax.grid()"
      ],
      "execution_count": 48,
      "outputs": [
        {
          "output_type": "display_data",
          "data": {
            "image/png": "[encoded data removed]",
            "text/plain": [
              "<Figure size 576x576 with 1 Axes>"
            ]
          },
          "metadata": {
            "tags": []
          }
        }
      ]
    },
    {
      "cell_type": "code",
      "metadata": {
        "id": "Tc5FLC_TLXa-"
      },
      "source": [
        "from sklearn.model_selection import GroupKFold\n",
        "class GroupKFold:\n",
        "    \"\"\"\n",
        "    GroupKFold with random shuffle with a sklearn-like structure\n",
        "    \"\"\"\n",
        "\n",
        "    def __init__(self, n_splits=4, shuffle=True, random_state=42):\n",
        "        self.n_splits = n_splits\n",
        "        self.shuffle = shuffle\n",
        "        self.random_state = random_state\n",
        "\n",
        "    def get_n_splits(self, X=None, y=None, group=None):\n",
        "        return self.n_splits\n",
        "\n",
        "    def split(self, X=None, y=None, group=None):\n",
        "        kf = KFold(n_splits=self.n_splits, shuffle=self.shuffle, random_state=self.random_state)\n",
        "        unique_ids = group.unique()\n",
        "        for tr_group_idx, va_group_idx in kf.split(unique_ids):\n",
        "            # split group\n",
        "            tr_group, va_group = unique_ids[tr_group_idx], unique_ids[va_group_idx]\n",
        "            train_idx = np.where(group.isin(tr_group))[0]\n",
        "            val_idx = np.where(group.isin(va_group))[0]\n",
        "            yield train_idx, val_idx\n",
        "\n",
        "\n",
        "# PlaceID をキーにした Group K fold\n",
        "def make_gkf(X, y, n_splits=5, random_state=2020):\n",
        "    gkf = GroupKFold(n_splits=n_splits, random_state=random_state)\n",
        "    return list(gkf.split(X, y, group))\n",
        "\n",
        "\n",
        "# 評価関数(log(目的変数)を使っているためrmseを用いる)\n",
        "def root_mean_squared_error(y_true, y_pred):\n",
        "    return mean_squared_error(y_true, y_pred) ** .5"
      ],
      "execution_count": 61,
      "outputs": []
    },
    {
      "cell_type": "code",
      "metadata": {
        "id": "z2C3yQ5_NmB1"
      },
      "source": [
        "def tree_importance(X, y, model, model_params, fit_params, cv, folds):\n",
        "    est = model(**model_params)\n",
        "    feature_importance_df = pd.DataFrame()\n",
        "    for i, (tr_idx, va_idx) in enumerate(cv(X, y, n_splits=folds)):\n",
        "        tr_x, va_x = X.values[tr_idx], X.values[va_idx]\n",
        "        tr_y, va_y = y.values[tr_idx], y.values[va_idx]\n",
        "        est.fit(tr_x, tr_y,\n",
        "                eval_set=[[va_x, va_y]],\n",
        "                **fit_params) \n",
        "        _df = pd.DataFrame()\n",
        "        _df['feature_importance'] = est.feature_importances_\n",
        "        _df['column'] = X.columns\n",
        "        _df['fold'] = i + 1\n",
        "        feature_importance_df = pd.concat([feature_importance_df, _df], axis=0, ignore_index=True)\n",
        "    order = feature_importance_df.groupby('column') \\\n",
        "                .sum()[['feature_importance']] \\\n",
        "                .sort_values('feature_importance', ascending=False).index[:50]\n",
        "    fig, ax = plt.subplots(figsize=(12, max(4, len(order) * .2)))\n",
        "    sns.boxenplot(data=feature_importance_df, y='column', x='feature_importance', order=order, ax=ax,\n",
        "                  palette='viridis')\n",
        "    fig.tight_layout()\n",
        "    ax.grid()\n",
        "    ax.set_title('feature importance')\n",
        "    fig.tight_layout()\n",
        "    plt.show()\n",
        "    return fig, feature_importance_df"
      ],
      "execution_count": 62,
      "outputs": []
    },
    {
      "cell_type": "code",
      "metadata": {
        "id": "9YmwCd0ONq6v"
      },
      "source": [
        "from lightgbm import LGBMModel\n",
        "model = LGBMModel  # 使うモデル\n",
        "group = train[\"art_series_id\"]  # 今回は group kfold を用いる！\n",
        "\n",
        "\n",
        "model_params = {  \n",
        "    \"n_estimators\": 10000,\n",
        "    \"objective\": 'rmse',\n",
        "    \"learning_rate\": 0.01,\n",
        "    \"num_leaves\": 31,\n",
        "    \"random_state\": 2021,\n",
        "    \"n_jobs\": -1,\n",
        "    \"importance_type\": \"gain\",\n",
        "    'colsample_bytree': .5,\n",
        "    \"reg_lambda\": 5\n",
        "    }\n",
        "\n",
        "# fit 時の parameter\n",
        "fit_params = {\n",
        "    \"early_stopping_rounds\": 100,\n",
        "    \"verbose\": False\n",
        "}"
      ],
      "execution_count": 63,
      "outputs": []
    },
    {
      "cell_type": "code",
      "metadata": {
        "colab": {
          "base_uri": "https://localhost:8080/",
          "height": 487
        },
        "id": "31B6CuZGN1D6",
        "outputId": "3a998a8d-65a9-48bd-b681-4c7b0f792614"
      },
      "source": [
        "fig, _ = tree_importance(train_feat_df, y, model, model_params, fit_params, cv=make_gkf, folds=5)"
      ],
      "execution_count": 64,
      "outputs": [
        {
          "output_type": "display_data",
          "data": {
            "image/png": "[encoded data removed]",
            "text/plain": [
              "<Figure size 864x489.6 with 1 Axes>"
            ]
          },
          "metadata": {
            "tags": []
          }
        }
      ]
    },
    {
      "cell_type": "code",
      "metadata": {
        "colab": {
          "base_uri": "https://localhost:8080/"
        },
        "id": "oksPnMGPN4lP",
        "outputId": "96470fad-95b5-42f8-e62e-70cdb464fbbf"
      },
      "source": [
        "from sklearn.metrics import mean_squared_error\n",
        "def predict_cv(X, y, model, model_params, fit_params, cv, folds, seeds, metrics, name=\"\"):\n",
        "    oof_seeds = []; scores_seeds = []; models = {}\n",
        "    for seed in seeds:\n",
        "        oof = []; va_idxes = []; scores = []\n",
        "        train_x, train_y = X.values, y.values\n",
        "        fold_idx = cv(train_x, train_y, n_splits=folds, random_state=seed) \n",
        "        if \"random_state\" in model_params:\n",
        "            model_params[\"random_state\"] = seed\n",
        "            \n",
        "        # train and predict by cv folds\n",
        "        for cv_num, (tr_idx, va_idx) in enumerate(fold_idx):\n",
        "            tr_x, va_x = train_x[tr_idx], train_x[va_idx]\n",
        "            tr_y, va_y = train_y[tr_idx], train_y[va_idx]\n",
        "            va_idxes.append(va_idx)\n",
        "            est = model(**model_params)\n",
        "\n",
        "            # fitting - train\n",
        "            est.fit(tr_x, tr_y,\n",
        "                    eval_set=[[va_x, va_y]],\n",
        "                    **fit_params) \n",
        "            model_name = f\"{name}_SEED{seed}_FOLD{cv_num}_model\"\n",
        "            models[model_name] = est  # save model\n",
        "\n",
        "            # predict - validation\n",
        "            pred = est.predict(va_x)\n",
        "            oof.append(pred)\n",
        "\n",
        "            # validation score\n",
        "            score = metrics(va_y, pred)\n",
        "            scores.append(score)\n",
        "            print(f\"SEED:{seed}, FOLD:{cv_num} >>>> val_score:{score:.4f}\")\n",
        "\n",
        "        # sort as default\n",
        "        va_idxes = np.concatenate(va_idxes)\n",
        "        oof = np.concatenate(oof)\n",
        "        order = np.argsort(va_idxes)\n",
        "        oof = oof[order]\n",
        "        oof_seeds.append(oof)\n",
        "        scores_seeds.append(np.mean(scores))\n",
        "\n",
        "    oof = np.mean(oof_seeds, axis=0)\n",
        "    print(f\"model:{name} score:{metrics(train_y, oof):.4f}\\n\")\n",
        "    return oof, models\n",
        "    \n",
        "# oof予測値と学習済みモデルをGet!\n",
        "oof, models = predict_cv(train_feat_df, y, model,  # 説明変数, 目的変数, モデル\n",
        "                         model_params,  # モデルパラメータ \n",
        "                         fit_params,  # fit時のパラメータ\n",
        "                         cv=make_gkf,  # cv strategy \n",
        "                         folds=5,   # num folds\n",
        "                         seeds=[0, 1, 2], # 3 seed average\n",
        "                         metrics=root_mean_squared_error,  # 評価関数\n",
        "                         name=\"lgbm\"\n",
        "                        )\t\t"
      ],
      "execution_count": 65,
      "outputs": [
        {
          "output_type": "stream",
          "text": [
            "SEED:0, FOLD:0 >>>> val_score:1.0693\n",
            "SEED:0, FOLD:1 >>>> val_score:1.1504\n",
            "SEED:0, FOLD:2 >>>> val_score:1.1579\n",
            "SEED:0, FOLD:3 >>>> val_score:1.1287\n",
            "SEED:0, FOLD:4 >>>> val_score:1.1560\n",
            "SEED:1, FOLD:0 >>>> val_score:1.1336\n",
            "SEED:1, FOLD:1 >>>> val_score:1.1312\n",
            "SEED:1, FOLD:2 >>>> val_score:1.1452\n",
            "SEED:1, FOLD:3 >>>> val_score:1.1346\n",
            "SEED:1, FOLD:4 >>>> val_score:1.1276\n",
            "SEED:2, FOLD:0 >>>> val_score:1.1535\n",
            "SEED:2, FOLD:1 >>>> val_score:1.1181\n",
            "SEED:2, FOLD:2 >>>> val_score:1.1303\n",
            "SEED:2, FOLD:3 >>>> val_score:1.1229\n",
            "SEED:2, FOLD:4 >>>> val_score:1.1576\n",
            "model:lgbm score:1.1273\n",
            "\n"
          ],
          "name": "stdout"
        }
      ]
    },
    {
      "cell_type": "code",
      "metadata": {
        "id": "jvIZCwM8Okob"
      },
      "source": [
        "import random\n",
        "from collections import defaultdict, Counter\n",
        "\n",
        "def stratified_group_k_fold(X, y, groups, k, seed=None):\n",
        "    labels_num = np.max(y) + 1\n",
        "    y_counts_per_group = defaultdict(lambda: np.zeros(labels_num))\n",
        "    y_distr = Counter()\n",
        "    for label, g in zip(y, groups):\n",
        "        y_counts_per_group[g][label] += 1\n",
        "        y_distr[label] += 1\n",
        "        \n",
        "    y_counts_per_fold = defaultdict(lambda: np.zeros(labels_num))\n",
        "    \n",
        "    groups_per_fold = defaultdict(set)\n",
        "    \n",
        "    def eval_y_counts_per_fold(y_counts, fold):\n",
        "        y_counts_per_fold[fold] += y_counts\n",
        "        std_per_label = []\n",
        "        for label in range(labels_num):\n",
        "            label_std = np.std([y_counts_per_fold[i][label] / y_distr[label] for i in range(k)])\n",
        "            std_per_label.append(label_std)\n",
        "        y_counts_per_fold[fold] -= y_counts\n",
        "        return np.mean(std_per_label)\n",
        "    \n",
        "    groups_and_y_counts = list(y_counts_per_group.items())\n",
        "    random.Random(seed).shuffle(groups_and_y_counts)\n",
        "\n",
        "    for g, y_counts in sorted(groups_and_y_counts, key=lambda x: -np.std(x[1])):\n",
        "        \n",
        "        best_fold = None\n",
        "        min_eval = None\n",
        "        \n",
        "        for i in range(k):\n",
        "            fold_eval = eval_y_counts_per_fold(y_counts, i)\n",
        "            \n",
        "            if min_eval is None or fold_eval < min_eval:\n",
        "                min_eval = fold_eval\n",
        "                best_fold = i\n",
        "                \n",
        "        y_counts_per_fold[best_fold] += y_counts\n",
        "        groups_per_fold[best_fold].add(g)\n",
        "        \n",
        "        \n",
        "    all_groups = set(groups)\n",
        "    \n",
        "    for i in range(k):\n",
        "        train_groups = all_groups - groups_per_fold[i]\n",
        "        test_groups = groups_per_fold[i]\n",
        "        \n",
        "        train_indices = [i for i, g in enumerate(groups) if g in train_groups]\n",
        "        test_indices = [i for i, g in enumerate(groups) if g in test_groups]\n",
        "        \n",
        "        yield train_indices, test_indices"
      ],
      "execution_count": 66,
      "outputs": []
    },
    {
      "cell_type": "code",
      "metadata": {
        "id": "sOrZRdBPPR2X"
      },
      "source": [
        "def create_bins(data, target, num):\n",
        "  bins = pd.cut(\n",
        "        np.log1p(data[target]),\n",
        "        bins = num,\n",
        "        labels = False\n",
        "    )\n",
        "  return bins"
      ],
      "execution_count": 67,
      "outputs": []
    },
    {
      "cell_type": "code",
      "metadata": {
        "id": "MnZDYegzQFjU"
      },
      "source": [
        "bins = create_bins(train, \"likes\", 10)\n",
        "cv = list(stratified_group_k_fold(train, \n",
        "                                  bins,\n",
        "                                  train[\"art_series_id\"],\n",
        "                                  10,\n",
        "                                  seed=0))"
      ],
      "execution_count": 68,
      "outputs": []
    },
    {
      "cell_type": "code",
      "metadata": {
        "colab": {
          "base_uri": "https://localhost:8080/"
        },
        "id": "wUDH1mUOQPsV",
        "outputId": "e56470ea-11d7-4d56-ffc2-afa082705617"
      },
      "source": [
        "oof, models = fit_lgbm(train_feat_df.values, y, cv, params=params)"
      ],
      "execution_count": 69,
      "outputs": [
        {
          "output_type": "stream",
          "text": [
            "Training until validation scores don't improve for 50 rounds.\n",
            "[50]\tvalid_0's rmse: 1.47441\n",
            "[100]\tvalid_0's rmse: 1.32506\n",
            "[150]\tvalid_0's rmse: 1.25533\n",
            "[200]\tvalid_0's rmse: 1.22253\n",
            "[250]\tvalid_0's rmse: 1.20468\n",
            "[300]\tvalid_0's rmse: 1.19434\n",
            "[350]\tvalid_0's rmse: 1.18547\n",
            "[400]\tvalid_0's rmse: 1.17891\n",
            "[450]\tvalid_0's rmse: 1.1732\n",
            "[500]\tvalid_0's rmse: 1.16929\n",
            "[550]\tvalid_0's rmse: 1.16692\n",
            "[600]\tvalid_0's rmse: 1.16494\n",
            "[650]\tvalid_0's rmse: 1.16276\n",
            "[700]\tvalid_0's rmse: 1.16098\n",
            "[750]\tvalid_0's rmse: 1.15908\n",
            "[800]\tvalid_0's rmse: 1.15667\n",
            "[850]\tvalid_0's rmse: 1.15465\n",
            "[900]\tvalid_0's rmse: 1.15314\n",
            "[950]\tvalid_0's rmse: 1.15144\n",
            "[1000]\tvalid_0's rmse: 1.15018\n",
            "[1050]\tvalid_0's rmse: 1.1489\n",
            "[1100]\tvalid_0's rmse: 1.148\n",
            "[1150]\tvalid_0's rmse: 1.14665\n",
            "[1200]\tvalid_0's rmse: 1.14596\n",
            "[1250]\tvalid_0's rmse: 1.14547\n",
            "[1300]\tvalid_0's rmse: 1.14444\n",
            "[1350]\tvalid_0's rmse: 1.14354\n",
            "[1400]\tvalid_0's rmse: 1.14311\n",
            "[1450]\tvalid_0's rmse: 1.14278\n",
            "[1500]\tvalid_0's rmse: 1.14249\n",
            "[1550]\tvalid_0's rmse: 1.14231\n",
            "[1600]\tvalid_0's rmse: 1.14154\n",
            "[1650]\tvalid_0's rmse: 1.14134\n",
            "[1700]\tvalid_0's rmse: 1.14077\n",
            "[1750]\tvalid_0's rmse: 1.14024\n",
            "[1800]\tvalid_0's rmse: 1.13999\n",
            "[1850]\tvalid_0's rmse: 1.13983\n",
            "[1900]\tvalid_0's rmse: 1.13957\n",
            "[1950]\tvalid_0's rmse: 1.13918\n",
            "[2000]\tvalid_0's rmse: 1.13869\n",
            "[2050]\tvalid_0's rmse: 1.13832\n",
            "[2100]\tvalid_0's rmse: 1.13832\n",
            "Early stopping, best iteration is:\n",
            "[2068]\tvalid_0's rmse: 1.13808\n",
            "fit fold=14.291[s]\n",
            "K Fold 0 RMSLE: 1.1381\n",
            "Training until validation scores don't improve for 50 rounds.\n",
            "[50]\tvalid_0's rmse: 1.4669\n",
            "[100]\tvalid_0's rmse: 1.31374\n",
            "[150]\tvalid_0's rmse: 1.23945\n",
            "[200]\tvalid_0's rmse: 1.20228\n",
            "[250]\tvalid_0's rmse: 1.18309\n",
            "[300]\tvalid_0's rmse: 1.17169\n",
            "[350]\tvalid_0's rmse: 1.16254\n",
            "[400]\tvalid_0's rmse: 1.15566\n",
            "[450]\tvalid_0's rmse: 1.15016\n",
            "[500]\tvalid_0's rmse: 1.14586\n",
            "[550]\tvalid_0's rmse: 1.14381\n",
            "[600]\tvalid_0's rmse: 1.14214\n",
            "[650]\tvalid_0's rmse: 1.14087\n",
            "[700]\tvalid_0's rmse: 1.13974\n",
            "[750]\tvalid_0's rmse: 1.13845\n",
            "[800]\tvalid_0's rmse: 1.13615\n",
            "[850]\tvalid_0's rmse: 1.13416\n",
            "[900]\tvalid_0's rmse: 1.13319\n",
            "[950]\tvalid_0's rmse: 1.13176\n",
            "[1000]\tvalid_0's rmse: 1.13036\n",
            "[1050]\tvalid_0's rmse: 1.12945\n",
            "[1100]\tvalid_0's rmse: 1.12843\n",
            "[1150]\tvalid_0's rmse: 1.12757\n",
            "[1200]\tvalid_0's rmse: 1.12708\n",
            "[1250]\tvalid_0's rmse: 1.1265\n",
            "[1300]\tvalid_0's rmse: 1.12615\n",
            "[1350]\tvalid_0's rmse: 1.12553\n",
            "[1400]\tvalid_0's rmse: 1.12513\n",
            "[1450]\tvalid_0's rmse: 1.12482\n",
            "[1500]\tvalid_0's rmse: 1.12443\n",
            "[1550]\tvalid_0's rmse: 1.12416\n",
            "[1600]\tvalid_0's rmse: 1.12376\n",
            "[1650]\tvalid_0's rmse: 1.12363\n",
            "[1700]\tvalid_0's rmse: 1.12335\n",
            "[1750]\tvalid_0's rmse: 1.1229\n",
            "[1800]\tvalid_0's rmse: 1.12243\n",
            "[1850]\tvalid_0's rmse: 1.12211\n",
            "[1900]\tvalid_0's rmse: 1.12189\n",
            "[1950]\tvalid_0's rmse: 1.12164\n",
            "[2000]\tvalid_0's rmse: 1.12075\n",
            "[2050]\tvalid_0's rmse: 1.12031\n",
            "[2100]\tvalid_0's rmse: 1.12002\n",
            "[2150]\tvalid_0's rmse: 1.11983\n",
            "Early stopping, best iteration is:\n",
            "[2147]\tvalid_0's rmse: 1.1198\n",
            "fit fold=24.454[s]\n",
            "K Fold 1 RMSLE: 1.1198\n",
            "Training until validation scores don't improve for 50 rounds.\n",
            "[50]\tvalid_0's rmse: 1.48253\n",
            "[100]\tvalid_0's rmse: 1.34034\n",
            "[150]\tvalid_0's rmse: 1.27308\n",
            "[200]\tvalid_0's rmse: 1.2391\n",
            "[250]\tvalid_0's rmse: 1.22133\n",
            "[300]\tvalid_0's rmse: 1.21049\n",
            "[350]\tvalid_0's rmse: 1.20135\n",
            "[400]\tvalid_0's rmse: 1.19325\n",
            "[450]\tvalid_0's rmse: 1.18821\n",
            "[500]\tvalid_0's rmse: 1.18366\n",
            "[550]\tvalid_0's rmse: 1.18157\n",
            "[600]\tvalid_0's rmse: 1.17901\n",
            "[650]\tvalid_0's rmse: 1.17737\n",
            "[700]\tvalid_0's rmse: 1.1754\n",
            "[750]\tvalid_0's rmse: 1.17395\n",
            "[800]\tvalid_0's rmse: 1.1722\n",
            "[850]\tvalid_0's rmse: 1.17039\n",
            "[900]\tvalid_0's rmse: 1.1689\n",
            "[950]\tvalid_0's rmse: 1.16738\n",
            "[1000]\tvalid_0's rmse: 1.16639\n",
            "[1050]\tvalid_0's rmse: 1.16516\n",
            "[1100]\tvalid_0's rmse: 1.16404\n",
            "[1150]\tvalid_0's rmse: 1.1634\n",
            "[1200]\tvalid_0's rmse: 1.16329\n",
            "[1250]\tvalid_0's rmse: 1.1628\n",
            "[1300]\tvalid_0's rmse: 1.16187\n",
            "[1350]\tvalid_0's rmse: 1.16173\n",
            "[1400]\tvalid_0's rmse: 1.16144\n",
            "[1450]\tvalid_0's rmse: 1.16111\n",
            "[1500]\tvalid_0's rmse: 1.1608\n",
            "[1550]\tvalid_0's rmse: 1.16045\n",
            "[1600]\tvalid_0's rmse: 1.1601\n",
            "[1650]\tvalid_0's rmse: 1.1594\n",
            "[1700]\tvalid_0's rmse: 1.15965\n",
            "Early stopping, best iteration is:\n",
            "[1656]\tvalid_0's rmse: 1.15932\n",
            "fit fold=33.549[s]\n",
            "K Fold 2 RMSLE: 1.1593\n",
            "Training until validation scores don't improve for 50 rounds.\n",
            "[50]\tvalid_0's rmse: 1.46756\n",
            "[100]\tvalid_0's rmse: 1.32264\n",
            "[150]\tvalid_0's rmse: 1.25451\n",
            "[200]\tvalid_0's rmse: 1.22091\n",
            "[250]\tvalid_0's rmse: 1.2035\n",
            "[300]\tvalid_0's rmse: 1.19355\n",
            "[350]\tvalid_0's rmse: 1.18595\n",
            "[400]\tvalid_0's rmse: 1.18005\n",
            "[450]\tvalid_0's rmse: 1.17625\n",
            "[500]\tvalid_0's rmse: 1.17315\n",
            "[550]\tvalid_0's rmse: 1.17143\n",
            "[600]\tvalid_0's rmse: 1.16906\n",
            "[650]\tvalid_0's rmse: 1.1667\n",
            "[700]\tvalid_0's rmse: 1.16492\n",
            "[750]\tvalid_0's rmse: 1.16343\n",
            "[800]\tvalid_0's rmse: 1.16229\n",
            "[850]\tvalid_0's rmse: 1.16135\n",
            "[900]\tvalid_0's rmse: 1.16057\n",
            "[950]\tvalid_0's rmse: 1.15951\n",
            "[1000]\tvalid_0's rmse: 1.15892\n",
            "[1050]\tvalid_0's rmse: 1.15824\n",
            "[1100]\tvalid_0's rmse: 1.15779\n",
            "[1150]\tvalid_0's rmse: 1.15717\n",
            "[1200]\tvalid_0's rmse: 1.15621\n",
            "[1250]\tvalid_0's rmse: 1.15593\n",
            "[1300]\tvalid_0's rmse: 1.15503\n",
            "[1350]\tvalid_0's rmse: 1.15465\n",
            "[1400]\tvalid_0's rmse: 1.15443\n",
            "[1450]\tvalid_0's rmse: 1.15413\n",
            "[1500]\tvalid_0's rmse: 1.15398\n",
            "[1550]\tvalid_0's rmse: 1.15338\n",
            "[1600]\tvalid_0's rmse: 1.1527\n",
            "[1650]\tvalid_0's rmse: 1.1525\n",
            "[1700]\tvalid_0's rmse: 1.15231\n",
            "[1750]\tvalid_0's rmse: 1.15188\n",
            "[1800]\tvalid_0's rmse: 1.15144\n",
            "[1850]\tvalid_0's rmse: 1.1513\n",
            "Early stopping, best iteration is:\n",
            "[1832]\tvalid_0's rmse: 1.15123\n",
            "fit fold=43.901[s]\n",
            "K Fold 3 RMSLE: 1.1512\n",
            "Training until validation scores don't improve for 50 rounds.\n",
            "[50]\tvalid_0's rmse: 1.47741\n",
            "[100]\tvalid_0's rmse: 1.34632\n",
            "[150]\tvalid_0's rmse: 1.28542\n",
            "[200]\tvalid_0's rmse: 1.25633\n",
            "[250]\tvalid_0's rmse: 1.24132\n",
            "[300]\tvalid_0's rmse: 1.23162\n",
            "[350]\tvalid_0's rmse: 1.22395\n",
            "[400]\tvalid_0's rmse: 1.21718\n",
            "[450]\tvalid_0's rmse: 1.2131\n",
            "[500]\tvalid_0's rmse: 1.20938\n",
            "[550]\tvalid_0's rmse: 1.20599\n",
            "[600]\tvalid_0's rmse: 1.20403\n",
            "[650]\tvalid_0's rmse: 1.20167\n",
            "[700]\tvalid_0's rmse: 1.19934\n",
            "[750]\tvalid_0's rmse: 1.19806\n",
            "[800]\tvalid_0's rmse: 1.19598\n",
            "[850]\tvalid_0's rmse: 1.19411\n",
            "[900]\tvalid_0's rmse: 1.19239\n",
            "[950]\tvalid_0's rmse: 1.19071\n",
            "[1000]\tvalid_0's rmse: 1.18977\n",
            "[1050]\tvalid_0's rmse: 1.18822\n",
            "[1100]\tvalid_0's rmse: 1.18616\n",
            "[1150]\tvalid_0's rmse: 1.18446\n",
            "[1200]\tvalid_0's rmse: 1.18285\n",
            "[1250]\tvalid_0's rmse: 1.18129\n",
            "[1300]\tvalid_0's rmse: 1.18006\n",
            "[1350]\tvalid_0's rmse: 1.17945\n",
            "[1400]\tvalid_0's rmse: 1.17858\n",
            "[1450]\tvalid_0's rmse: 1.17729\n",
            "[1500]\tvalid_0's rmse: 1.1762\n",
            "[1550]\tvalid_0's rmse: 1.17529\n",
            "[1600]\tvalid_0's rmse: 1.1744\n",
            "[1650]\tvalid_0's rmse: 1.1735\n",
            "[1700]\tvalid_0's rmse: 1.17276\n",
            "[1750]\tvalid_0's rmse: 1.1722\n",
            "[1800]\tvalid_0's rmse: 1.17163\n",
            "[1850]\tvalid_0's rmse: 1.17136\n",
            "[1900]\tvalid_0's rmse: 1.17131\n",
            "[1950]\tvalid_0's rmse: 1.17108\n",
            "[2000]\tvalid_0's rmse: 1.1705\n",
            "[2050]\tvalid_0's rmse: 1.16993\n",
            "[2100]\tvalid_0's rmse: 1.16969\n",
            "[2150]\tvalid_0's rmse: 1.16923\n",
            "[2200]\tvalid_0's rmse: 1.16855\n",
            "[2250]\tvalid_0's rmse: 1.1685\n",
            "[2300]\tvalid_0's rmse: 1.16827\n",
            "[2350]\tvalid_0's rmse: 1.16815\n",
            "[2400]\tvalid_0's rmse: 1.16808\n",
            "[2450]\tvalid_0's rmse: 1.16796\n",
            "[2500]\tvalid_0's rmse: 1.1679\n",
            "[2550]\tvalid_0's rmse: 1.16778\n",
            "Early stopping, best iteration is:\n",
            "[2525]\tvalid_0's rmse: 1.16774\n",
            "fit fold=55.214[s]\n",
            "K Fold 4 RMSLE: 1.1677\n",
            "Training until validation scores don't improve for 50 rounds.\n",
            "[50]\tvalid_0's rmse: 1.45494\n",
            "[100]\tvalid_0's rmse: 1.31295\n",
            "[150]\tvalid_0's rmse: 1.24673\n",
            "[200]\tvalid_0's rmse: 1.21698\n",
            "[250]\tvalid_0's rmse: 1.20281\n",
            "[300]\tvalid_0's rmse: 1.19399\n",
            "[350]\tvalid_0's rmse: 1.18663\n",
            "[400]\tvalid_0's rmse: 1.18116\n",
            "[450]\tvalid_0's rmse: 1.17777\n",
            "[500]\tvalid_0's rmse: 1.17447\n",
            "[550]\tvalid_0's rmse: 1.17224\n",
            "[600]\tvalid_0's rmse: 1.17045\n",
            "[650]\tvalid_0's rmse: 1.16842\n",
            "[700]\tvalid_0's rmse: 1.1667\n",
            "[750]\tvalid_0's rmse: 1.16494\n",
            "[800]\tvalid_0's rmse: 1.16347\n",
            "[850]\tvalid_0's rmse: 1.16203\n",
            "[900]\tvalid_0's rmse: 1.16067\n",
            "[950]\tvalid_0's rmse: 1.15935\n",
            "[1000]\tvalid_0's rmse: 1.15878\n",
            "[1050]\tvalid_0's rmse: 1.15812\n",
            "[1100]\tvalid_0's rmse: 1.1571\n",
            "[1150]\tvalid_0's rmse: 1.1566\n",
            "[1200]\tvalid_0's rmse: 1.15562\n",
            "[1250]\tvalid_0's rmse: 1.15497\n",
            "[1300]\tvalid_0's rmse: 1.15441\n",
            "[1350]\tvalid_0's rmse: 1.15374\n",
            "[1400]\tvalid_0's rmse: 1.15284\n",
            "[1450]\tvalid_0's rmse: 1.15194\n",
            "Early stopping, best iteration is:\n",
            "[1449]\tvalid_0's rmse: 1.15188\n",
            "fit fold=63.263[s]\n",
            "K Fold 5 RMSLE: 1.1519\n",
            "Training until validation scores don't improve for 50 rounds.\n",
            "[50]\tvalid_0's rmse: 1.44605\n",
            "[100]\tvalid_0's rmse: 1.29704\n",
            "[150]\tvalid_0's rmse: 1.22504\n",
            "[200]\tvalid_0's rmse: 1.19029\n",
            "[250]\tvalid_0's rmse: 1.17298\n",
            "[300]\tvalid_0's rmse: 1.16238\n",
            "[350]\tvalid_0's rmse: 1.15396\n",
            "[400]\tvalid_0's rmse: 1.14623\n",
            "[450]\tvalid_0's rmse: 1.14134\n",
            "[500]\tvalid_0's rmse: 1.13716\n",
            "[550]\tvalid_0's rmse: 1.13455\n",
            "[600]\tvalid_0's rmse: 1.13225\n",
            "[650]\tvalid_0's rmse: 1.13047\n",
            "[700]\tvalid_0's rmse: 1.12864\n",
            "[750]\tvalid_0's rmse: 1.12675\n",
            "[800]\tvalid_0's rmse: 1.12485\n",
            "[850]\tvalid_0's rmse: 1.12272\n",
            "[900]\tvalid_0's rmse: 1.12143\n",
            "[950]\tvalid_0's rmse: 1.12021\n",
            "[1000]\tvalid_0's rmse: 1.11972\n",
            "[1050]\tvalid_0's rmse: 1.11882\n",
            "[1100]\tvalid_0's rmse: 1.11766\n",
            "[1150]\tvalid_0's rmse: 1.11701\n",
            "[1200]\tvalid_0's rmse: 1.11654\n",
            "[1250]\tvalid_0's rmse: 1.11588\n",
            "[1300]\tvalid_0's rmse: 1.11496\n",
            "[1350]\tvalid_0's rmse: 1.11456\n",
            "[1400]\tvalid_0's rmse: 1.11379\n",
            "[1450]\tvalid_0's rmse: 1.11317\n",
            "[1500]\tvalid_0's rmse: 1.11284\n",
            "[1550]\tvalid_0's rmse: 1.11221\n",
            "[1600]\tvalid_0's rmse: 1.11133\n",
            "[1650]\tvalid_0's rmse: 1.11081\n",
            "[1700]\tvalid_0's rmse: 1.11009\n",
            "[1750]\tvalid_0's rmse: 1.10951\n",
            "[1800]\tvalid_0's rmse: 1.10935\n",
            "[1850]\tvalid_0's rmse: 1.10911\n",
            "[1900]\tvalid_0's rmse: 1.10879\n",
            "[1950]\tvalid_0's rmse: 1.10873\n",
            "[2000]\tvalid_0's rmse: 1.10839\n",
            "[2050]\tvalid_0's rmse: 1.10844\n",
            "Early stopping, best iteration is:\n",
            "[2009]\tvalid_0's rmse: 1.10831\n",
            "fit fold=74.333[s]\n",
            "K Fold 6 RMSLE: 1.1083\n",
            "Training until validation scores don't improve for 50 rounds.\n",
            "[50]\tvalid_0's rmse: 1.44989\n",
            "[100]\tvalid_0's rmse: 1.29592\n",
            "[150]\tvalid_0's rmse: 1.21981\n",
            "[200]\tvalid_0's rmse: 1.18175\n",
            "[250]\tvalid_0's rmse: 1.16163\n",
            "[300]\tvalid_0's rmse: 1.14951\n",
            "[350]\tvalid_0's rmse: 1.13959\n",
            "[400]\tvalid_0's rmse: 1.13112\n",
            "[450]\tvalid_0's rmse: 1.1261\n",
            "[500]\tvalid_0's rmse: 1.1222\n",
            "[550]\tvalid_0's rmse: 1.1199\n",
            "[600]\tvalid_0's rmse: 1.11809\n",
            "[650]\tvalid_0's rmse: 1.11643\n",
            "[700]\tvalid_0's rmse: 1.11525\n",
            "[750]\tvalid_0's rmse: 1.11445\n",
            "[800]\tvalid_0's rmse: 1.11268\n",
            "[850]\tvalid_0's rmse: 1.11134\n",
            "[900]\tvalid_0's rmse: 1.11056\n",
            "[950]\tvalid_0's rmse: 1.10929\n",
            "[1000]\tvalid_0's rmse: 1.10796\n",
            "[1050]\tvalid_0's rmse: 1.10687\n",
            "[1100]\tvalid_0's rmse: 1.10604\n",
            "[1150]\tvalid_0's rmse: 1.10576\n",
            "[1200]\tvalid_0's rmse: 1.10552\n",
            "[1250]\tvalid_0's rmse: 1.10515\n",
            "[1300]\tvalid_0's rmse: 1.10501\n",
            "[1350]\tvalid_0's rmse: 1.1048\n",
            "[1400]\tvalid_0's rmse: 1.10421\n",
            "[1450]\tvalid_0's rmse: 1.10359\n",
            "[1500]\tvalid_0's rmse: 1.10274\n",
            "[1550]\tvalid_0's rmse: 1.10233\n",
            "[1600]\tvalid_0's rmse: 1.10194\n",
            "[1650]\tvalid_0's rmse: 1.10187\n",
            "Early stopping, best iteration is:\n",
            "[1616]\tvalid_0's rmse: 1.10183\n",
            "fit fold=83.539[s]\n",
            "K Fold 7 RMSLE: 1.1018\n",
            "Training until validation scores don't improve for 50 rounds.\n",
            "[50]\tvalid_0's rmse: 1.42778\n",
            "[100]\tvalid_0's rmse: 1.27955\n",
            "[150]\tvalid_0's rmse: 1.21246\n",
            "[200]\tvalid_0's rmse: 1.18176\n",
            "[250]\tvalid_0's rmse: 1.1667\n",
            "[300]\tvalid_0's rmse: 1.15841\n",
            "[350]\tvalid_0's rmse: 1.15218\n",
            "[400]\tvalid_0's rmse: 1.14666\n",
            "[450]\tvalid_0's rmse: 1.14252\n",
            "[500]\tvalid_0's rmse: 1.13969\n",
            "[550]\tvalid_0's rmse: 1.13779\n",
            "[600]\tvalid_0's rmse: 1.13615\n",
            "[650]\tvalid_0's rmse: 1.13504\n",
            "[700]\tvalid_0's rmse: 1.13466\n",
            "[750]\tvalid_0's rmse: 1.1342\n",
            "[800]\tvalid_0's rmse: 1.13405\n",
            "[850]\tvalid_0's rmse: 1.13351\n",
            "[900]\tvalid_0's rmse: 1.13276\n",
            "[950]\tvalid_0's rmse: 1.13245\n",
            "[1000]\tvalid_0's rmse: 1.13207\n",
            "[1050]\tvalid_0's rmse: 1.13193\n",
            "[1100]\tvalid_0's rmse: 1.13168\n",
            "Early stopping, best iteration is:\n",
            "[1095]\tvalid_0's rmse: 1.13157\n",
            "fit fold=92.562[s]\n",
            "K Fold 8 RMSLE: 1.1316\n",
            "Training until validation scores don't improve for 50 rounds.\n",
            "[50]\tvalid_0's rmse: 1.44471\n",
            "[100]\tvalid_0's rmse: 1.29345\n",
            "[150]\tvalid_0's rmse: 1.22035\n",
            "[200]\tvalid_0's rmse: 1.18431\n",
            "[250]\tvalid_0's rmse: 1.16588\n",
            "[300]\tvalid_0's rmse: 1.15412\n",
            "[350]\tvalid_0's rmse: 1.14725\n",
            "[400]\tvalid_0's rmse: 1.14075\n",
            "[450]\tvalid_0's rmse: 1.13623\n",
            "[500]\tvalid_0's rmse: 1.13212\n",
            "[550]\tvalid_0's rmse: 1.13067\n",
            "[600]\tvalid_0's rmse: 1.1297\n",
            "[650]\tvalid_0's rmse: 1.12781\n",
            "[700]\tvalid_0's rmse: 1.12632\n",
            "[750]\tvalid_0's rmse: 1.12477\n",
            "[800]\tvalid_0's rmse: 1.12367\n",
            "[850]\tvalid_0's rmse: 1.12244\n",
            "[900]\tvalid_0's rmse: 1.12125\n",
            "[950]\tvalid_0's rmse: 1.11981\n",
            "[1000]\tvalid_0's rmse: 1.11909\n",
            "[1050]\tvalid_0's rmse: 1.11868\n",
            "[1100]\tvalid_0's rmse: 1.11814\n",
            "Early stopping, best iteration is:\n",
            "[1087]\tvalid_0's rmse: 1.11808\n",
            "fit fold=102.558[s]\n",
            "K Fold 9 RMSLE: 1.1181\n",
            "FINIHED | Whole RMSLE: 1.1350\n"
          ],
          "name": "stdout"
        }
      ]
    },
    {
      "cell_type": "code",
      "metadata": {
        "id": "RzXImBG9QhOC"
      },
      "source": [
        "def revert_to_real(y_log):\n",
        "    _pred = np.expm1(y_log)\n",
        "    _pred = np.where(_pred < 0, 0, _pred)\n",
        "    return _pred"
      ],
      "execution_count": 70,
      "outputs": []
    },
    {
      "cell_type": "code",
      "metadata": {
        "id": "ni3m7L7OQ56i"
      },
      "source": [
        "pred = np.array([model.predict(test_feat_df.values) for model in models])\n",
        "pred = np.mean(pred, axis=0)\n",
        "pred = revert_to_real(pred)\n",
        "sub_df = pd.DataFrame({ 'likes': pred })"
      ],
      "execution_count": 71,
      "outputs": []
    },
    {
      "cell_type": "code",
      "metadata": {
        "colab": {
          "base_uri": "https://localhost:8080/",
          "height": 485
        },
        "id": "mffNRL1TQ-yr",
        "outputId": "8d810046-8de8-414c-f9b9-f4fe1fe8217c"
      },
      "source": [
        "fig, ax = plt.subplots(figsize=(8, 8))\n",
        "sns.histplot(np.log1p(pred), label='Test Predict', ax=ax, color='black')\n",
        "sns.histplot(oof, label='Out Of Fold', ax=ax, color='C1')\n",
        "ax.legend()\n",
        "ax.grid()"
      ],
      "execution_count": 72,
      "outputs": [
        {
          "output_type": "display_data",
          "data": {
            "image/png": "[encoded data removed]",
            "text/plain": [
              "<Figure size 576x576 with 1 Axes>"
            ]
          },
          "metadata": {
            "tags": []
          }
        }
      ]
    }
  ]
}