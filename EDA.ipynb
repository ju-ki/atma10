{
  "nbformat": 4,
  "nbformat_minor": 0,
  "metadata": {
    "colab": {
      "name": "EDA.ipynb",
      "provenance": [],
      "collapsed_sections": [],
      "mount_file_id": "1N_n4HaqTxLgcImhOdC_ONm5e4T4ft4_-",
      "authorship_tag": "ABX9TyPmR+1EXy9SwXvAF+cHW1XT",
      "include_colab_link": true
    },
    "kernelspec": {
      "name": "python3",
      "display_name": "Python 3"
    }
  },
  "cells": [
    {
      "cell_type": "markdown",
      "metadata": {
        "id": "view-in-github",
        "colab_type": "text"
      },
      "source": [
        "<a href=\"https://colab.research.google.com/github/ju-ki/atma10/blob/master/EDA.ipynb\" target=\"_parent\"><img src=\"https://colab.research.google.com/assets/colab-badge.svg\" alt=\"Open In Colab\"/></a>"
      ]
    },
    {
      "cell_type": "code",
      "metadata": {
        "colab": {
          "base_uri": "https://localhost:8080/"
        },
        "id": "5XB0wKwFCRNB",
        "outputId": "c353d0a6-d632-4d21-e16f-f1f15e84a666"
      },
      "source": [
        "from google.colab import drive\n",
        "drive.mount(\"/content/drive/\")"
      ],
      "execution_count": 1,
      "outputs": [
        {
          "output_type": "stream",
          "text": [
            "Drive already mounted at /content/drive/; to attempt to forcibly remount, call drive.mount(\"/content/drive/\", force_remount=True).\n"
          ],
          "name": "stdout"
        }
      ]
    },
    {
      "cell_type": "code",
      "metadata": {
        "id": "teOoT0mtCgRX"
      },
      "source": [
        "import os\n",
        "import glob\n",
        "import numpy as np\n",
        "import pandas as pd\n",
        "import matplotlib.pyplot as plt\n",
        "import seaborn as sns\n",
        "from matplotlib_venn import venn2\n",
        "sns.set()"
      ],
      "execution_count": 2,
      "outputs": []
    },
    {
      "cell_type": "code",
      "metadata": {
        "id": "WbVxXJUGC4jk"
      },
      "source": [
        "INPUT_PATH = \"/content/drive/MyDrive/atmacup10/data/raw/\"\n",
        "OUTPUT_PATH = \"/content/drive/MyDrive/atmacup10/data/submission/\""
      ],
      "execution_count": 3,
      "outputs": []
    },
    {
      "cell_type": "code",
      "metadata": {
        "colab": {
          "base_uri": "https://localhost:8080/"
        },
        "id": "-fRq6RM4C9h3",
        "outputId": "3ddb66c7-da42-41cf-af62-026d166aa9ff"
      },
      "source": [
        "train = pd.read_csv(INPUT_PATH + \"train.csv\")\n",
        "test = pd.read_csv(INPUT_PATH + \"test.csv\")\n",
        "print(train.shape, test.shape)"
      ],
      "execution_count": 4,
      "outputs": [
        {
          "output_type": "stream",
          "text": [
            "(12026, 19) (12008, 18)\n"
          ],
          "name": "stdout"
        }
      ]
    },
    {
      "cell_type": "code",
      "metadata": {
        "colab": {
          "base_uri": "https://localhost:8080/"
        },
        "id": "RIW-8qP4Dcc6",
        "outputId": "b0abd571-e4b8-4e7a-fb4e-2c32504b5ba4"
      },
      "source": [
        "print(train.info())\n",
        "print(\"-\"*50)\n",
        "print(test.info())#直直欠損値がある."
      ],
      "execution_count": 5,
      "outputs": [
        {
          "output_type": "stream",
          "text": [
            "<class 'pandas.core.frame.DataFrame'>\n",
            "RangeIndex: 12026 entries, 0 to 12025\n",
            "Data columns (total 19 columns):\n",
            " #   Column                    Non-Null Count  Dtype  \n",
            "---  ------                    --------------  -----  \n",
            " 0   object_id                 12026 non-null  object \n",
            " 1   art_series_id             12026 non-null  object \n",
            " 2   title                     12026 non-null  object \n",
            " 3   description               8506 non-null   object \n",
            " 4   long_title                12026 non-null  object \n",
            " 5   principal_maker           12026 non-null  object \n",
            " 6   principal_or_first_maker  12025 non-null  object \n",
            " 7   sub_title                 11992 non-null  object \n",
            " 8   copyright_holder          713 non-null    object \n",
            " 9   more_title                11891 non-null  object \n",
            " 10  acquisition_method        11830 non-null  object \n",
            " 11  acquisition_date          11009 non-null  object \n",
            " 12  acquisition_credit_line   3525 non-null   object \n",
            " 13  dating_presenting_date    12016 non-null  object \n",
            " 14  dating_sorting_date       12016 non-null  float64\n",
            " 15  dating_period             12026 non-null  int64  \n",
            " 16  dating_year_early         12016 non-null  float64\n",
            " 17  dating_year_late          11988 non-null  float64\n",
            " 18  likes                     12026 non-null  int64  \n",
            "dtypes: float64(3), int64(2), object(14)\n",
            "memory usage: 1.7+ MB\n",
            "None\n",
            "--------------------------------------------------\n",
            "<class 'pandas.core.frame.DataFrame'>\n",
            "RangeIndex: 12008 entries, 0 to 12007\n",
            "Data columns (total 18 columns):\n",
            " #   Column                    Non-Null Count  Dtype  \n",
            "---  ------                    --------------  -----  \n",
            " 0   object_id                 12008 non-null  object \n",
            " 1   art_series_id             12008 non-null  object \n",
            " 2   title                     12008 non-null  object \n",
            " 3   description               8323 non-null   object \n",
            " 4   long_title                12008 non-null  object \n",
            " 5   principal_maker           12008 non-null  object \n",
            " 6   principal_or_first_maker  12008 non-null  object \n",
            " 7   sub_title                 11978 non-null  object \n",
            " 8   copyright_holder          721 non-null    object \n",
            " 9   more_title                11844 non-null  object \n",
            " 10  acquisition_method        11833 non-null  object \n",
            " 11  acquisition_date          11010 non-null  object \n",
            " 12  acquisition_credit_line   3538 non-null   object \n",
            " 13  dating_presenting_date    12000 non-null  object \n",
            " 14  dating_sorting_date       12000 non-null  float64\n",
            " 15  dating_period             12008 non-null  int64  \n",
            " 16  dating_year_early         12000 non-null  float64\n",
            " 17  dating_year_late          11977 non-null  float64\n",
            "dtypes: float64(3), int64(1), object(14)\n",
            "memory usage: 1.6+ MB\n",
            "None\n"
          ],
          "name": "stdout"
        }
      ]
    },
    {
      "cell_type": "code",
      "metadata": {
        "colab": {
          "base_uri": "https://localhost:8080/",
          "height": 574
        },
        "id": "yofeT7kiDmHT",
        "outputId": "919e4a98-f0ac-400d-a9a7-e330d4554493"
      },
      "source": [
        "display(train.describe())\n",
        "display(test.describe())"
      ],
      "execution_count": 6,
      "outputs": [
        {
          "output_type": "display_data",
          "data": {
            "text/html": [
              "<div>\n",
              "<style scoped>\n",
              "    .dataframe tbody tr th:only-of-type {\n",
              "        vertical-align: middle;\n",
              "    }\n",
              "\n",
              "    .dataframe tbody tr th {\n",
              "        vertical-align: top;\n",
              "    }\n",
              "\n",
              "    .dataframe thead th {\n",
              "        text-align: right;\n",
              "    }\n",
              "</style>\n",
              "<table border=\"1\" class=\"dataframe\">\n",
              "  <thead>\n",
              "    <tr style=\"text-align: right;\">\n",
              "      <th></th>\n",
              "      <th>dating_sorting_date</th>\n",
              "      <th>dating_period</th>\n",
              "      <th>dating_year_early</th>\n",
              "      <th>dating_year_late</th>\n",
              "      <th>likes</th>\n",
              "    </tr>\n",
              "  </thead>\n",
              "  <tbody>\n",
              "    <tr>\n",
              "      <th>count</th>\n",
              "      <td>12016.000000</td>\n",
              "      <td>12026.000000</td>\n",
              "      <td>12016.000000</td>\n",
              "      <td>11988.000000</td>\n",
              "      <td>12026.000000</td>\n",
              "    </tr>\n",
              "    <tr>\n",
              "      <th>mean</th>\n",
              "      <td>1769.769724</td>\n",
              "      <td>18.112673</td>\n",
              "      <td>1769.769724</td>\n",
              "      <td>1783.393143</td>\n",
              "      <td>81.915932</td>\n",
              "    </tr>\n",
              "    <tr>\n",
              "      <th>std</th>\n",
              "      <td>122.237041</td>\n",
              "      <td>1.353530</td>\n",
              "      <td>122.237041</td>\n",
              "      <td>122.344180</td>\n",
              "      <td>641.094570</td>\n",
              "    </tr>\n",
              "    <tr>\n",
              "      <th>min</th>\n",
              "      <td>1250.000000</td>\n",
              "      <td>-2.000000</td>\n",
              "      <td>1250.000000</td>\n",
              "      <td>1250.000000</td>\n",
              "      <td>0.000000</td>\n",
              "    </tr>\n",
              "    <tr>\n",
              "      <th>25%</th>\n",
              "      <td>1657.750000</td>\n",
              "      <td>17.000000</td>\n",
              "      <td>1657.750000</td>\n",
              "      <td>1672.000000</td>\n",
              "      <td>0.000000</td>\n",
              "    </tr>\n",
              "    <tr>\n",
              "      <th>50%</th>\n",
              "      <td>1808.000000</td>\n",
              "      <td>19.000000</td>\n",
              "      <td>1808.000000</td>\n",
              "      <td>1826.000000</td>\n",
              "      <td>3.000000</td>\n",
              "    </tr>\n",
              "    <tr>\n",
              "      <th>75%</th>\n",
              "      <td>1872.000000</td>\n",
              "      <td>19.000000</td>\n",
              "      <td>1872.000000</td>\n",
              "      <td>1890.000000</td>\n",
              "      <td>12.000000</td>\n",
              "    </tr>\n",
              "    <tr>\n",
              "      <th>max</th>\n",
              "      <td>2011.000000</td>\n",
              "      <td>21.000000</td>\n",
              "      <td>2011.000000</td>\n",
              "      <td>2011.000000</td>\n",
              "      <td>27392.000000</td>\n",
              "    </tr>\n",
              "  </tbody>\n",
              "</table>\n",
              "</div>"
            ],
            "text/plain": [
              "       dating_sorting_date  dating_period  ...  dating_year_late         likes\n",
              "count         12016.000000   12026.000000  ...      11988.000000  12026.000000\n",
              "mean           1769.769724      18.112673  ...       1783.393143     81.915932\n",
              "std             122.237041       1.353530  ...        122.344180    641.094570\n",
              "min            1250.000000      -2.000000  ...       1250.000000      0.000000\n",
              "25%            1657.750000      17.000000  ...       1672.000000      0.000000\n",
              "50%            1808.000000      19.000000  ...       1826.000000      3.000000\n",
              "75%            1872.000000      19.000000  ...       1890.000000     12.000000\n",
              "max            2011.000000      21.000000  ...       2011.000000  27392.000000\n",
              "\n",
              "[8 rows x 5 columns]"
            ]
          },
          "metadata": {
            "tags": []
          }
        },
        {
          "output_type": "display_data",
          "data": {
            "text/html": [
              "<div>\n",
              "<style scoped>\n",
              "    .dataframe tbody tr th:only-of-type {\n",
              "        vertical-align: middle;\n",
              "    }\n",
              "\n",
              "    .dataframe tbody tr th {\n",
              "        vertical-align: top;\n",
              "    }\n",
              "\n",
              "    .dataframe thead th {\n",
              "        text-align: right;\n",
              "    }\n",
              "</style>\n",
              "<table border=\"1\" class=\"dataframe\">\n",
              "  <thead>\n",
              "    <tr style=\"text-align: right;\">\n",
              "      <th></th>\n",
              "      <th>dating_sorting_date</th>\n",
              "      <th>dating_period</th>\n",
              "      <th>dating_year_early</th>\n",
              "      <th>dating_year_late</th>\n",
              "    </tr>\n",
              "  </thead>\n",
              "  <tbody>\n",
              "    <tr>\n",
              "      <th>count</th>\n",
              "      <td>12000.000000</td>\n",
              "      <td>12008.000000</td>\n",
              "      <td>12000.000000</td>\n",
              "      <td>11977.000000</td>\n",
              "    </tr>\n",
              "    <tr>\n",
              "      <th>mean</th>\n",
              "      <td>1771.248750</td>\n",
              "      <td>18.128331</td>\n",
              "      <td>1771.248750</td>\n",
              "      <td>1785.132587</td>\n",
              "    </tr>\n",
              "    <tr>\n",
              "      <th>std</th>\n",
              "      <td>121.558865</td>\n",
              "      <td>1.321395</td>\n",
              "      <td>121.558865</td>\n",
              "      <td>121.664020</td>\n",
              "    </tr>\n",
              "    <tr>\n",
              "      <th>min</th>\n",
              "      <td>1290.000000</td>\n",
              "      <td>-2.000000</td>\n",
              "      <td>1290.000000</td>\n",
              "      <td>1290.000000</td>\n",
              "    </tr>\n",
              "    <tr>\n",
              "      <th>25%</th>\n",
              "      <td>1660.000000</td>\n",
              "      <td>17.000000</td>\n",
              "      <td>1660.000000</td>\n",
              "      <td>1674.000000</td>\n",
              "    </tr>\n",
              "    <tr>\n",
              "      <th>50%</th>\n",
              "      <td>1810.000000</td>\n",
              "      <td>19.000000</td>\n",
              "      <td>1810.000000</td>\n",
              "      <td>1830.000000</td>\n",
              "    </tr>\n",
              "    <tr>\n",
              "      <th>75%</th>\n",
              "      <td>1873.000000</td>\n",
              "      <td>19.000000</td>\n",
              "      <td>1873.000000</td>\n",
              "      <td>1890.000000</td>\n",
              "    </tr>\n",
              "    <tr>\n",
              "      <th>max</th>\n",
              "      <td>2010.000000</td>\n",
              "      <td>21.000000</td>\n",
              "      <td>2010.000000</td>\n",
              "      <td>2010.000000</td>\n",
              "    </tr>\n",
              "  </tbody>\n",
              "</table>\n",
              "</div>"
            ],
            "text/plain": [
              "       dating_sorting_date  dating_period  dating_year_early  dating_year_late\n",
              "count         12000.000000   12008.000000       12000.000000      11977.000000\n",
              "mean           1771.248750      18.128331        1771.248750       1785.132587\n",
              "std             121.558865       1.321395         121.558865        121.664020\n",
              "min            1290.000000      -2.000000        1290.000000       1290.000000\n",
              "25%            1660.000000      17.000000        1660.000000       1674.000000\n",
              "50%            1810.000000      19.000000        1810.000000       1830.000000\n",
              "75%            1873.000000      19.000000        1873.000000       1890.000000\n",
              "max            2010.000000      21.000000        2010.000000       2010.000000"
            ]
          },
          "metadata": {
            "tags": []
          }
        }
      ]
    },
    {
      "cell_type": "code",
      "metadata": {
        "colab": {
          "base_uri": "https://localhost:8080/",
          "height": 644
        },
        "id": "CcuOZgS0D0_t",
        "outputId": "6f6b9198-fcaf-41b6-ef83-ea759287bcb2"
      },
      "source": [
        "plt.subplots()\n",
        "sns.distplot(train[\"likes\"])\n",
        "plt.show()\n",
        "\n",
        "plt.subplots()\n",
        "sns.distplot(np.log1p(train[\"likes\"]))\n",
        "plt.show()\n",
        "#かなり偏りがある、log変換しても正規分布にはならない"
      ],
      "execution_count": 7,
      "outputs": [
        {
          "output_type": "stream",
          "text": [
            "/usr/local/lib/python3.7/dist-packages/seaborn/distributions.py:2557: FutureWarning: `distplot` is a deprecated function and will be removed in a future version. Please adapt your code to use either `displot` (a figure-level function with similar flexibility) or `histplot` (an axes-level function for histograms).\n",
            "  warnings.warn(msg, FutureWarning)\n"
          ],
          "name": "stderr"
        },
        {
          "output_type": "display_data",
          "data": {
            "image/png": "[encoded data removed]",
            "text/plain": [
              "<Figure size 432x288 with 1 Axes>"
            ]
          },
          "metadata": {
            "tags": []
          }
        },
        {
          "output_type": "stream",
          "text": [
            "/usr/local/lib/python3.7/dist-packages/seaborn/distributions.py:2557: FutureWarning: `distplot` is a deprecated function and will be removed in a future version. Please adapt your code to use either `displot` (a figure-level function with similar flexibility) or `histplot` (an axes-level function for histograms).\n",
            "  warnings.warn(msg, FutureWarning)\n"
          ],
          "name": "stderr"
        },
        {
          "output_type": "display_data",
          "data": {
            "image/png": "[encoded data removed]",
            "text/plain": [
              "<Figure size 432x288 with 1 Axes>"
            ]
          },
          "metadata": {
            "tags": []
          }
        }
      ]
    },
    {
      "cell_type": "code",
      "metadata": {
        "id": "CLyIdHZ-ECVZ"
      },
      "source": [
        "def plot_intersection(left, right, column, set_labels, ax=None):\n",
        "    left_set = set(left[column])\n",
        "    right_set = set(right[column])\n",
        "    venn2(subsets=(left_set, right_set), set_labels=set_labels, ax=ax)\n",
        "    return ax\n",
        "\n",
        "def plot_right_left_intersection(train_df, test_df, columns='__all__'):\n",
        "    \"\"\"2つのデータフレームのカラムの共通集合を可視化\"\"\"\n",
        "    if columns == '__all__':\n",
        "        columns = set(train_df.columns) & set(test_df.columns)\n",
        "\n",
        "    columns = list(columns)\n",
        "    nfigs = len(columns)\n",
        "    ncols = 6\n",
        "    nrows = - (- nfigs // ncols)\n",
        "    fig, axes = plt.subplots(figsize=(3 * ncols, 3 * nrows), ncols=ncols, nrows=nrows)\n",
        "    axes = np.ravel(axes)\n",
        "    for c, ax in zip(columns, axes):\n",
        "        plot_intersection(train_df, test_df, column=c, set_labels=('Train', 'Test'), ax=ax)\n",
        "        ax.set_title(c)\n",
        "    return fig, ax"
      ],
      "execution_count": 8,
      "outputs": []
    },
    {
      "cell_type": "code",
      "metadata": {
        "colab": {
          "base_uri": "https://localhost:8080/",
          "height": 359
        },
        "id": "R4i5hztmEtx0",
        "outputId": "5d60e690-ae77-4e03-847e-6f78b3adea66"
      },
      "source": [
        "fig_features = ['object_id', 'art_series_id', 'title', 'description', 'long_title',\n",
        "                'principal_maker', 'principal_or_first_maker', 'sub_title', \n",
        "                'copyright_holder', 'more_title', 'acquisition_method',\n",
        "                'acquisition_date', 'acquisition_credit_line',\n",
        "                'dating_presenting_date']\n",
        "\n",
        "train_fig = train[fig_features]\n",
        "test_fig = test[fig_features]\n",
        "fig, _ = plot_right_left_intersection(train_fig, test_fig)\n",
        "fig.tight_layout()#かなりばらけているがtitleなどは被るのはどうなのか→同じ作品"
      ],
      "execution_count": 9,
      "outputs": [
        {
          "output_type": "display_data",
          "data": {
            "image/png": "[encoded data removed]",
            "text/plain": [
              "<Figure size 1296x648 with 18 Axes>"
            ]
          },
          "metadata": {
            "tags": []
          }
        }
      ]
    },
    {
      "cell_type": "code",
      "metadata": {
        "colab": {
          "base_uri": "https://localhost:8080/"
        },
        "id": "RNRdAfMpGdmB",
        "outputId": "0c6bf783-918a-4b83-bde6-fe8a0ed02ba6"
      },
      "source": [
        "def load_multi_file(data_path, extension=\"*\", num=3):\n",
        "\n",
        "  list_dir = os.path.join(data_path, extension)\n",
        "  list_data = glob.glob(list_dir)\n",
        "  for file in list_data:\n",
        "    data = pd.read_csv(file)\n",
        "    print(f'{file}:{data.shape}')\n",
        "\n",
        "load_multi_file(INPUT_PATH)"
      ],
      "execution_count": 10,
      "outputs": [
        {
          "output_type": "stream",
          "text": [
            "/content/drive/MyDrive/atmacup10/data/raw/train.csv:(12026, 19)\n",
            "/content/drive/MyDrive/atmacup10/data/raw/principal_maker.csv:(24538, 6)\n",
            "/content/drive/MyDrive/atmacup10/data/raw/maker.csv:(3291, 6)\n",
            "/content/drive/MyDrive/atmacup10/data/raw/material.csv:(35394, 2)\n",
            "/content/drive/MyDrive/atmacup10/data/raw/production_place.csv:(17686, 2)\n",
            "/content/drive/MyDrive/atmacup10/data/raw/principal_maker_occupation.csv:(25372, 2)\n",
            "/content/drive/MyDrive/atmacup10/data/raw/technique.csv:(20481, 2)\n",
            "/content/drive/MyDrive/atmacup10/data/raw/historical_person.csv:(6745, 2)\n",
            "/content/drive/MyDrive/atmacup10/data/raw/test.csv:(12008, 18)\n",
            "/content/drive/MyDrive/atmacup10/data/raw/object_collection.csv:(14210, 2)\n",
            "/content/drive/MyDrive/atmacup10/data/raw/color.csv:(73636, 3)\n",
            "/content/drive/MyDrive/atmacup10/data/raw/atmacup10__sample_submission.csv:(12008, 1)\n",
            "/content/drive/MyDrive/atmacup10/data/raw/palette.csv:(527890, 5)\n"
          ],
          "name": "stdout"
        }
      ]
    },
    {
      "cell_type": "code",
      "metadata": {
        "colab": {
          "base_uri": "https://localhost:8080/",
          "height": 203
        },
        "id": "MlmgwH7FE22B",
        "outputId": "4d506e36-f16e-4d1d-fc8d-942b89357ab2"
      },
      "source": [
        "color = pd.read_csv(INPUT_PATH + \"color.csv\")\n",
        "color.head()"
      ],
      "execution_count": 11,
      "outputs": [
        {
          "output_type": "execute_result",
          "data": {
            "text/html": [
              "<div>\n",
              "<style scoped>\n",
              "    .dataframe tbody tr th:only-of-type {\n",
              "        vertical-align: middle;\n",
              "    }\n",
              "\n",
              "    .dataframe tbody tr th {\n",
              "        vertical-align: top;\n",
              "    }\n",
              "\n",
              "    .dataframe thead th {\n",
              "        text-align: right;\n",
              "    }\n",
              "</style>\n",
              "<table border=\"1\" class=\"dataframe\">\n",
              "  <thead>\n",
              "    <tr style=\"text-align: right;\">\n",
              "      <th></th>\n",
              "      <th>object_id</th>\n",
              "      <th>percentage</th>\n",
              "      <th>hex</th>\n",
              "    </tr>\n",
              "  </thead>\n",
              "  <tbody>\n",
              "    <tr>\n",
              "      <th>0</th>\n",
              "      <td>001020bd00b149970f78</td>\n",
              "      <td>0</td>\n",
              "      <td>#C7C7B6</td>\n",
              "    </tr>\n",
              "    <tr>\n",
              "      <th>1</th>\n",
              "      <td>001020bd00b149970f78</td>\n",
              "      <td>9</td>\n",
              "      <td>#5E5333</td>\n",
              "    </tr>\n",
              "    <tr>\n",
              "      <th>2</th>\n",
              "      <td>001020bd00b149970f78</td>\n",
              "      <td>14</td>\n",
              "      <td>#3E321B</td>\n",
              "    </tr>\n",
              "    <tr>\n",
              "      <th>3</th>\n",
              "      <td>001020bd00b149970f78</td>\n",
              "      <td>3</td>\n",
              "      <td>#B8AF84</td>\n",
              "    </tr>\n",
              "    <tr>\n",
              "      <th>4</th>\n",
              "      <td>001020bd00b149970f78</td>\n",
              "      <td>62</td>\n",
              "      <td>#15120C</td>\n",
              "    </tr>\n",
              "  </tbody>\n",
              "</table>\n",
              "</div>"
            ],
            "text/plain": [
              "              object_id  percentage       hex\n",
              "0  001020bd00b149970f78           0   #C7C7B6\n",
              "1  001020bd00b149970f78           9   #5E5333\n",
              "2  001020bd00b149970f78          14   #3E321B\n",
              "3  001020bd00b149970f78           3   #B8AF84\n",
              "4  001020bd00b149970f78          62   #15120C"
            ]
          },
          "metadata": {
            "tags": []
          },
          "execution_count": 11
        }
      ]
    },
    {
      "cell_type": "code",
      "metadata": {
        "colab": {
          "base_uri": "https://localhost:8080/",
          "height": 203
        },
        "id": "3WL5xdG4HJpo",
        "outputId": "b128a20a-a553-47d2-c48d-38c71f0f4b64"
      },
      "source": [
        "history = pd.read_csv(INPUT_PATH + \"historical_person.csv\")\n",
        "history.head()#オブジェクトに対しての作者の名前"
      ],
      "execution_count": 12,
      "outputs": [
        {
          "output_type": "execute_result",
          "data": {
            "text/html": [
              "<div>\n",
              "<style scoped>\n",
              "    .dataframe tbody tr th:only-of-type {\n",
              "        vertical-align: middle;\n",
              "    }\n",
              "\n",
              "    .dataframe tbody tr th {\n",
              "        vertical-align: top;\n",
              "    }\n",
              "\n",
              "    .dataframe thead th {\n",
              "        text-align: right;\n",
              "    }\n",
              "</style>\n",
              "<table border=\"1\" class=\"dataframe\">\n",
              "  <thead>\n",
              "    <tr style=\"text-align: right;\">\n",
              "      <th></th>\n",
              "      <th>object_id</th>\n",
              "      <th>name</th>\n",
              "    </tr>\n",
              "  </thead>\n",
              "  <tbody>\n",
              "    <tr>\n",
              "      <th>0</th>\n",
              "      <td>00133be3ff222c9b74b0</td>\n",
              "      <td>Staten-Generaal</td>\n",
              "    </tr>\n",
              "    <tr>\n",
              "      <th>1</th>\n",
              "      <td>00133be3ff222c9b74b0</td>\n",
              "      <td>Álvarez de Toledo, Fernando (3e hertog van Alva)</td>\n",
              "    </tr>\n",
              "    <tr>\n",
              "      <th>2</th>\n",
              "      <td>0026e030a0209b834b3e</td>\n",
              "      <td>Raad van Beroerten</td>\n",
              "    </tr>\n",
              "    <tr>\n",
              "      <th>3</th>\n",
              "      <td>0026e030a0209b834b3e</td>\n",
              "      <td>Álvarez de Toledo, Fernando (3e hertog van Alva)</td>\n",
              "    </tr>\n",
              "    <tr>\n",
              "      <th>4</th>\n",
              "      <td>00440ec5a4783b4b6bdb</td>\n",
              "      <td>Dolle Mina</td>\n",
              "    </tr>\n",
              "  </tbody>\n",
              "</table>\n",
              "</div>"
            ],
            "text/plain": [
              "              object_id                                              name\n",
              "0  00133be3ff222c9b74b0                                   Staten-Generaal\n",
              "1  00133be3ff222c9b74b0  Álvarez de Toledo, Fernando (3e hertog van Alva)\n",
              "2  0026e030a0209b834b3e                                Raad van Beroerten\n",
              "3  0026e030a0209b834b3e  Álvarez de Toledo, Fernando (3e hertog van Alva)\n",
              "4  00440ec5a4783b4b6bdb                                        Dolle Mina"
            ]
          },
          "metadata": {
            "tags": []
          },
          "execution_count": 12
        }
      ]
    },
    {
      "cell_type": "code",
      "metadata": {
        "colab": {
          "base_uri": "https://localhost:8080/",
          "height": 203
        },
        "id": "4pN-pcOdHpxk",
        "outputId": "e6731b78-d80d-4723-ae8c-96367d023dec"
      },
      "source": [
        "maker = pd.read_csv(INPUT_PATH + \"maker.csv\")\n",
        "maker.head()#作者の情報?"
      ],
      "execution_count": 13,
      "outputs": [
        {
          "output_type": "execute_result",
          "data": {
            "text/html": [
              "<div>\n",
              "<style scoped>\n",
              "    .dataframe tbody tr th:only-of-type {\n",
              "        vertical-align: middle;\n",
              "    }\n",
              "\n",
              "    .dataframe tbody tr th {\n",
              "        vertical-align: top;\n",
              "    }\n",
              "\n",
              "    .dataframe thead th {\n",
              "        text-align: right;\n",
              "    }\n",
              "</style>\n",
              "<table border=\"1\" class=\"dataframe\">\n",
              "  <thead>\n",
              "    <tr style=\"text-align: right;\">\n",
              "      <th></th>\n",
              "      <th>name</th>\n",
              "      <th>place_of_birth</th>\n",
              "      <th>date_of_birth</th>\n",
              "      <th>date_of_death</th>\n",
              "      <th>place_of_death</th>\n",
              "      <th>nationality</th>\n",
              "    </tr>\n",
              "  </thead>\n",
              "  <tbody>\n",
              "    <tr>\n",
              "      <th>0</th>\n",
              "      <td>'t Hooft</td>\n",
              "      <td>NaN</td>\n",
              "      <td>NaN</td>\n",
              "      <td>NaN</td>\n",
              "      <td>NaN</td>\n",
              "      <td>NaN</td>\n",
              "    </tr>\n",
              "    <tr>\n",
              "      <th>1</th>\n",
              "      <td>A. &amp; G. Taylor</td>\n",
              "      <td>NaN</td>\n",
              "      <td>NaN</td>\n",
              "      <td>NaN</td>\n",
              "      <td>NaN</td>\n",
              "      <td>NaN</td>\n",
              "    </tr>\n",
              "    <tr>\n",
              "      <th>2</th>\n",
              "      <td>A. Böeseken</td>\n",
              "      <td>'s-Heerenberg</td>\n",
              "      <td>1834-01-12</td>\n",
              "      <td>1919-02-11</td>\n",
              "      <td>Rotterdam</td>\n",
              "      <td>NaN</td>\n",
              "    </tr>\n",
              "    <tr>\n",
              "      <th>3</th>\n",
              "      <td>A. Cucumus &amp; Cie.</td>\n",
              "      <td>NaN</td>\n",
              "      <td>NaN</td>\n",
              "      <td>NaN</td>\n",
              "      <td>NaN</td>\n",
              "      <td>NaN</td>\n",
              "    </tr>\n",
              "    <tr>\n",
              "      <th>4</th>\n",
              "      <td>A. Dandoy</td>\n",
              "      <td>NaN</td>\n",
              "      <td>NaN</td>\n",
              "      <td>NaN</td>\n",
              "      <td>NaN</td>\n",
              "      <td>NaN</td>\n",
              "    </tr>\n",
              "  </tbody>\n",
              "</table>\n",
              "</div>"
            ],
            "text/plain": [
              "                name place_of_birth  ... place_of_death nationality\n",
              "0           't Hooft            NaN  ...            NaN         NaN\n",
              "1     A. & G. Taylor            NaN  ...            NaN         NaN\n",
              "2        A. Böeseken  's-Heerenberg  ...      Rotterdam         NaN\n",
              "3  A. Cucumus & Cie.            NaN  ...            NaN         NaN\n",
              "4          A. Dandoy            NaN  ...            NaN         NaN\n",
              "\n",
              "[5 rows x 6 columns]"
            ]
          },
          "metadata": {
            "tags": []
          },
          "execution_count": 13
        }
      ]
    },
    {
      "cell_type": "code",
      "metadata": {
        "colab": {
          "base_uri": "https://localhost:8080/",
          "height": 254
        },
        "id": "B0nzrV6xILeN",
        "outputId": "f84900eb-86da-4d47-9322-0e21609ed57e"
      },
      "source": [
        "pri_maker = pd.read_csv(INPUT_PATH + \"principal_maker.csv\")\n",
        "pri_maker.head()#主要な情報"
      ],
      "execution_count": 14,
      "outputs": [
        {
          "output_type": "execute_result",
          "data": {
            "text/html": [
              "<div>\n",
              "<style scoped>\n",
              "    .dataframe tbody tr th:only-of-type {\n",
              "        vertical-align: middle;\n",
              "    }\n",
              "\n",
              "    .dataframe tbody tr th {\n",
              "        vertical-align: top;\n",
              "    }\n",
              "\n",
              "    .dataframe thead th {\n",
              "        text-align: right;\n",
              "    }\n",
              "</style>\n",
              "<table border=\"1\" class=\"dataframe\">\n",
              "  <thead>\n",
              "    <tr style=\"text-align: right;\">\n",
              "      <th></th>\n",
              "      <th>id</th>\n",
              "      <th>object_id</th>\n",
              "      <th>qualification</th>\n",
              "      <th>roles</th>\n",
              "      <th>productionPlaces</th>\n",
              "      <th>maker_name</th>\n",
              "    </tr>\n",
              "  </thead>\n",
              "  <tbody>\n",
              "    <tr>\n",
              "      <th>0</th>\n",
              "      <td>1</td>\n",
              "      <td>000405d9a5e3f49fc49d</td>\n",
              "      <td>mentioned on object</td>\n",
              "      <td>NaN</td>\n",
              "      <td>NaN</td>\n",
              "      <td>Bernardus Bruining</td>\n",
              "    </tr>\n",
              "    <tr>\n",
              "      <th>1</th>\n",
              "      <td>2</td>\n",
              "      <td>001020bd00b149970f78</td>\n",
              "      <td>workshop of</td>\n",
              "      <td>painter</td>\n",
              "      <td>NaN</td>\n",
              "      <td>Jan Antonisz van Ravesteyn</td>\n",
              "    </tr>\n",
              "    <tr>\n",
              "      <th>2</th>\n",
              "      <td>3</td>\n",
              "      <td>0011d6be41612ec9eae3</td>\n",
              "      <td>NaN</td>\n",
              "      <td>painter</td>\n",
              "      <td>NaN</td>\n",
              "      <td>Jan Hackaert</td>\n",
              "    </tr>\n",
              "    <tr>\n",
              "      <th>3</th>\n",
              "      <td>4</td>\n",
              "      <td>0012765f7a97ccc3e9e9</td>\n",
              "      <td>attributed to</td>\n",
              "      <td>NaN</td>\n",
              "      <td>Netherlands</td>\n",
              "      <td>Richard Tepe</td>\n",
              "    </tr>\n",
              "    <tr>\n",
              "      <th>4</th>\n",
              "      <td>5</td>\n",
              "      <td>00133be3ff222c9b74b0</td>\n",
              "      <td>NaN</td>\n",
              "      <td>print maker</td>\n",
              "      <td>Northern Netherlands</td>\n",
              "      <td>Theodoor Koning</td>\n",
              "    </tr>\n",
              "  </tbody>\n",
              "</table>\n",
              "</div>"
            ],
            "text/plain": [
              "   id             object_id  ...      productionPlaces                  maker_name\n",
              "0   1  000405d9a5e3f49fc49d  ...                   NaN          Bernardus Bruining\n",
              "1   2  001020bd00b149970f78  ...                   NaN  Jan Antonisz van Ravesteyn\n",
              "2   3  0011d6be41612ec9eae3  ...                   NaN                Jan Hackaert\n",
              "3   4  0012765f7a97ccc3e9e9  ...           Netherlands                Richard Tepe\n",
              "4   5  00133be3ff222c9b74b0  ...  Northern Netherlands             Theodoor Koning\n",
              "\n",
              "[5 rows x 6 columns]"
            ]
          },
          "metadata": {
            "tags": []
          },
          "execution_count": 14
        }
      ]
    },
    {
      "cell_type": "code",
      "metadata": {
        "colab": {
          "base_uri": "https://localhost:8080/",
          "height": 203
        },
        "id": "akR_9Y_xIp8P",
        "outputId": "ff7a42b7-fa81-47e0-d4bd-4c21b20d2273"
      },
      "source": [
        "palette = pd.read_csv(INPUT_PATH + \"palette.csv\")\n",
        "palette.head()#色の詳細な情報"
      ],
      "execution_count": 15,
      "outputs": [
        {
          "output_type": "execute_result",
          "data": {
            "text/html": [
              "<div>\n",
              "<style scoped>\n",
              "    .dataframe tbody tr th:only-of-type {\n",
              "        vertical-align: middle;\n",
              "    }\n",
              "\n",
              "    .dataframe tbody tr th {\n",
              "        vertical-align: top;\n",
              "    }\n",
              "\n",
              "    .dataframe thead th {\n",
              "        text-align: right;\n",
              "    }\n",
              "</style>\n",
              "<table border=\"1\" class=\"dataframe\">\n",
              "  <thead>\n",
              "    <tr style=\"text-align: right;\">\n",
              "      <th></th>\n",
              "      <th>ratio</th>\n",
              "      <th>color_r</th>\n",
              "      <th>color_g</th>\n",
              "      <th>color_b</th>\n",
              "      <th>object_id</th>\n",
              "    </tr>\n",
              "  </thead>\n",
              "  <tbody>\n",
              "    <tr>\n",
              "      <th>0</th>\n",
              "      <td>0.013781</td>\n",
              "      <td>40</td>\n",
              "      <td>4</td>\n",
              "      <td>0</td>\n",
              "      <td>000405d9a5e3f49fc49d</td>\n",
              "    </tr>\n",
              "    <tr>\n",
              "      <th>1</th>\n",
              "      <td>0.040509</td>\n",
              "      <td>221</td>\n",
              "      <td>189</td>\n",
              "      <td>129</td>\n",
              "      <td>000405d9a5e3f49fc49d</td>\n",
              "    </tr>\n",
              "    <tr>\n",
              "      <th>2</th>\n",
              "      <td>0.036344</td>\n",
              "      <td>207</td>\n",
              "      <td>175</td>\n",
              "      <td>117</td>\n",
              "      <td>000405d9a5e3f49fc49d</td>\n",
              "    </tr>\n",
              "    <tr>\n",
              "      <th>3</th>\n",
              "      <td>0.033316</td>\n",
              "      <td>230</td>\n",
              "      <td>197</td>\n",
              "      <td>129</td>\n",
              "      <td>000405d9a5e3f49fc49d</td>\n",
              "    </tr>\n",
              "    <tr>\n",
              "      <th>4</th>\n",
              "      <td>0.039600</td>\n",
              "      <td>194</td>\n",
              "      <td>161</td>\n",
              "      <td>106</td>\n",
              "      <td>000405d9a5e3f49fc49d</td>\n",
              "    </tr>\n",
              "  </tbody>\n",
              "</table>\n",
              "</div>"
            ],
            "text/plain": [
              "      ratio  color_r  color_g  color_b             object_id\n",
              "0  0.013781       40        4        0  000405d9a5e3f49fc49d\n",
              "1  0.040509      221      189      129  000405d9a5e3f49fc49d\n",
              "2  0.036344      207      175      117  000405d9a5e3f49fc49d\n",
              "3  0.033316      230      197      129  000405d9a5e3f49fc49d\n",
              "4  0.039600      194      161      106  000405d9a5e3f49fc49d"
            ]
          },
          "metadata": {
            "tags": []
          },
          "execution_count": 15
        }
      ]
    },
    {
      "cell_type": "code",
      "metadata": {
        "colab": {
          "base_uri": "https://localhost:8080/",
          "height": 203
        },
        "id": "FH78Sj46I_wm",
        "outputId": "53b5c761-42e9-4415-ee7f-cb2c6aa6bede"
      },
      "source": [
        "material = pd.read_csv(INPUT_PATH + \"material.csv\")\n",
        "material.head()#素材"
      ],
      "execution_count": 16,
      "outputs": [
        {
          "output_type": "execute_result",
          "data": {
            "text/html": [
              "<div>\n",
              "<style scoped>\n",
              "    .dataframe tbody tr th:only-of-type {\n",
              "        vertical-align: middle;\n",
              "    }\n",
              "\n",
              "    .dataframe tbody tr th {\n",
              "        vertical-align: top;\n",
              "    }\n",
              "\n",
              "    .dataframe thead th {\n",
              "        text-align: right;\n",
              "    }\n",
              "</style>\n",
              "<table border=\"1\" class=\"dataframe\">\n",
              "  <thead>\n",
              "    <tr style=\"text-align: right;\">\n",
              "      <th></th>\n",
              "      <th>object_id</th>\n",
              "      <th>name</th>\n",
              "    </tr>\n",
              "  </thead>\n",
              "  <tbody>\n",
              "    <tr>\n",
              "      <th>0</th>\n",
              "      <td>000405d9a5e3f49fc49d</td>\n",
              "      <td>photographic paper</td>\n",
              "    </tr>\n",
              "    <tr>\n",
              "      <th>1</th>\n",
              "      <td>000405d9a5e3f49fc49d</td>\n",
              "      <td>cardboard</td>\n",
              "    </tr>\n",
              "    <tr>\n",
              "      <th>2</th>\n",
              "      <td>001020bd00b149970f78</td>\n",
              "      <td>oil paint (paint)</td>\n",
              "    </tr>\n",
              "    <tr>\n",
              "      <th>3</th>\n",
              "      <td>001020bd00b149970f78</td>\n",
              "      <td>panel</td>\n",
              "    </tr>\n",
              "    <tr>\n",
              "      <th>4</th>\n",
              "      <td>0011d6be41612ec9eae3</td>\n",
              "      <td>oil paint (paint)</td>\n",
              "    </tr>\n",
              "  </tbody>\n",
              "</table>\n",
              "</div>"
            ],
            "text/plain": [
              "              object_id                name\n",
              "0  000405d9a5e3f49fc49d  photographic paper\n",
              "1  000405d9a5e3f49fc49d           cardboard\n",
              "2  001020bd00b149970f78   oil paint (paint)\n",
              "3  001020bd00b149970f78               panel\n",
              "4  0011d6be41612ec9eae3   oil paint (paint)"
            ]
          },
          "metadata": {
            "tags": []
          },
          "execution_count": 16
        }
      ]
    },
    {
      "cell_type": "code",
      "metadata": {
        "colab": {
          "base_uri": "https://localhost:8080/",
          "height": 203
        },
        "id": "PqI6-uVsJQ0u",
        "outputId": "e7dc3dff-ee99-4e6b-d229-f578f18c3b7a"
      },
      "source": [
        "place = pd.read_csv(INPUT_PATH + \"production_place.csv\")\n",
        "place.head()"
      ],
      "execution_count": 17,
      "outputs": [
        {
          "output_type": "execute_result",
          "data": {
            "text/html": [
              "<div>\n",
              "<style scoped>\n",
              "    .dataframe tbody tr th:only-of-type {\n",
              "        vertical-align: middle;\n",
              "    }\n",
              "\n",
              "    .dataframe tbody tr th {\n",
              "        vertical-align: top;\n",
              "    }\n",
              "\n",
              "    .dataframe thead th {\n",
              "        text-align: right;\n",
              "    }\n",
              "</style>\n",
              "<table border=\"1\" class=\"dataframe\">\n",
              "  <thead>\n",
              "    <tr style=\"text-align: right;\">\n",
              "      <th></th>\n",
              "      <th>object_id</th>\n",
              "      <th>name</th>\n",
              "    </tr>\n",
              "  </thead>\n",
              "  <tbody>\n",
              "    <tr>\n",
              "      <th>0</th>\n",
              "      <td>0012765f7a97ccc3e9e9</td>\n",
              "      <td>Netherlands</td>\n",
              "    </tr>\n",
              "    <tr>\n",
              "      <th>1</th>\n",
              "      <td>00133be3ff222c9b74b0</td>\n",
              "      <td>Amsterdam</td>\n",
              "    </tr>\n",
              "    <tr>\n",
              "      <th>2</th>\n",
              "      <td>00133be3ff222c9b74b0</td>\n",
              "      <td>Northern Netherlands</td>\n",
              "    </tr>\n",
              "    <tr>\n",
              "      <th>3</th>\n",
              "      <td>0017be8caa87206532cb</td>\n",
              "      <td>Amsterdam</td>\n",
              "    </tr>\n",
              "    <tr>\n",
              "      <th>4</th>\n",
              "      <td>001b2b8c9d3aa1534dfe</td>\n",
              "      <td>Suriname</td>\n",
              "    </tr>\n",
              "  </tbody>\n",
              "</table>\n",
              "</div>"
            ],
            "text/plain": [
              "              object_id                  name\n",
              "0  0012765f7a97ccc3e9e9           Netherlands\n",
              "1  00133be3ff222c9b74b0             Amsterdam\n",
              "2  00133be3ff222c9b74b0  Northern Netherlands\n",
              "3  0017be8caa87206532cb             Amsterdam\n",
              "4  001b2b8c9d3aa1534dfe              Suriname"
            ]
          },
          "metadata": {
            "tags": []
          },
          "execution_count": 17
        }
      ]
    },
    {
      "cell_type": "code",
      "metadata": {
        "colab": {
          "base_uri": "https://localhost:8080/",
          "height": 198
        },
        "id": "84iq-VmPJarJ",
        "outputId": "787198a7-9ead-4cbf-c802-085f267215e3"
      },
      "source": [
        "obj = pd.read_csv(INPUT_PATH + \"object_collection.csv\")\n",
        "obj.head()"
      ],
      "execution_count": 18,
      "outputs": [
        {
          "output_type": "execute_result",
          "data": {
            "text/html": [
              "<div>\n",
              "<style scoped>\n",
              "    .dataframe tbody tr th:only-of-type {\n",
              "        vertical-align: middle;\n",
              "    }\n",
              "\n",
              "    .dataframe tbody tr th {\n",
              "        vertical-align: top;\n",
              "    }\n",
              "\n",
              "    .dataframe thead th {\n",
              "        text-align: right;\n",
              "    }\n",
              "</style>\n",
              "<table border=\"1\" class=\"dataframe\">\n",
              "  <thead>\n",
              "    <tr style=\"text-align: right;\">\n",
              "      <th></th>\n",
              "      <th>object_id</th>\n",
              "      <th>name</th>\n",
              "    </tr>\n",
              "  </thead>\n",
              "  <tbody>\n",
              "    <tr>\n",
              "      <th>0</th>\n",
              "      <td>001020bd00b149970f78</td>\n",
              "      <td>paintings</td>\n",
              "    </tr>\n",
              "    <tr>\n",
              "      <th>1</th>\n",
              "      <td>0011d6be41612ec9eae3</td>\n",
              "      <td>paintings</td>\n",
              "    </tr>\n",
              "    <tr>\n",
              "      <th>2</th>\n",
              "      <td>00133be3ff222c9b74b0</td>\n",
              "      <td>prints</td>\n",
              "    </tr>\n",
              "    <tr>\n",
              "      <th>3</th>\n",
              "      <td>00181d86ff1a7b95864e</td>\n",
              "      <td>paintings</td>\n",
              "    </tr>\n",
              "    <tr>\n",
              "      <th>4</th>\n",
              "      <td>001c52ae28ec106d9cd5</td>\n",
              "      <td>paintings</td>\n",
              "    </tr>\n",
              "  </tbody>\n",
              "</table>\n",
              "</div>"
            ],
            "text/plain": [
              "              object_id       name\n",
              "0  001020bd00b149970f78  paintings\n",
              "1  0011d6be41612ec9eae3  paintings\n",
              "2  00133be3ff222c9b74b0     prints\n",
              "3  00181d86ff1a7b95864e  paintings\n",
              "4  001c52ae28ec106d9cd5  paintings"
            ]
          },
          "metadata": {
            "tags": []
          },
          "execution_count": 18
        }
      ]
    },
    {
      "cell_type": "code",
      "metadata": {
        "colab": {
          "base_uri": "https://localhost:8080/",
          "height": 198
        },
        "id": "87a1SsLaJshd",
        "outputId": "12219f07-bc26-469c-dc68-e3e3306e998c"
      },
      "source": [
        "tech = pd.read_csv(INPUT_PATH + \"technique.csv\")\n",
        "tech.head()"
      ],
      "execution_count": 19,
      "outputs": [
        {
          "output_type": "execute_result",
          "data": {
            "text/html": [
              "<div>\n",
              "<style scoped>\n",
              "    .dataframe tbody tr th:only-of-type {\n",
              "        vertical-align: middle;\n",
              "    }\n",
              "\n",
              "    .dataframe tbody tr th {\n",
              "        vertical-align: top;\n",
              "    }\n",
              "\n",
              "    .dataframe thead th {\n",
              "        text-align: right;\n",
              "    }\n",
              "</style>\n",
              "<table border=\"1\" class=\"dataframe\">\n",
              "  <thead>\n",
              "    <tr style=\"text-align: right;\">\n",
              "      <th></th>\n",
              "      <th>object_id</th>\n",
              "      <th>name</th>\n",
              "    </tr>\n",
              "  </thead>\n",
              "  <tbody>\n",
              "    <tr>\n",
              "      <th>0</th>\n",
              "      <td>000405d9a5e3f49fc49d</td>\n",
              "      <td>albumen print</td>\n",
              "    </tr>\n",
              "    <tr>\n",
              "      <th>1</th>\n",
              "      <td>0012765f7a97ccc3e9e9</td>\n",
              "      <td>salted paper print</td>\n",
              "    </tr>\n",
              "    <tr>\n",
              "      <th>2</th>\n",
              "      <td>0012765f7a97ccc3e9e9</td>\n",
              "      <td>albumen print</td>\n",
              "    </tr>\n",
              "    <tr>\n",
              "      <th>3</th>\n",
              "      <td>00133be3ff222c9b74b0</td>\n",
              "      <td>etching</td>\n",
              "    </tr>\n",
              "    <tr>\n",
              "      <th>4</th>\n",
              "      <td>0017be8caa87206532cb</td>\n",
              "      <td>albumen print</td>\n",
              "    </tr>\n",
              "  </tbody>\n",
              "</table>\n",
              "</div>"
            ],
            "text/plain": [
              "              object_id                name\n",
              "0  000405d9a5e3f49fc49d       albumen print\n",
              "1  0012765f7a97ccc3e9e9  salted paper print\n",
              "2  0012765f7a97ccc3e9e9       albumen print\n",
              "3  00133be3ff222c9b74b0             etching\n",
              "4  0017be8caa87206532cb       albumen print"
            ]
          },
          "metadata": {
            "tags": []
          },
          "execution_count": 19
        }
      ]
    },
    {
      "cell_type": "code",
      "metadata": {
        "colab": {
          "base_uri": "https://localhost:8080/"
        },
        "id": "4T2J1Nl5J6X-",
        "outputId": "ac40b758-26c3-41d1-9022-bc59622e19bc"
      },
      "source": [
        "print(train.shape)\n",
        "# train = pd.merge(train, color, on=\"object_id\", how=\"left\")\n",
        "# test = pd.merge(test, color, on=\"object_id\", how=\"left\")"
      ],
      "execution_count": 20,
      "outputs": [
        {
          "output_type": "stream",
          "text": [
            "(12026, 19)\n"
          ],
          "name": "stdout"
        }
      ]
    },
    {
      "cell_type": "code",
      "metadata": {
        "colab": {
          "base_uri": "https://localhost:8080/"
        },
        "id": "bv3kYq6QLmox",
        "outputId": "b7e64f54-18da-4e4b-bb7e-84b03fb455cb"
      },
      "source": [
        "print(train.shape)\n",
        "print(test.shape)\n",
        "print(color.shape)"
      ],
      "execution_count": 41,
      "outputs": [
        {
          "output_type": "stream",
          "text": [
            "(12026, 19)\n",
            "(12008, 18)\n",
            "(73636, 3)\n"
          ],
          "name": "stdout"
        }
      ]
    },
    {
      "cell_type": "code",
      "metadata": {
        "id": "9Ca74DlMLvyQ"
      },
      "source": [
        "train = pd.merge(train, place, on=\"object_id\", how=\"left\")"
      ],
      "execution_count": 43,
      "outputs": []
    },
    {
      "cell_type": "code",
      "metadata": {
        "colab": {
          "base_uri": "https://localhost:8080/",
          "height": 1000
        },
        "id": "0dE98XrIRVKj",
        "outputId": "a403d620-f282-4437-8ef3-ba526b752b12"
      },
      "source": [
        "train.tail(10)"
      ],
      "execution_count": 49,
      "outputs": [
        {
          "output_type": "execute_result",
          "data": {
            "text/html": [
              "<div>\n",
              "<style scoped>\n",
              "    .dataframe tbody tr th:only-of-type {\n",
              "        vertical-align: middle;\n",
              "    }\n",
              "\n",
              "    .dataframe tbody tr th {\n",
              "        vertical-align: top;\n",
              "    }\n",
              "\n",
              "    .dataframe thead th {\n",
              "        text-align: right;\n",
              "    }\n",
              "</style>\n",
              "<table border=\"1\" class=\"dataframe\">\n",
              "  <thead>\n",
              "    <tr style=\"text-align: right;\">\n",
              "      <th></th>\n",
              "      <th>object_id</th>\n",
              "      <th>art_series_id</th>\n",
              "      <th>title</th>\n",
              "      <th>description</th>\n",
              "      <th>long_title</th>\n",
              "      <th>principal_maker</th>\n",
              "      <th>principal_or_first_maker</th>\n",
              "      <th>sub_title</th>\n",
              "      <th>copyright_holder</th>\n",
              "      <th>more_title</th>\n",
              "      <th>acquisition_method</th>\n",
              "      <th>acquisition_date</th>\n",
              "      <th>acquisition_credit_line</th>\n",
              "      <th>dating_presenting_date</th>\n",
              "      <th>dating_sorting_date</th>\n",
              "      <th>dating_period</th>\n",
              "      <th>dating_year_early</th>\n",
              "      <th>dating_year_late</th>\n",
              "      <th>likes</th>\n",
              "      <th>name</th>\n",
              "    </tr>\n",
              "  </thead>\n",
              "  <tbody>\n",
              "    <tr>\n",
              "      <th>13061</th>\n",
              "      <td>ffeb384305262f3500f5</td>\n",
              "      <td>5a715694484e2649d2b5</td>\n",
              "      <td>Aan het strand</td>\n",
              "      <td>Albumblad met zes foto's van een uitje naar he...</td>\n",
              "      <td>Aan het strand, anonymous, c. 1935 - c. 1936</td>\n",
              "      <td>anonymous</td>\n",
              "      <td>anonymous</td>\n",
              "      <td>h 90mm × w 60mm</td>\n",
              "      <td>NaN</td>\n",
              "      <td>Aan het strand</td>\n",
              "      <td>purchase</td>\n",
              "      <td>2006-04-25T00:00:00</td>\n",
              "      <td>NaN</td>\n",
              "      <td>c. 1935 - c. 1936</td>\n",
              "      <td>1935.0</td>\n",
              "      <td>20</td>\n",
              "      <td>1935.0</td>\n",
              "      <td>1936.0</td>\n",
              "      <td>6</td>\n",
              "      <td>Indonesia</td>\n",
              "    </tr>\n",
              "    <tr>\n",
              "      <th>13062</th>\n",
              "      <td>ffeb384305262f3500f5</td>\n",
              "      <td>5a715694484e2649d2b5</td>\n",
              "      <td>Aan het strand</td>\n",
              "      <td>Albumblad met zes foto's van een uitje naar he...</td>\n",
              "      <td>Aan het strand, anonymous, c. 1935 - c. 1936</td>\n",
              "      <td>anonymous</td>\n",
              "      <td>anonymous</td>\n",
              "      <td>h 90mm × w 60mm</td>\n",
              "      <td>NaN</td>\n",
              "      <td>Aan het strand</td>\n",
              "      <td>purchase</td>\n",
              "      <td>2006-04-25T00:00:00</td>\n",
              "      <td>NaN</td>\n",
              "      <td>c. 1935 - c. 1936</td>\n",
              "      <td>1935.0</td>\n",
              "      <td>20</td>\n",
              "      <td>1935.0</td>\n",
              "      <td>1936.0</td>\n",
              "      <td>6</td>\n",
              "      <td>China</td>\n",
              "    </tr>\n",
              "    <tr>\n",
              "      <th>13063</th>\n",
              "      <td>ffedf8af4fd5b3873164</td>\n",
              "      <td>2e4695e7f3260d52b3e6</td>\n",
              "      <td>De schilder H.W. Mesdag voor een doek</td>\n",
              "      <td>NaN</td>\n",
              "      <td>De schilder H.W. Mesdag voor een doek, Delboy ...</td>\n",
              "      <td>Delboy &amp; Baer</td>\n",
              "      <td>Delboy &amp; Baer</td>\n",
              "      <td>h 90mm × w 140mm</td>\n",
              "      <td>NaN</td>\n",
              "      <td>De schilder H.W. Mesdag voor een doek H W Mesdag</td>\n",
              "      <td>transfer</td>\n",
              "      <td>1994-01-01T00:00:00</td>\n",
              "      <td>NaN</td>\n",
              "      <td>1900 - 1920</td>\n",
              "      <td>1900.0</td>\n",
              "      <td>19</td>\n",
              "      <td>1900.0</td>\n",
              "      <td>1920.0</td>\n",
              "      <td>4</td>\n",
              "      <td>The Hague</td>\n",
              "    </tr>\n",
              "    <tr>\n",
              "      <th>13064</th>\n",
              "      <td>ffee34705ea44e1a0f79</td>\n",
              "      <td>7aa656a9ef243d93d009</td>\n",
              "      <td>Kaart van de streek tussen Mannheim en Landau,...</td>\n",
              "      <td>Kaart van de streek tussen Mannheim, Speyer en...</td>\n",
              "      <td>Kaart van de streek tussen Mannheim en Landau,...</td>\n",
              "      <td>Abraham Allard</td>\n",
              "      <td>Abraham Allard</td>\n",
              "      <td>h 245mm × w 278mm</td>\n",
              "      <td>NaN</td>\n",
              "      <td>Kaart van de streek tussen Mannheim en Landau,...</td>\n",
              "      <td>purchase</td>\n",
              "      <td>1881-01-01T00:00:00</td>\n",
              "      <td>NaN</td>\n",
              "      <td>1701 - 1714</td>\n",
              "      <td>1701.0</td>\n",
              "      <td>18</td>\n",
              "      <td>1701.0</td>\n",
              "      <td>1714.0</td>\n",
              "      <td>0</td>\n",
              "      <td>Leiden</td>\n",
              "    </tr>\n",
              "    <tr>\n",
              "      <th>13065</th>\n",
              "      <td>ffee34705ea44e1a0f79</td>\n",
              "      <td>7aa656a9ef243d93d009</td>\n",
              "      <td>Kaart van de streek tussen Mannheim en Landau,...</td>\n",
              "      <td>Kaart van de streek tussen Mannheim, Speyer en...</td>\n",
              "      <td>Kaart van de streek tussen Mannheim en Landau,...</td>\n",
              "      <td>Abraham Allard</td>\n",
              "      <td>Abraham Allard</td>\n",
              "      <td>h 245mm × w 278mm</td>\n",
              "      <td>NaN</td>\n",
              "      <td>Kaart van de streek tussen Mannheim en Landau,...</td>\n",
              "      <td>purchase</td>\n",
              "      <td>1881-01-01T00:00:00</td>\n",
              "      <td>NaN</td>\n",
              "      <td>1701 - 1714</td>\n",
              "      <td>1701.0</td>\n",
              "      <td>18</td>\n",
              "      <td>1701.0</td>\n",
              "      <td>1714.0</td>\n",
              "      <td>0</td>\n",
              "      <td>Amsterdam</td>\n",
              "    </tr>\n",
              "    <tr>\n",
              "      <th>13066</th>\n",
              "      <td>ffee34705ea44e1a0f79</td>\n",
              "      <td>7aa656a9ef243d93d009</td>\n",
              "      <td>Kaart van de streek tussen Mannheim en Landau,...</td>\n",
              "      <td>Kaart van de streek tussen Mannheim, Speyer en...</td>\n",
              "      <td>Kaart van de streek tussen Mannheim en Landau,...</td>\n",
              "      <td>Abraham Allard</td>\n",
              "      <td>Abraham Allard</td>\n",
              "      <td>h 245mm × w 278mm</td>\n",
              "      <td>NaN</td>\n",
              "      <td>Kaart van de streek tussen Mannheim en Landau,...</td>\n",
              "      <td>purchase</td>\n",
              "      <td>1881-01-01T00:00:00</td>\n",
              "      <td>NaN</td>\n",
              "      <td>1701 - 1714</td>\n",
              "      <td>1701.0</td>\n",
              "      <td>18</td>\n",
              "      <td>1701.0</td>\n",
              "      <td>1714.0</td>\n",
              "      <td>0</td>\n",
              "      <td>France</td>\n",
              "    </tr>\n",
              "    <tr>\n",
              "      <th>13067</th>\n",
              "      <td>ffefbe1faf771aa4f790</td>\n",
              "      <td>e79c2e74ed17533a7e56</td>\n",
              "      <td>Storm op het IJ aan het Blauwhoofd van Amsterd...</td>\n",
              "      <td>Zeilschepen in de problemen op het IJ ter hoog...</td>\n",
              "      <td>Storm op het IJ aan het Blauwhoofd van Amsterd...</td>\n",
              "      <td>Noach van der Meer (II)</td>\n",
              "      <td>Noach van der Meer (II)</td>\n",
              "      <td>h 217mm × w 306mm</td>\n",
              "      <td>NaN</td>\n",
              "      <td>Storm op het IJ aan het Blauwhoofd van Amsterd...</td>\n",
              "      <td>transfer</td>\n",
              "      <td>1887-01-01T00:00:00</td>\n",
              "      <td>NaN</td>\n",
              "      <td>1778</td>\n",
              "      <td>1778.0</td>\n",
              "      <td>18</td>\n",
              "      <td>1778.0</td>\n",
              "      <td>1778.0</td>\n",
              "      <td>0</td>\n",
              "      <td>Amsterdam</td>\n",
              "    </tr>\n",
              "    <tr>\n",
              "      <th>13068</th>\n",
              "      <td>fff08e76cbb969eaddc7</td>\n",
              "      <td>510358b74c1104edbbbd</td>\n",
              "      <td>Het rad van fortuin, ca. 1689</td>\n",
              "      <td>Het rad van fortuin, ca. 1689. Spotprent op de...</td>\n",
              "      <td>Het rad van fortuin, ca. 1689, Romeyn de Hoogh...</td>\n",
              "      <td>Romeyn de Hooghe</td>\n",
              "      <td>Romeyn de Hooghe</td>\n",
              "      <td>h 560mm × w 405mm</td>\n",
              "      <td>NaN</td>\n",
              "      <td>Het rad van fortuin, ca. 1689 'T Hedendaags Ra...</td>\n",
              "      <td>purchase</td>\n",
              "      <td>1881-01-01T00:00:00</td>\n",
              "      <td>NaN</td>\n",
              "      <td>1689 - 1690</td>\n",
              "      <td>1689.0</td>\n",
              "      <td>17</td>\n",
              "      <td>1689.0</td>\n",
              "      <td>1690.0</td>\n",
              "      <td>14</td>\n",
              "      <td>Northern Netherlands</td>\n",
              "    </tr>\n",
              "    <tr>\n",
              "      <th>13069</th>\n",
              "      <td>fff08e76cbb969eaddc7</td>\n",
              "      <td>510358b74c1104edbbbd</td>\n",
              "      <td>Het rad van fortuin, ca. 1689</td>\n",
              "      <td>Het rad van fortuin, ca. 1689. Spotprent op de...</td>\n",
              "      <td>Het rad van fortuin, ca. 1689, Romeyn de Hoogh...</td>\n",
              "      <td>Romeyn de Hooghe</td>\n",
              "      <td>Romeyn de Hooghe</td>\n",
              "      <td>h 560mm × w 405mm</td>\n",
              "      <td>NaN</td>\n",
              "      <td>Het rad van fortuin, ca. 1689 'T Hedendaags Ra...</td>\n",
              "      <td>purchase</td>\n",
              "      <td>1881-01-01T00:00:00</td>\n",
              "      <td>NaN</td>\n",
              "      <td>1689 - 1690</td>\n",
              "      <td>1689.0</td>\n",
              "      <td>17</td>\n",
              "      <td>1689.0</td>\n",
              "      <td>1690.0</td>\n",
              "      <td>14</td>\n",
              "      <td>Antwerp</td>\n",
              "    </tr>\n",
              "    <tr>\n",
              "      <th>13070</th>\n",
              "      <td>fff1d87d79953ddab2c6</td>\n",
              "      <td>b5b9203624d1f0db99a9</td>\n",
              "      <td>The Adoration of the Shepherds</td>\n",
              "      <td>De aanbidding der herders. Maria knielt achter...</td>\n",
              "      <td>The Adoration of the Shepherds, Bartolommeo Su...</td>\n",
              "      <td>Bartolommeo Suardi</td>\n",
              "      <td>Bartolommeo Suardi</td>\n",
              "      <td>h 50.5cm × w 43.5cm × d 14cm</td>\n",
              "      <td>NaN</td>\n",
              "      <td>The Adoration of the Shepherds</td>\n",
              "      <td>bequest</td>\n",
              "      <td>1941-01-01T00:00:00</td>\n",
              "      <td>J.W.E. vom Rath Bequest, Amsterdam</td>\n",
              "      <td>1500 - 1535</td>\n",
              "      <td>1500.0</td>\n",
              "      <td>15</td>\n",
              "      <td>1500.0</td>\n",
              "      <td>1535.0</td>\n",
              "      <td>171</td>\n",
              "      <td>NaN</td>\n",
              "    </tr>\n",
              "  </tbody>\n",
              "</table>\n",
              "</div>"
            ],
            "text/plain": [
              "                  object_id         art_series_id  ... likes                  name\n",
              "13061  ffeb384305262f3500f5  5a715694484e2649d2b5  ...     6             Indonesia\n",
              "13062  ffeb384305262f3500f5  5a715694484e2649d2b5  ...     6                 China\n",
              "13063  ffedf8af4fd5b3873164  2e4695e7f3260d52b3e6  ...     4             The Hague\n",
              "13064  ffee34705ea44e1a0f79  7aa656a9ef243d93d009  ...     0                Leiden\n",
              "13065  ffee34705ea44e1a0f79  7aa656a9ef243d93d009  ...     0             Amsterdam\n",
              "13066  ffee34705ea44e1a0f79  7aa656a9ef243d93d009  ...     0                France\n",
              "13067  ffefbe1faf771aa4f790  e79c2e74ed17533a7e56  ...     0             Amsterdam\n",
              "13068  fff08e76cbb969eaddc7  510358b74c1104edbbbd  ...    14  Northern Netherlands\n",
              "13069  fff08e76cbb969eaddc7  510358b74c1104edbbbd  ...    14               Antwerp\n",
              "13070  fff1d87d79953ddab2c6  b5b9203624d1f0db99a9  ...   171                   NaN\n",
              "\n",
              "[10 rows x 20 columns]"
            ]
          },
          "metadata": {
            "tags": []
          },
          "execution_count": 49
        }
      ]
    },
    {
      "cell_type": "code",
      "metadata": {
        "colab": {
          "base_uri": "https://localhost:8080/",
          "height": 202
        },
        "id": "NPN1tZceM0IT",
        "outputId": "a2dea081-aef6-407c-890a-c430136baf8f"
      },
      "source": [
        "train[train[\"object_id\"] == \"00181d86ff1a7b95864e\"]"
      ],
      "execution_count": 47,
      "outputs": [
        {
          "output_type": "execute_result",
          "data": {
            "text/html": [
              "<div>\n",
              "<style scoped>\n",
              "    .dataframe tbody tr th:only-of-type {\n",
              "        vertical-align: middle;\n",
              "    }\n",
              "\n",
              "    .dataframe tbody tr th {\n",
              "        vertical-align: top;\n",
              "    }\n",
              "\n",
              "    .dataframe thead th {\n",
              "        text-align: right;\n",
              "    }\n",
              "</style>\n",
              "<table border=\"1\" class=\"dataframe\">\n",
              "  <thead>\n",
              "    <tr style=\"text-align: right;\">\n",
              "      <th></th>\n",
              "      <th>object_id</th>\n",
              "      <th>art_series_id</th>\n",
              "      <th>title</th>\n",
              "      <th>description</th>\n",
              "      <th>long_title</th>\n",
              "      <th>principal_maker</th>\n",
              "      <th>principal_or_first_maker</th>\n",
              "      <th>sub_title</th>\n",
              "      <th>copyright_holder</th>\n",
              "      <th>more_title</th>\n",
              "      <th>acquisition_method</th>\n",
              "      <th>acquisition_date</th>\n",
              "      <th>acquisition_credit_line</th>\n",
              "      <th>dating_presenting_date</th>\n",
              "      <th>dating_sorting_date</th>\n",
              "      <th>dating_period</th>\n",
              "      <th>dating_year_early</th>\n",
              "      <th>dating_year_late</th>\n",
              "      <th>likes</th>\n",
              "      <th>name</th>\n",
              "    </tr>\n",
              "  </thead>\n",
              "  <tbody>\n",
              "    <tr>\n",
              "      <th>3</th>\n",
              "      <td>00181d86ff1a7b95864e</td>\n",
              "      <td>fa0891535500a4973db2</td>\n",
              "      <td>A St Bernard Dog</td>\n",
              "      <td>Een sint-bernardshond, staand in een landschap...</td>\n",
              "      <td>A St Bernard Dog, Bernard te Gempt, c. 1850 - ...</td>\n",
              "      <td>Bernard te Gempt</td>\n",
              "      <td>Bernard te Gempt</td>\n",
              "      <td>h 179cm × w 248cm × t 4cm</td>\n",
              "      <td>NaN</td>\n",
              "      <td>A St Bernard Dog</td>\n",
              "      <td>bequest</td>\n",
              "      <td>1881-01-01T00:00:00</td>\n",
              "      <td>J. Hilman Bequest, Amsterdam</td>\n",
              "      <td>c. 1850 - c. 1879</td>\n",
              "      <td>1850.0</td>\n",
              "      <td>19</td>\n",
              "      <td>1850.0</td>\n",
              "      <td>1879.0</td>\n",
              "      <td>100</td>\n",
              "      <td>NaN</td>\n",
              "    </tr>\n",
              "  </tbody>\n",
              "</table>\n",
              "</div>"
            ],
            "text/plain": [
              "              object_id         art_series_id  ... likes name\n",
              "3  00181d86ff1a7b95864e  fa0891535500a4973db2  ...   100  NaN\n",
              "\n",
              "[1 rows x 20 columns]"
            ]
          },
          "metadata": {
            "tags": []
          },
          "execution_count": 47
        }
      ]
    },
    {
      "cell_type": "code",
      "metadata": {
        "id": "Bazwaii-KQSF"
      },
      "source": [
        "# train = pd.merge(train, history, on=\"object_id\", how=\"left\")\n",
        "# test = pd.merge(test, history, on=\"object_id\", how=\"left\")\n",
        "\n",
        "# train = pd.merge(train, pri_maker, on=\"object_id\", how=\"left\")\n",
        "# test = pd.merge(test, pri_maker, on=\"object_id\", how=\"left\")\n",
        "\n",
        "# train = pd.merge(train, palette, on=\"object_id\", how=\"left\")\n",
        "# test = pd.merge(test, palette, on=\"object_id\", how=\"left\")\n",
        "\n",
        "# train = pd.merge(train, material, on=\"object_id\", how=\"left\")\n",
        "# test = pd.merge(test, material, on=\"object_id\", how=\"left\")\n",
        "\n",
        "# train = pd.merge(train, place, on=\"object_id\", how=\"left\")\n",
        "# test = pd.merge(test, place, on=\"object_id\", how=\"left\")\n",
        "\n",
        "# train = pd.merge(train, obj, on=\"object_id\", how=\"left\")\n",
        "# test = pd.merge(test, obj, on=\"object_id\", how=\"left\")\n",
        "\n",
        "# train = pd.merge(train, tech, on=\"object_id\", how=\"left\")\n",
        "# test = pd.merge(test, tech, on=\"object_id\", how=\"left\")"
      ],
      "execution_count": 28,
      "outputs": []
    }
  ]
}